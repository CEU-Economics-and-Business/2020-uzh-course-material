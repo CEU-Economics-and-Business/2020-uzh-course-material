{
 "cells": [
  {
   "cell_type": "code",
   "execution_count": 1,
   "metadata": {},
   "outputs": [],
   "source": [
    "import numpy as np"
   ]
  },
  {
   "cell_type": "markdown",
   "metadata": {},
   "source": [
    "## Intermezzo"
   ]
  },
  {
   "cell_type": "code",
   "execution_count": 2,
   "metadata": {},
   "outputs": [
    {
     "name": "stdout",
     "output_type": "stream",
     "text": [
      "data  numpy-intro.ipynb  numpy-more-exciting.ipynb\r\n"
     ]
    }
   ],
   "source": [
    "!ls"
   ]
  },
  {
   "cell_type": "code",
   "execution_count": 3,
   "metadata": {},
   "outputs": [
    {
     "name": "stdout",
     "output_type": "stream",
     "text": [
      "/home/lachlan/my_phd/courses/pp4rs/playground/python-numpy\r\n"
     ]
    }
   ],
   "source": [
    "!pwd"
   ]
  },
  {
   "cell_type": "code",
   "execution_count": 4,
   "metadata": {},
   "outputs": [
    {
     "name": "stdout",
     "output_type": "stream",
     "text": [
      "collect_weather_data.R\tLAUST010000000000003.csv  mrw_data  zrh_weather.txt\r\n"
     ]
    }
   ],
   "source": [
    "!ls data/"
   ]
  },
  {
   "cell_type": "code",
   "execution_count": 5,
   "metadata": {},
   "outputs": [
    {
     "name": "stdout",
     "output_type": "stream",
     "text": [
      "intermediate.csv\t mrw.csv     nonoil_school.csv\toecd_school.csv\r\n",
      "intermediate_school.csv  nonoil.csv  oecd.csv\r\n"
     ]
    }
   ],
   "source": [
    "!ls data/mrw_data/"
   ]
  },
  {
   "cell_type": "code",
   "execution_count": 6,
   "metadata": {},
   "outputs": [
    {
     "name": "stdout",
     "output_type": "stream",
     "text": [
      "rgdpw60,rgdpw85,gdpgrowth,popgrowth,i_y\r\n",
      "2485.0,4371.0,4.8,2.6,24.1\r\n",
      "1588.0,1171.0,0.8,2.1,5.8\r\n",
      "1116.0,1071.0,2.2,2.4,10.8\r\n",
      "959.0,3671.0,8.6,3.2,28.3\r\n",
      "529.0,857.0,2.9,0.9,12.7\r\n",
      "755.0,663.0,1.2,1.7,5.1\r\n",
      "889.0,2190.0,5.7,2.1,12.8\r\n",
      "838.0,789.0,1.5,1.7,10.5\r\n",
      "908.0,462.0,-0.9,1.9,6.9\r\n"
     ]
    }
   ],
   "source": [
    "!head data/mrw_data/nonoil.csv"
   ]
  },
  {
   "cell_type": "code",
   "execution_count": 7,
   "metadata": {},
   "outputs": [],
   "source": [
    "nonoil = np.genfromtxt('data/mrw_data/nonoil.csv', delimiter = ',',\n",
    "                      skip_header = 1)"
   ]
  },
  {
   "cell_type": "code",
   "execution_count": 8,
   "metadata": {},
   "outputs": [
    {
     "data": {
      "text/plain": [
       "array([[ 2.4850e+03,  4.3710e+03,  4.8000e+00,  2.6000e+00,  2.4100e+01],\n",
       "       [ 1.5880e+03,  1.1710e+03,  8.0000e-01,  2.1000e+00,  5.8000e+00],\n",
       "       [ 1.1160e+03,  1.0710e+03,  2.2000e+00,  2.4000e+00,  1.0800e+01],\n",
       "       [ 9.5900e+02,  3.6710e+03,  8.6000e+00,  3.2000e+00,  2.8300e+01],\n",
       "       [ 5.2900e+02,  8.5700e+02,  2.9000e+00,  9.0000e-01,  1.2700e+01],\n",
       "       [ 7.5500e+02,  6.6300e+02,  1.2000e+00,  1.7000e+00,  5.1000e+00],\n",
       "       [ 8.8900e+02,  2.1900e+03,  5.7000e+00,  2.1000e+00,  1.2800e+01],\n",
       "       [ 8.3800e+02,  7.8900e+02,  1.5000e+00,  1.7000e+00,  1.0500e+01],\n",
       "       [ 9.0800e+02,  4.6200e+02, -9.0000e-01,  1.9000e+00,  6.9000e+00],\n",
       "       [ 1.0090e+03,  2.6240e+03,  6.2000e+00,  2.4000e+00,  2.8800e+01],\n",
       "       [ 9.0700e+02,  2.1600e+03,  6.0000e+00,  2.5000e+00,  1.6300e+01],\n",
       "       [ 5.3300e+02,  6.0800e+02,  2.8000e+00,  2.3000e+00,  5.4000e+00],\n",
       "       [ 1.0090e+03,  7.2700e+02,  1.0000e+00,  2.3000e+00,  9.1000e+00],\n",
       "       [ 1.3860e+03,  1.7040e+03,  5.1000e+00,  4.3000e+00,  1.2400e+01],\n",
       "       [ 9.4400e+02,  1.3290e+03,  4.8000e+00,  3.4000e+00,  1.7400e+01],\n",
       "       [ 8.6300e+02,  9.4400e+02,  3.3000e+00,  3.0000e+00,  2.1500e+01],\n",
       "       [ 1.1940e+03,  9.7500e+02,  1.4000e+00,  2.2000e+00,  7.1000e+00],\n",
       "       [ 4.5500e+02,  8.2300e+02,  4.8000e+00,  2.4000e+00,  1.3200e+01],\n",
       "       [ 7.3700e+02,  7.1000e+02,  2.1000e+00,  2.2000e+00,  7.3000e+00],\n",
       "       [ 7.7700e+02,  1.0380e+03,  3.3000e+00,  2.2000e+00,  2.5600e+01],\n",
       "       [ 1.9730e+03,  2.9670e+03,  4.2000e+00,  2.6000e+00,  1.7100e+01],\n",
       "       [ 1.0300e+03,  2.3480e+03,  5.8000e+00,  2.5000e+00,  8.3000e+00],\n",
       "       [ 1.4200e+03,  1.0350e+03,  1.4000e+00,  2.7000e+00,  6.1000e+00],\n",
       "       [ 5.3900e+02,  8.4100e+02,  4.4000e+00,  2.6000e+00,  1.0300e+01],\n",
       "       [ 1.0550e+03,  1.1860e+03,  2.8000e+00,  2.4000e+00,  1.2000e+01],\n",
       "       [ 4.6000e+02,  6.9600e+02,  4.5000e+00,  2.8000e+00,  7.9000e+00],\n",
       "       [ 1.3920e+03,  1.4500e+03,  2.5000e+00,  2.3000e+00,  9.6000e+00],\n",
       "       [ 5.1100e+02,  8.0500e+02,  3.4000e+00,  1.6000e+00,  1.0900e+01],\n",
       "       [ 9.0100e+02,  6.5700e+02,  1.8000e+00,  3.1000e+00,  1.3800e+01],\n",
       "       [ 4.7680e+03,  7.0640e+03,  3.9000e+00,  2.3000e+00,  2.1600e+01],\n",
       "       [ 1.2540e+03,  1.0380e+03,  1.8000e+00,  2.6000e+00,  1.3200e+01],\n",
       "       [ 3.8300e+02,  7.1000e+02,  5.3000e+00,  2.9000e+00,  1.8000e+01],\n",
       "       [ 7.7700e+02,  9.7800e+02,  3.4000e+00,  2.5000e+00,  1.5500e+01],\n",
       "       [ 1.6230e+03,  3.6610e+03,  5.6000e+00,  2.4000e+00,  1.3800e+01],\n",
       "       [ 6.0100e+02,  6.6700e+02,  3.5000e+00,  3.1000e+00,  4.1000e+00],\n",
       "       [ 5.9400e+02,  4.1200e+02,  9.0000e-01,  2.4000e+00,  6.5000e+00],\n",
       "       [ 1.4100e+03,  1.2170e+03,  2.1000e+00,  2.7000e+00,  3.1700e+01],\n",
       "       [ 1.1870e+03,  2.1070e+03,  5.1000e+00,  2.8000e+00,  2.1100e+01],\n",
       "       [ 8.4600e+02,  1.2210e+03,  4.0000e+00,  2.6000e+00,  6.8000e+00],\n",
       "       [ 5.1700e+02,  1.0310e+03,  4.5000e+00,  1.7000e+00,  1.1400e+01],\n",
       "       [ 3.0850e+03,  1.3372e+04,  8.9000e+00,  3.0000e+00,  1.9900e+01],\n",
       "       [ 9.7800e+02,  1.3390e+03,  3.6000e+00,  2.4000e+00,  1.6800e+01],\n",
       "       [ 4.8020e+03,  1.0450e+04,  5.9000e+00,  2.8000e+00,  2.8500e+01],\n",
       "       [ 3.4930e+03,  1.3893e+04,  6.8000e+00,  1.2000e+00,  3.6000e+01],\n",
       "       [ 2.1830e+03,  4.3120e+03,  5.4000e+00,  2.7000e+00,  1.7600e+01],\n",
       "       [ 1.2850e+03,  4.7750e+03,  7.9000e+00,  2.7000e+00,  2.2300e+01],\n",
       "       [ 2.1540e+03,  5.7880e+03,  7.1000e+00,  3.2000e+00,  2.3200e+01],\n",
       "       [ 8.3300e+02,  9.7400e+02,  2.6000e+00,  2.0000e+00,  5.9000e+00],\n",
       "       [ 1.0770e+03,  2.1750e+03,  5.8000e+00,  3.0000e+00,  1.2200e+01],\n",
       "       [ 1.6680e+03,  2.4300e+03,  4.5000e+00,  3.0000e+00,  1.4900e+01],\n",
       "       [ 2.7930e+03,  1.4678e+04,  9.2000e+00,  2.6000e+00,  3.2200e+01],\n",
       "       [ 1.7940e+03,  2.4820e+03,  3.7000e+00,  2.4000e+00,  1.4800e+01],\n",
       "       [ 2.3820e+03,  6.0420e+03,  6.7000e+00,  3.0000e+00,  1.5900e+01],\n",
       "       [ 1.3080e+03,  3.2200e+03,  6.7000e+00,  3.1000e+00,  1.8000e+01],\n",
       "       [ 5.9390e+03,  1.3327e+04,  3.6000e+00,  4.0000e-01,  2.3400e+01],\n",
       "       [ 6.7890e+03,  1.4290e+04,  3.5000e+00,  5.0000e-01,  2.3400e+01],\n",
       "       [ 8.5510e+03,  1.6491e+04,  3.2000e+00,  6.0000e-01,  2.6600e+01],\n",
       "       [ 6.5270e+03,  1.3779e+04,  3.7000e+00,  7.0000e-01,  3.6900e+01],\n",
       "       [ 7.2150e+03,  1.5027e+04,  3.9000e+00,  1.0000e+00,  2.6200e+01],\n",
       "       [ 7.6950e+03,  1.5297e+04,  3.3000e+00,  5.0000e-01,  2.8500e+01],\n",
       "       [ 2.2570e+03,  6.8680e+03,  5.1000e+00,  7.0000e-01,  2.9300e+01],\n",
       "       [ 4.4110e+03,  8.6750e+03,  3.8000e+00,  1.1000e+00,  2.5900e+01],\n",
       "       [ 4.9130e+03,  1.1082e+04,  3.8000e+00,  6.0000e-01,  2.4900e+01],\n",
       "       [ 7.6890e+03,  1.3177e+04,  3.6000e+00,  1.4000e+00,  2.5800e+01],\n",
       "       [ 7.9380e+03,  1.9723e+04,  4.3000e+00,  7.0000e-01,  2.9100e+01],\n",
       "       [ 2.2720e+03,  5.8270e+03,  4.4000e+00,  6.0000e-01,  2.2500e+01],\n",
       "       [ 3.7660e+03,  9.9030e+03,  4.9000e+00,  1.0000e+00,  1.7700e+01],\n",
       "       [ 7.8020e+03,  1.5237e+04,  3.1000e+00,  4.0000e-01,  2.4500e+01],\n",
       "       [ 1.0308e+04,  1.5881e+04,  2.5000e+00,  8.0000e-01,  2.9700e+01],\n",
       "       [ 2.2740e+03,  4.4440e+03,  5.2000e+00,  2.5000e+00,  2.0200e+01],\n",
       "       [ 7.6340e+03,  1.3331e+04,  2.5000e+00,  3.0000e-01,  1.8400e+01],\n",
       "       [ 1.0286e+04,  1.7935e+04,  4.2000e+00,  2.0000e+00,  2.3300e+01],\n",
       "       [ 3.3600e+03,  4.4920e+03,  4.7000e+00,  3.5000e+00,  1.4700e+01],\n",
       "       [ 1.9390e+03,  3.3080e+03,  5.1000e+00,  2.9000e+00,  1.7100e+01],\n",
       "       [ 2.0420e+03,  1.9970e+03,  3.3000e+00,  3.3000e+00,  8.0000e+00],\n",
       "       [ 2.4810e+03,  3.0340e+03,  3.9000e+00,  3.1000e+00,  8.8000e+00],\n",
       "       [ 1.0960e+03,  1.2370e+03,  1.8000e+00,  1.3000e+00,  7.1000e+00],\n",
       "       [ 1.4300e+03,  1.8220e+03,  4.0000e+00,  3.1000e+00,  1.3800e+01],\n",
       "       [ 2.7260e+03,  3.0800e+03,  2.1000e+00,  1.6000e+00,  2.0600e+01],\n",
       "       [ 4.2290e+03,  7.3800e+03,  5.5000e+00,  3.3000e+00,  1.9500e+01],\n",
       "       [ 3.1950e+03,  3.9780e+03,  4.1000e+00,  3.3000e+00,  1.4500e+01],\n",
       "       [ 2.4230e+03,  5.0210e+03,  5.9000e+00,  3.0000e+00,  2.6100e+01],\n",
       "       [ 9.2530e+03,  1.1285e+04,  2.7000e+00,  1.9000e+00,  2.0400e+01],\n",
       "       [ 1.2362e+04,  1.8988e+04,  3.2000e+00,  1.5000e+00,  2.1100e+01],\n",
       "       [ 4.8520e+03,  5.5330e+03,  2.1000e+00,  1.5000e+00,  2.5300e+01],\n",
       "       [ 1.6180e+03,  2.0550e+03,  3.3000e+00,  2.4000e+00,  1.3300e+01],\n",
       "       [ 1.8420e+03,  5.5630e+03,  7.3000e+00,  2.9000e+00,  2.3200e+01],\n",
       "       [ 5.1890e+03,  5.5330e+03,  2.6000e+00,  2.3000e+00,  2.9700e+01],\n",
       "       [ 2.6720e+03,  4.4050e+03,  5.0000e+00,  3.0000e+00,  1.8000e+01],\n",
       "       [ 2.1980e+03,  4.5040e+03,  5.7000e+00,  2.8000e+00,  2.4400e+01],\n",
       "       [ 1.9510e+03,  3.9140e+03,  5.5000e+00,  2.7000e+00,  1.1700e+01],\n",
       "       [ 3.3100e+03,  3.7750e+03,  3.5000e+00,  2.9000e+00,  1.2000e+01],\n",
       "       [ 5.1190e+03,  5.4950e+03,  9.0000e-01,  6.0000e-01,  1.1800e+01],\n",
       "       [ 1.0367e+04,  6.3360e+03,  1.9000e+00,  3.8000e+00,  1.1400e+01],\n",
       "       [ 8.4400e+03,  1.3409e+04,  3.8000e+00,  2.0000e+00,  3.1500e+01],\n",
       "       [ 8.7900e+02,  2.1590e+03,  5.5000e+00,  1.9000e+00,  1.3900e+01],\n",
       "       [ 9.5230e+03,  1.2308e+04,  2.7000e+00,  1.7000e+00,  2.2500e+01],\n",
       "       [ 1.7810e+03,  2.5440e+03,  3.5000e+00,  2.1000e+00,  1.6200e+01]])"
      ]
     },
     "execution_count": 8,
     "metadata": {},
     "output_type": "execute_result"
    }
   ],
   "source": [
    "nonoil"
   ]
  },
  {
   "cell_type": "code",
   "execution_count": 9,
   "metadata": {},
   "outputs": [],
   "source": [
    "nonoil = np.genfromtxt('data/mrw_data/nonoil.csv', delimiter = ',',\n",
    "                      names = True)"
   ]
  },
  {
   "cell_type": "code",
   "execution_count": 10,
   "metadata": {},
   "outputs": [
    {
     "data": {
      "text/plain": [
       "array([(2485., 4371., 4.8, 2.6, 24.1), (1588., 1171., 0.8, 2.1,  5.8),\n",
       "       (1116., 1071., 2.2, 2.4, 10.8)],\n",
       "      dtype=[('rgdpw60', '<f8'), ('rgdpw85', '<f8'), ('gdpgrowth', '<f8'), ('popgrowth', '<f8'), ('i_y', '<f8')])"
      ]
     },
     "execution_count": 10,
     "metadata": {},
     "output_type": "execute_result"
    }
   ],
   "source": [
    "nonoil[0:3]"
   ]
  },
  {
   "cell_type": "code",
   "execution_count": 11,
   "metadata": {},
   "outputs": [
    {
     "data": {
      "text/plain": [
       "array([24.1,  5.8, 10.8, 28.3, 12.7,  5.1, 12.8, 10.5,  6.9, 28.8, 16.3,\n",
       "        5.4,  9.1, 12.4, 17.4, 21.5,  7.1, 13.2,  7.3, 25.6, 17.1,  8.3,\n",
       "        6.1, 10.3, 12. ,  7.9,  9.6, 10.9, 13.8, 21.6, 13.2, 18. , 15.5,\n",
       "       13.8,  4.1,  6.5, 31.7, 21.1,  6.8, 11.4, 19.9, 16.8, 28.5, 36. ,\n",
       "       17.6, 22.3, 23.2,  5.9, 12.2, 14.9, 32.2, 14.8, 15.9, 18. , 23.4,\n",
       "       23.4, 26.6, 36.9, 26.2, 28.5, 29.3, 25.9, 24.9, 25.8, 29.1, 22.5,\n",
       "       17.7, 24.5, 29.7, 20.2, 18.4, 23.3, 14.7, 17.1,  8. ,  8.8,  7.1,\n",
       "       13.8, 20.6, 19.5, 14.5, 26.1, 20.4, 21.1, 25.3, 13.3, 23.2, 29.7,\n",
       "       18. , 24.4, 11.7, 12. , 11.8, 11.4, 31.5, 13.9, 22.5, 16.2])"
      ]
     },
     "execution_count": 11,
     "metadata": {},
     "output_type": "execute_result"
    }
   ],
   "source": [
    "nonoil['i_y']"
   ]
  },
  {
   "cell_type": "code",
   "execution_count": 12,
   "metadata": {},
   "outputs": [
    {
     "data": {
      "text/plain": [
       "numpy.ndarray"
      ]
     },
     "execution_count": 12,
     "metadata": {},
     "output_type": "execute_result"
    }
   ],
   "source": [
    "type(nonoil)"
   ]
  },
  {
   "cell_type": "code",
   "execution_count": 13,
   "metadata": {},
   "outputs": [
    {
     "data": {
      "text/plain": [
       "(98,)"
      ]
     },
     "execution_count": 13,
     "metadata": {},
     "output_type": "execute_result"
    }
   ],
   "source": [
    "nonoil.shape"
   ]
  },
  {
   "cell_type": "markdown",
   "metadata": {},
   "source": [
    "#  Functions of arrays"
   ]
  },
  {
   "cell_type": "code",
   "execution_count": 14,
   "metadata": {},
   "outputs": [],
   "source": [
    "log_gdp_85 = np.log(nonoil['rgdpw85'])"
   ]
  },
  {
   "cell_type": "code",
   "execution_count": 15,
   "metadata": {},
   "outputs": [
    {
     "data": {
      "text/plain": [
       "array([8.38274709, 7.06561336, 6.97634807, 8.20821938, 6.75343792,\n",
       "       6.49677499, 7.69165682, 6.67076632, 6.13556489, 7.87245515,\n",
       "       7.6778635 , 6.41017488, 6.58892648, 7.44073371, 7.19218206,\n",
       "       6.85012617, 6.88243747, 6.7129562 , 6.56526497, 6.94505106,\n",
       "       7.99530662, 7.76131918, 6.94215671, 6.73459166, 7.07834158,\n",
       "       6.54534966, 7.27931884, 6.69084228, 6.48768402, 8.86276674,\n",
       "       6.94505106, 6.56526497, 6.88550967, 8.20549161, 6.50279005,\n",
       "       6.02102335, 7.10414409, 7.65302041, 7.10742547, 6.93828448,\n",
       "       9.50091825, 7.19967835, 9.25435726, 9.5391404 , 8.36915711,\n",
       "       8.47114925, 8.66354209, 6.8814113 , 7.68478394, 7.79564654,\n",
       "       9.59410505, 7.81681997, 8.70649036, 8.07713664, 9.49754733,\n",
       "       9.56731527, 9.71057006, 9.53090097, 9.61760386, 9.63541201,\n",
       "       8.83462822, 9.0682006 , 9.31307745, 9.48622816, 9.88954075,\n",
       "       8.67025757, 9.20059302, 9.63148196, 9.67287871, 8.39931015,\n",
       "       9.49784743, 9.79450939, 8.41005332, 8.10409906, 7.59940133,\n",
       "       8.01763716, 7.12044437, 7.50769008, 8.03268488, 8.90652892,\n",
       "       8.28853446, 8.5213844 , 9.33122969, 9.85156248, 8.61848544,\n",
       "       7.62803113, 8.62389281, 8.61848544, 8.39049554, 8.41272117,\n",
       "       8.27231515, 8.23615566, 8.61159387, 8.75400293, 9.5036814 ,\n",
       "       7.67740043, 9.41800474, 7.84149292])"
      ]
     },
     "execution_count": 15,
     "metadata": {},
     "output_type": "execute_result"
    }
   ],
   "source": [
    "log_gdp_85"
   ]
  },
  {
   "cell_type": "code",
   "execution_count": 16,
   "metadata": {},
   "outputs": [
    {
     "data": {
      "text/plain": [
       "(98,)"
      ]
     },
     "execution_count": 16,
     "metadata": {},
     "output_type": "execute_result"
    }
   ],
   "source": [
    "log_gdp_85.shape"
   ]
  },
  {
   "cell_type": "code",
   "execution_count": 17,
   "metadata": {},
   "outputs": [],
   "source": [
    "log_i_y = np.log(nonoil['i_y'] / 100)"
   ]
  },
  {
   "cell_type": "code",
   "execution_count": 18,
   "metadata": {},
   "outputs": [],
   "source": [
    "log_popgrowth = np.log(nonoil['popgrowth'] / 100 + 0.05)"
   ]
  },
  {
   "cell_type": "code",
   "execution_count": 19,
   "metadata": {},
   "outputs": [],
   "source": [
    "iota = np.ones_like(log_i_y)"
   ]
  },
  {
   "cell_type": "code",
   "execution_count": 20,
   "metadata": {},
   "outputs": [
    {
     "data": {
      "text/plain": [
       "(98,)"
      ]
     },
     "execution_count": 20,
     "metadata": {},
     "output_type": "execute_result"
    }
   ],
   "source": [
    "iota.shape"
   ]
  },
  {
   "cell_type": "code",
   "execution_count": 21,
   "metadata": {},
   "outputs": [
    {
     "data": {
      "text/plain": [
       "True"
      ]
     },
     "execution_count": 21,
     "metadata": {},
     "output_type": "execute_result"
    }
   ],
   "source": [
    "iota.shape == log_i_y.shape"
   ]
  },
  {
   "cell_type": "code",
   "execution_count": 22,
   "metadata": {},
   "outputs": [],
   "source": [
    "X = np.stack([iota, log_i_y, log_popgrowth], axis = 1)"
   ]
  },
  {
   "cell_type": "code",
   "execution_count": 23,
   "metadata": {},
   "outputs": [
    {
     "data": {
      "text/plain": [
       "(98, 3)"
      ]
     },
     "execution_count": 23,
     "metadata": {},
     "output_type": "execute_result"
    }
   ],
   "source": [
    "X.shape"
   ]
  },
  {
   "cell_type": "code",
   "execution_count": 24,
   "metadata": {},
   "outputs": [],
   "source": [
    "y = log_gdp_85"
   ]
  },
  {
   "cell_type": "markdown",
   "metadata": {},
   "source": [
    "# array operations"
   ]
  },
  {
   "cell_type": "code",
   "execution_count": 25,
   "metadata": {},
   "outputs": [
    {
     "data": {
      "text/plain": [
       "array([[ 1.        ,  1.        ,  1.        ,  1.        ,  1.        ,\n",
       "         1.        ,  1.        ,  1.        ,  1.        ,  1.        ,\n",
       "         1.        ,  1.        ,  1.        ,  1.        ,  1.        ,\n",
       "         1.        ,  1.        ,  1.        ,  1.        ,  1.        ,\n",
       "         1.        ,  1.        ,  1.        ,  1.        ,  1.        ,\n",
       "         1.        ,  1.        ,  1.        ,  1.        ,  1.        ,\n",
       "         1.        ,  1.        ,  1.        ,  1.        ,  1.        ,\n",
       "         1.        ,  1.        ,  1.        ,  1.        ,  1.        ,\n",
       "         1.        ,  1.        ,  1.        ,  1.        ,  1.        ,\n",
       "         1.        ,  1.        ,  1.        ,  1.        ,  1.        ,\n",
       "         1.        ,  1.        ,  1.        ,  1.        ,  1.        ,\n",
       "         1.        ,  1.        ,  1.        ,  1.        ,  1.        ,\n",
       "         1.        ,  1.        ,  1.        ,  1.        ,  1.        ,\n",
       "         1.        ,  1.        ,  1.        ,  1.        ,  1.        ,\n",
       "         1.        ,  1.        ,  1.        ,  1.        ,  1.        ,\n",
       "         1.        ,  1.        ,  1.        ,  1.        ,  1.        ,\n",
       "         1.        ,  1.        ,  1.        ,  1.        ,  1.        ,\n",
       "         1.        ,  1.        ,  1.        ,  1.        ,  1.        ,\n",
       "         1.        ,  1.        ,  1.        ,  1.        ,  1.        ,\n",
       "         1.        ,  1.        ,  1.        ],\n",
       "       [-1.42295835, -2.84731227, -2.22562405, -1.26230838, -2.06356819,\n",
       "        -2.97592965, -2.05572502, -2.25379493, -2.67364877, -1.2447948 ,\n",
       "        -1.81400508, -2.91877123, -2.39689577, -2.08747371, -1.74869998,\n",
       "        -1.53711725, -2.6450754 , -2.02495336, -2.61729584, -1.36257783,\n",
       "        -1.76609172, -2.48891467, -2.79688141, -2.27302629, -2.12026354,\n",
       "        -2.53830743, -2.34340709, -2.2164074 , -1.98050159, -1.53247687,\n",
       "        -2.02495336, -1.71479843, -1.86433016, -1.98050159, -3.19418321,\n",
       "        -2.73336801, -1.14885351, -1.55589715, -2.68824757, -2.17155683,\n",
       "        -1.61445045, -1.7837913 , -1.2552661 , -1.02165125, -1.73727128,\n",
       "        -1.50058351, -1.46101791, -2.83021784, -2.10373423, -1.90380897,\n",
       "        -1.13320373, -1.91054301, -1.83885108, -1.71479843, -1.45243416,\n",
       "        -1.45243416, -1.32425897, -0.99695863, -1.33941078, -1.2552661 ,\n",
       "        -1.22758267, -1.35092722, -1.39030238, -1.35479569, -1.23443201,\n",
       "        -1.49165488, -1.73160555, -1.40649707, -1.21402314, -1.59948758,\n",
       "        -1.69281952, -1.45671683, -1.91732269, -1.76609172, -2.52572864,\n",
       "        -2.43041846, -2.6450754 , -1.98050159, -1.57987911, -1.63475572,\n",
       "        -1.93102154, -1.34323487, -1.58963529, -1.55589715, -1.37436579,\n",
       "        -2.01740615, -1.46101791, -1.21402314, -1.71479843, -1.41058705,\n",
       "        -2.14558134, -2.12026354, -2.13707065, -2.17155683, -1.15518264,\n",
       "        -1.97328135, -1.49165488, -1.82015894],\n",
       "       [-2.57702194, -2.6450754 , -2.60369019, -2.50103603, -2.83021784,\n",
       "        -2.70306266, -2.6450754 , -2.70306266, -2.67364877, -2.60369019,\n",
       "        -2.59026717, -2.61729584, -2.61729584, -2.37515579, -2.47693848,\n",
       "        -2.52572864, -2.63108916, -2.60369019, -2.63108916, -2.63108916,\n",
       "        -2.57702194, -2.59026717, -2.56394986, -2.57702194, -2.60369019,\n",
       "        -2.55104645, -2.61729584, -2.71810054, -2.51330612, -2.61729584,\n",
       "        -2.57702194, -2.53830743, -2.59026717, -2.60369019, -2.51330612,\n",
       "        -2.60369019, -2.56394986, -2.55104645, -2.57702194, -2.70306266,\n",
       "        -2.52572864, -2.60369019, -2.55104645, -2.78062089, -2.56394986,\n",
       "        -2.56394986, -2.50103603, -2.65926004, -2.52572864, -2.52572864,\n",
       "        -2.57702194, -2.60369019, -2.52572864, -2.51330612, -2.91877123,\n",
       "        -2.90042209, -2.88240359, -2.86470401, -2.81341072, -2.90042209,\n",
       "        -2.86470401, -2.79688141, -2.88240359, -2.7488722 , -2.86470401,\n",
       "        -2.88240359, -2.81341072, -2.91877123, -2.84731227, -2.59026717,\n",
       "        -2.93746337, -2.65926004, -2.46510402, -2.53830743, -2.48891467,\n",
       "        -2.51330612, -2.76462055, -2.51330612, -2.71810054, -2.48891467,\n",
       "        -2.48891467, -2.52572864, -2.67364877, -2.73336801, -2.73336801,\n",
       "        -2.60369019, -2.53830743, -2.61729584, -2.52572864, -2.55104645,\n",
       "        -2.56394986, -2.53830743, -2.88240359, -2.43041846, -2.65926004,\n",
       "        -2.67364877, -2.70306266, -2.6450754 ]])"
      ]
     },
     "execution_count": 25,
     "metadata": {},
     "output_type": "execute_result"
    }
   ],
   "source": [
    "# transposes\n",
    "X.T"
   ]
  },
  {
   "cell_type": "code",
   "execution_count": 26,
   "metadata": {},
   "outputs": [
    {
     "data": {
      "text/plain": [
       "array([  788.69523114, -1418.73302646, -2087.18508137])"
      ]
     },
     "execution_count": 26,
     "metadata": {},
     "output_type": "execute_result"
    }
   ],
   "source": [
    "# matrix multiplication\n",
    "\n",
    "X.T @ y"
   ]
  },
  {
   "cell_type": "code",
   "execution_count": 27,
   "metadata": {},
   "outputs": [],
   "source": [
    "y2 = y[:, np.newaxis]"
   ]
  },
  {
   "cell_type": "code",
   "execution_count": 28,
   "metadata": {},
   "outputs": [
    {
     "data": {
      "text/plain": [
       "(98, 1)"
      ]
     },
     "execution_count": 28,
     "metadata": {},
     "output_type": "execute_result"
    }
   ],
   "source": [
    "y2.shape"
   ]
  },
  {
   "cell_type": "code",
   "execution_count": 29,
   "metadata": {},
   "outputs": [
    {
     "data": {
      "text/plain": [
       "array([[  788.69523114],\n",
       "       [-1418.73302646],\n",
       "       [-2087.18508137]])"
      ]
     },
     "execution_count": 29,
     "metadata": {},
     "output_type": "execute_result"
    }
   ],
   "source": [
    "np.matmul(X.T, y2)"
   ]
  },
  {
   "cell_type": "code",
   "execution_count": 30,
   "metadata": {},
   "outputs": [
    {
     "data": {
      "text/plain": [
       "array([[5.28352259, 0.20707318, 1.85315507],\n",
       "       [0.20707318, 0.04313087, 0.04824796],\n",
       "       [1.85315507, 0.04824796, 0.66841862]])"
      ]
     },
     "execution_count": 30,
     "metadata": {},
     "output_type": "execute_result"
    }
   ],
   "source": [
    "np.linalg.inv(X.T @ X)   # real inverse"
   ]
  },
  {
   "cell_type": "code",
   "execution_count": 31,
   "metadata": {},
   "outputs": [],
   "source": [
    "import scipy.linalg as la"
   ]
  },
  {
   "cell_type": "code",
   "execution_count": 32,
   "metadata": {},
   "outputs": [
    {
     "data": {
      "text/plain": [
       "array([[5.28352259, 0.20707318, 1.85315508],\n",
       "       [0.20707318, 0.04313087, 0.04824796],\n",
       "       [1.85315507, 0.04824796, 0.66841862]])"
      ]
     },
     "execution_count": 32,
     "metadata": {},
     "output_type": "execute_result"
    }
   ],
   "source": [
    "la.pinv2(X.T @ X)"
   ]
  },
  {
   "cell_type": "code",
   "execution_count": 33,
   "metadata": {},
   "outputs": [],
   "source": [
    "beta_ols = (la.pinv2(X.T @ X)) @ (X.T @ y2)"
   ]
  },
  {
   "cell_type": "code",
   "execution_count": 34,
   "metadata": {},
   "outputs": [
    {
     "data": {
      "text/plain": [
       "array([[ 5.4298831 ],\n",
       "       [ 1.42401428],\n",
       "       [-1.98977448]])"
      ]
     },
     "execution_count": 34,
     "metadata": {},
     "output_type": "execute_result"
    }
   ],
   "source": [
    "beta_ols"
   ]
  },
  {
   "cell_type": "markdown",
   "metadata": {},
   "source": [
    "## Challenge\n",
    "\n",
    "1. write a function import_mrw() that imports either nonoil.csv, intermediate.csv or oecd.csv so that\n",
    "\n",
    "my_data = import_mrw(path, dataset) \n",
    "\n",
    "imports the data,\n",
    "\n",
    "i.e. import_mrw(path = 'data/mrw_data', dataset = nonoil)\n",
    "\n",
    "imports the nonoil data and so on\n",
    "\n",
    "2. write a function that takes the original data and creates the X and y variables needed for regression. so that function I want is something like\n",
    "\n",
    "y, X = create_matrices(dataset, mankiws_constant)\n",
    "\n",
    "where mankiws_constant defaults to 0.05\n",
    "\n",
    "3. write a function ols_coeff(X, y) that returns OLS coefficients \n",
    "\n",
    "4. modify import_mrw so that it can append the *_school.csv data during the import with an option 'add_school = True'\n"
   ]
  },
  {
   "cell_type": "code",
   "execution_count": 45,
   "metadata": {},
   "outputs": [],
   "source": [
    "# q 1\n",
    "def import_mrw(path, dataset):\n",
    "    \n",
    "    data_subsets = ['nonoil', 'intermediate', 'oecd']\n",
    "    \n",
    "    assert dataset in data_subsets \n",
    "    \n",
    "    return np.genfromtxt((path + '/' + dataset + '.csv'), delimiter= ',',\n",
    "                         names = True)"
   ]
  },
  {
   "cell_type": "code",
   "execution_count": 46,
   "metadata": {},
   "outputs": [],
   "source": [
    "my_path = 'data/mrw_data'\n",
    "data = 'africa'"
   ]
  },
  {
   "cell_type": "code",
   "execution_count": 47,
   "metadata": {},
   "outputs": [
    {
     "ename": "AssertionError",
     "evalue": "",
     "output_type": "error",
     "traceback": [
      "\u001b[0;31m---------------------------------------------------------------------------\u001b[0m",
      "\u001b[0;31mAssertionError\u001b[0m                            Traceback (most recent call last)",
      "\u001b[0;32m<ipython-input-47-a52fc45f970b>\u001b[0m in \u001b[0;36m<module>\u001b[0;34m\u001b[0m\n\u001b[0;32m----> 1\u001b[0;31m \u001b[0moecd\u001b[0m \u001b[0;34m=\u001b[0m \u001b[0mimport_mrw\u001b[0m\u001b[0;34m(\u001b[0m\u001b[0mmy_path\u001b[0m\u001b[0;34m,\u001b[0m \u001b[0mdata\u001b[0m\u001b[0;34m)\u001b[0m\u001b[0;34m\u001b[0m\u001b[0;34m\u001b[0m\u001b[0m\n\u001b[0m",
      "\u001b[0;32m<ipython-input-45-e5e1a6e07eea>\u001b[0m in \u001b[0;36mimport_mrw\u001b[0;34m(path, dataset)\u001b[0m\n\u001b[1;32m      4\u001b[0m     \u001b[0mdata_subsets\u001b[0m \u001b[0;34m=\u001b[0m \u001b[0;34m[\u001b[0m\u001b[0;34m'nonoil'\u001b[0m\u001b[0;34m,\u001b[0m \u001b[0;34m'intermediate'\u001b[0m\u001b[0;34m,\u001b[0m \u001b[0;34m'oecd'\u001b[0m\u001b[0;34m]\u001b[0m\u001b[0;34m\u001b[0m\u001b[0;34m\u001b[0m\u001b[0m\n\u001b[1;32m      5\u001b[0m \u001b[0;34m\u001b[0m\u001b[0m\n\u001b[0;32m----> 6\u001b[0;31m     \u001b[0;32massert\u001b[0m \u001b[0mdataset\u001b[0m \u001b[0;32min\u001b[0m \u001b[0mdata_subsets\u001b[0m\u001b[0;34m\u001b[0m\u001b[0;34m\u001b[0m\u001b[0m\n\u001b[0m\u001b[1;32m      7\u001b[0m \u001b[0;34m\u001b[0m\u001b[0m\n\u001b[1;32m      8\u001b[0m     return np.genfromtxt((path + '/' + dataset + '.csv'), delimiter= ',',\n",
      "\u001b[0;31mAssertionError\u001b[0m: "
     ]
    }
   ],
   "source": [
    "oecd = import_mrw(my_path, data)"
   ]
  },
  {
   "cell_type": "code",
   "execution_count": 51,
   "metadata": {},
   "outputs": [],
   "source": [
    "# q2\n",
    "\n",
    "def create_matrices(dataset, mankiws_constant = 0.05):\n",
    "    \n",
    "    # y\n",
    "    log_gdp_85 = np.log(dataset['rgdpw85'])\n",
    "    \n",
    "    # x vars\n",
    "    iota = np.ones_like(log_gdp_85)\n",
    "    log_i_y = np.log(dataset['i_y'] / 100)\n",
    "    log_popgrowth = np.log(dataset['popgrowth'] / 100 + mankiws_constant)\n",
    "    \n",
    "    # stacks Xs \n",
    "    X = np.stack([iota, log_i_y, log_popgrowth], axis = 1)\n",
    "    \n",
    "    return log_gdp_85, X\n",
    "    \n",
    "    \n",
    "    \n",
    "    "
   ]
  },
  {
   "cell_type": "code",
   "execution_count": 53,
   "metadata": {},
   "outputs": [],
   "source": [
    "y1, x1 = create_matrices(oecd)"
   ]
  },
  {
   "cell_type": "code",
   "execution_count": 54,
   "metadata": {},
   "outputs": [],
   "source": [
    "y2, x2 = create_matrices(oecd, mankiws_constant= 0.05)"
   ]
  },
  {
   "cell_type": "code",
   "execution_count": 55,
   "metadata": {},
   "outputs": [],
   "source": [
    "y3, x3 = create_matrices(oecd, mankiws_constant= 0.07)"
   ]
  },
  {
   "cell_type": "code",
   "execution_count": 57,
   "metadata": {},
   "outputs": [],
   "source": [
    "def ols_coeff(y, X):\n",
    "    \n",
    "    beta_ols = (np.linalg.inv(X.T @ X)) @ (X.T @ y) \n",
    "    \n",
    "    return beta_ols"
   ]
  },
  {
   "cell_type": "code",
   "execution_count": 58,
   "metadata": {},
   "outputs": [],
   "source": [
    "oecd_beta = ols_coeff(y1, x1)"
   ]
  },
  {
   "cell_type": "code",
   "execution_count": 59,
   "metadata": {},
   "outputs": [
    {
     "data": {
      "text/plain": [
       "array([ 8.02060676,  0.49988954, -0.74192146])"
      ]
     },
     "execution_count": 59,
     "metadata": {},
     "output_type": "execute_result"
    }
   ],
   "source": [
    "oecd_beta"
   ]
  },
  {
   "cell_type": "code",
   "execution_count": 75,
   "metadata": {},
   "outputs": [],
   "source": [
    "# q4 \n",
    "\n",
    "def import_mrw2(path, dataset, school = True):\n",
    "    \n",
    "    data_subsets = ['nonoil', 'intermediate', 'oecd']\n",
    "    \n",
    "    assert dataset in data_subsets \n",
    "    \n",
    "    base_data = np.genfromtxt((path + '/' + dataset + '.csv'), delimiter= ',',\n",
    "                         names = True)\n",
    "    \n",
    "    if school == True:\n",
    "        school_fp = path + '/' + dataset + '_school'  + '.csv'\n",
    "        school_data = np.genfromtxt(school_fp, names = ['school'])\n",
    "        \n",
    "        base_data = np.stack([base_data, school_data], axis = 1)\n",
    "        \n",
    "    return base_data\n",
    "        "
   ]
  },
  {
   "cell_type": "code",
   "execution_count": 76,
   "metadata": {},
   "outputs": [
    {
     "ename": "TypeError",
     "evalue": "invalid type promotion",
     "output_type": "error",
     "traceback": [
      "\u001b[0;31m---------------------------------------------------------------------------\u001b[0m",
      "\u001b[0;31mTypeError\u001b[0m                                 Traceback (most recent call last)",
      "\u001b[0;32m<ipython-input-76-471f5655f5e8>\u001b[0m in \u001b[0;36m<module>\u001b[0;34m\u001b[0m\n\u001b[0;32m----> 1\u001b[0;31m \u001b[0moecd2\u001b[0m \u001b[0;34m=\u001b[0m \u001b[0mimport_mrw2\u001b[0m\u001b[0;34m(\u001b[0m\u001b[0;34m'data/mrw_data/'\u001b[0m\u001b[0;34m,\u001b[0m \u001b[0mdataset\u001b[0m \u001b[0;34m=\u001b[0m \u001b[0;34m'oecd'\u001b[0m\u001b[0;34m,\u001b[0m \u001b[0mschool\u001b[0m \u001b[0;34m=\u001b[0m \u001b[0;32mTrue\u001b[0m\u001b[0;34m)\u001b[0m\u001b[0;34m\u001b[0m\u001b[0;34m\u001b[0m\u001b[0m\n\u001b[0m\u001b[1;32m      2\u001b[0m \u001b[0;34m\u001b[0m\u001b[0m\n",
      "\u001b[0;32m<ipython-input-75-790f938baea6>\u001b[0m in \u001b[0;36mimport_mrw2\u001b[0;34m(path, dataset, school)\u001b[0m\n\u001b[1;32m     14\u001b[0m         \u001b[0mschool_data\u001b[0m \u001b[0;34m=\u001b[0m \u001b[0mnp\u001b[0m\u001b[0;34m.\u001b[0m\u001b[0mgenfromtxt\u001b[0m\u001b[0;34m(\u001b[0m\u001b[0mschool_fp\u001b[0m\u001b[0;34m,\u001b[0m \u001b[0mnames\u001b[0m \u001b[0;34m=\u001b[0m \u001b[0;34m[\u001b[0m\u001b[0;34m'school'\u001b[0m\u001b[0;34m]\u001b[0m\u001b[0;34m)\u001b[0m\u001b[0;34m\u001b[0m\u001b[0;34m\u001b[0m\u001b[0m\n\u001b[1;32m     15\u001b[0m \u001b[0;34m\u001b[0m\u001b[0m\n\u001b[0;32m---> 16\u001b[0;31m         \u001b[0mbase_data\u001b[0m \u001b[0;34m=\u001b[0m \u001b[0mnp\u001b[0m\u001b[0;34m.\u001b[0m\u001b[0mstack\u001b[0m\u001b[0;34m(\u001b[0m\u001b[0;34m[\u001b[0m\u001b[0mbase_data\u001b[0m\u001b[0;34m,\u001b[0m \u001b[0mschool_data\u001b[0m\u001b[0;34m]\u001b[0m\u001b[0;34m,\u001b[0m \u001b[0maxis\u001b[0m \u001b[0;34m=\u001b[0m \u001b[0;36m1\u001b[0m\u001b[0;34m)\u001b[0m\u001b[0;34m\u001b[0m\u001b[0;34m\u001b[0m\u001b[0m\n\u001b[0m\u001b[1;32m     17\u001b[0m \u001b[0;34m\u001b[0m\u001b[0m\n\u001b[1;32m     18\u001b[0m     \u001b[0;32mreturn\u001b[0m \u001b[0mbase_data\u001b[0m\u001b[0;34m\u001b[0m\u001b[0;34m\u001b[0m\u001b[0m\n",
      "\u001b[0;32m<__array_function__ internals>\u001b[0m in \u001b[0;36mstack\u001b[0;34m(*args, **kwargs)\u001b[0m\n",
      "\u001b[0;32m~/anaconda3/lib/python3.7/site-packages/numpy/core/shape_base.py\u001b[0m in \u001b[0;36mstack\u001b[0;34m(arrays, axis, out)\u001b[0m\n\u001b[1;32m    430\u001b[0m     \u001b[0msl\u001b[0m \u001b[0;34m=\u001b[0m \u001b[0;34m(\u001b[0m\u001b[0mslice\u001b[0m\u001b[0;34m(\u001b[0m\u001b[0;32mNone\u001b[0m\u001b[0;34m)\u001b[0m\u001b[0;34m,\u001b[0m\u001b[0;34m)\u001b[0m \u001b[0;34m*\u001b[0m \u001b[0maxis\u001b[0m \u001b[0;34m+\u001b[0m \u001b[0;34m(\u001b[0m\u001b[0m_nx\u001b[0m\u001b[0;34m.\u001b[0m\u001b[0mnewaxis\u001b[0m\u001b[0;34m,\u001b[0m\u001b[0;34m)\u001b[0m\u001b[0;34m\u001b[0m\u001b[0;34m\u001b[0m\u001b[0m\n\u001b[1;32m    431\u001b[0m     \u001b[0mexpanded_arrays\u001b[0m \u001b[0;34m=\u001b[0m \u001b[0;34m[\u001b[0m\u001b[0marr\u001b[0m\u001b[0;34m[\u001b[0m\u001b[0msl\u001b[0m\u001b[0;34m]\u001b[0m \u001b[0;32mfor\u001b[0m \u001b[0marr\u001b[0m \u001b[0;32min\u001b[0m \u001b[0marrays\u001b[0m\u001b[0;34m]\u001b[0m\u001b[0;34m\u001b[0m\u001b[0;34m\u001b[0m\u001b[0m\n\u001b[0;32m--> 432\u001b[0;31m     \u001b[0;32mreturn\u001b[0m \u001b[0m_nx\u001b[0m\u001b[0;34m.\u001b[0m\u001b[0mconcatenate\u001b[0m\u001b[0;34m(\u001b[0m\u001b[0mexpanded_arrays\u001b[0m\u001b[0;34m,\u001b[0m \u001b[0maxis\u001b[0m\u001b[0;34m=\u001b[0m\u001b[0maxis\u001b[0m\u001b[0;34m,\u001b[0m \u001b[0mout\u001b[0m\u001b[0;34m=\u001b[0m\u001b[0mout\u001b[0m\u001b[0;34m)\u001b[0m\u001b[0;34m\u001b[0m\u001b[0;34m\u001b[0m\u001b[0m\n\u001b[0m\u001b[1;32m    433\u001b[0m \u001b[0;34m\u001b[0m\u001b[0m\n\u001b[1;32m    434\u001b[0m \u001b[0;34m\u001b[0m\u001b[0m\n",
      "\u001b[0;32m<__array_function__ internals>\u001b[0m in \u001b[0;36mconcatenate\u001b[0;34m(*args, **kwargs)\u001b[0m\n",
      "\u001b[0;31mTypeError\u001b[0m: invalid type promotion"
     ]
    }
   ],
   "source": [
    "oecd2 = import_mrw2('data/mrw_data/', dataset = 'oecd', school = True)\n",
    "\n"
   ]
  },
  {
   "cell_type": "code",
   "execution_count": 62,
   "metadata": {},
   "outputs": [
    {
     "data": {
      "text/plain": [
       "array([(10.9,), ( 8. ,), ( 9.3,), (10.7,), (11.5,), ( 8.9,), ( 8.4,),\n",
       "       ( 7.9,), (11.4,), ( 7.1,), (10.7,), (10. ,), ( 5.8,), ( 8. ,),\n",
       "       ( 7.9,), ( 4.8,), ( 5.5,), ( 8.9,), (10.6,), (11.9,), ( 9.8,),\n",
       "       (11.9,)], dtype=[('school', '<f8')])"
      ]
     },
     "execution_count": 62,
     "metadata": {},
     "output_type": "execute_result"
    }
   ],
   "source": [
    "school_data"
   ]
  },
  {
   "cell_type": "code",
   "execution_count": 60,
   "metadata": {},
   "outputs": [
    {
     "name": "stdout",
     "output_type": "stream",
     "text": [
      "10.9\r\n",
      "8.0\r\n",
      "9.3\r\n",
      "10.7\r\n",
      "11.5\r\n",
      "8.9\r\n",
      "8.4\r\n",
      "7.9\r\n",
      "11.4\r\n",
      "7.1\r\n"
     ]
    }
   ],
   "source": [
    "!head data/mrw_data/oecd_school.csv"
   ]
  },
  {
   "cell_type": "code",
   "execution_count": null,
   "metadata": {},
   "outputs": [],
   "source": []
  }
 ],
 "metadata": {
  "kernelspec": {
   "display_name": "Python 3",
   "language": "python",
   "name": "python3"
  },
  "language_info": {
   "codemirror_mode": {
    "name": "ipython",
    "version": 3
   },
   "file_extension": ".py",
   "mimetype": "text/x-python",
   "name": "python",
   "nbconvert_exporter": "python",
   "pygments_lexer": "ipython3",
   "version": "3.7.4"
  }
 },
 "nbformat": 4,
 "nbformat_minor": 4
}
