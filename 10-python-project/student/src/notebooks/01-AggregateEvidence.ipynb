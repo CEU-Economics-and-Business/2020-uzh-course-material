{
 "cells": [
  {
   "cell_type": "markdown",
   "metadata": {},
   "source": [
    "We want to look for some aggregate facts about the US economy and its trade patterns to get a sense of how some macroeconomic indicators had evolved around China's WTO accession. In particular we will show that\n",
    "\n",
    "\n",
    "* Expansion of Chinese Trade. Essentially all of US trade growth since the 1990s is from the expansion of Chinese imports.\n",
    "* Fall in Real Interest Rates Around the time the Chinese trade expanded.\n",
    "* Expansion of the Trade Deficit during this time period."
   ]
  },
  {
   "cell_type": "markdown",
   "metadata": {},
   "source": [
    "To do this we will access data from the FRED database.\n",
    "\n",
    "Load the packages:"
   ]
  },
  {
   "cell_type": "code",
   "execution_count": 1,
   "metadata": {},
   "outputs": [],
   "source": [
    "import pandas as pd\n",
    "from pandas_datareader import data #This will import the data reader\n",
    "import numpy as np\n",
    "import matplotlib.pyplot as plt"
   ]
  },
  {
   "cell_type": "markdown",
   "metadata": {},
   "source": [
    "## Get FRED Data\n",
    "\n",
    "For this notebook we will want data on nominal GDP, total imports, total exports imports from China, the 1-Year Treasury Constant Maturity Rate and the CPI index computed without energy and food.\n",
    "\n",
    "Go to the FRED data site: https://fred.stlouisfed.org/ and find out the codes / variable names you need to access from the API. \n",
    "\n",
    "Store the variables names in a list called `code`\n",
    "\n",
    "If you are too lazy to do this (you shouldn't be!), I have them in [this document](https://github.com/pp4rs/2020-uzh-course-material/blob/master/10-python-project/instructor/fred_codes.txt)"
   ]
  },
  {
   "cell_type": "code",
   "execution_count": null,
   "metadata": {},
   "outputs": [],
   "source": []
  },
  {
   "cell_type": "markdown",
   "metadata": {},
   "source": [
    "Import the data ffrom FRED using the pandas_datareader API from 1990 until present"
   ]
  },
  {
   "cell_type": "code",
   "execution_count": null,
   "metadata": {},
   "outputs": [],
   "source": []
  },
  {
   "cell_type": "markdown",
   "metadata": {},
   "source": [
    "Inspect the head and tail of this data"
   ]
  },
  {
   "cell_type": "code",
   "execution_count": null,
   "metadata": {},
   "outputs": [],
   "source": []
  },
  {
   "cell_type": "code",
   "execution_count": null,
   "metadata": {},
   "outputs": [],
   "source": []
  },
  {
   "cell_type": "markdown",
   "metadata": {},
   "source": [
    "What do you notice about the frequency of the different series?"
   ]
  },
  {
   "cell_type": "markdown",
   "metadata": {},
   "source": [
    "## Fact 1: Expansion of Chinese Trade to the US\n",
    "\n",
    "Here we will construct graphical evidence that the growth in Chinese Imports Accounts for Aggregate Import Growth since China joined the WTO in 2002.\n",
    "This is equivalent to saying non chinese imports are not increasing over time. \n",
    "\n",
    "To make the comparison, we will do everything relative to GDP - i.e. we will want to show the chinese imports as a fraction of GDP are increasing since WTO accession, while non-chinese imports as a fraction of GDP are not.\n",
    "\n",
    "Based on what we saw above, the frequency of chinese import data and all imports of goods and services are different. Thus, as a first step - we need to aggreagate the monthly Chinese import data to a quarterly level.\n",
    "\n",
    "Let's proceed as follows:\n",
    "\n",
    "First, create a dataset `china_imports` that only selects the chinese import data from the fred data:"
   ]
  },
  {
   "cell_type": "code",
   "execution_count": null,
   "metadata": {},
   "outputs": [],
   "source": []
  },
  {
   "cell_type": "markdown",
   "metadata": {},
   "source": [
    "In class we didn't discuss techniques to aggregate data to a higher level.\n",
    "\n",
    "The command we need is `resample`. Look at the help for this function `help(pd.DataFrame.resample)`, and use what you learn to aggregate the monthly data to a quarterly series using `convention = 'end'` option to create a dataset `china_imports_q`. Also, rename the column to `ch_imports`:"
   ]
  },
  {
   "cell_type": "code",
   "execution_count": null,
   "metadata": {},
   "outputs": [],
   "source": []
  },
  {
   "cell_type": "markdown",
   "metadata": {},
   "source": [
    "Notice how the `DATE` index uses the last day of quarter? This will not align with the quarterly data in the rest of our FRED data columns. What we need to is push the `DATE` forward by one day.\n",
    "\n",
    "Look at the help in the function `pd.DateOffset`, and push the date index forward by one day:"
   ]
  },
  {
   "cell_type": "code",
   "execution_count": null,
   "metadata": {},
   "outputs": [],
   "source": []
  },
  {
   "cell_type": "markdown",
   "metadata": {},
   "source": [
    "Now we want to create a dataset with chinese trade as a fraction of gdp and total imports as a percentage of gdp.\n",
    "\n",
    "Merge the chinese import data with only the GDP and IMPGS data from fred to create a data set called `trade_data`"
   ]
  },
  {
   "cell_type": "code",
   "execution_count": null,
   "metadata": {},
   "outputs": [],
   "source": []
  },
  {
   "cell_type": "code",
   "execution_count": null,
   "metadata": {},
   "outputs": [],
   "source": []
  },
  {
   "cell_type": "markdown",
   "metadata": {},
   "source": [
    "If we inspect `trade_data`, we see that ch_imports is a *much* larger number than `IMPGS` - suggesting they must be measured in different quantities.\n",
    "\n",
    "In fact chinese imports are measured in millons of USD, but total imports are measured in billions (as is GDP). Verify this by looking at variable definitions on the fred website, https://fred.stlouisfed.org/ .\n",
    "\n",
    "Adjust `ch_imports` so that it is measured in billions of dollars:"
   ]
  },
  {
   "cell_type": "code",
   "execution_count": null,
   "metadata": {},
   "outputs": [],
   "source": []
  },
  {
   "cell_type": "markdown",
   "metadata": {},
   "source": [
    "Now resample the data to be annual, and:\n",
    "\n",
    "* compute chinese import share of gdp, `china_share`\n",
    "* compute the nonchinese import share of gdp, `nonchina_share`\n",
    "* drop the row IMPGS\n",
    "* rename GDP to gdp"
   ]
  },
  {
   "cell_type": "code",
   "execution_count": null,
   "metadata": {},
   "outputs": [],
   "source": []
  },
  {
   "cell_type": "markdown",
   "metadata": {},
   "source": [
    "Plot `china_share` and `nonchina_share` over time as a line plot from 1991 to the beginning of 2008. Add a vertical line at the beginning of 2002 to mark the accession of China into the WTO:"
   ]
  },
  {
   "cell_type": "markdown",
   "metadata": {},
   "source": [
    "## Fact 2: 400 basis point fall in real Interest rates leading into China Expansion"
   ]
  },
  {
   "cell_type": "markdown",
   "metadata": {},
   "source": [
    "Extract the interest rate `GS1` from the fred data and resample at the quarterly interval - call the data `irates`.\n",
    "Do the same for the CPI `CPILFESL`, calling the data `inflation`.\n",
    "\n",
    "Compute the annualized change in the real interest rate (HINT: what option can you pass to `pct_change()`?)."
   ]
  },
  {
   "cell_type": "code",
   "execution_count": null,
   "metadata": {},
   "outputs": [],
   "source": []
  },
  {
   "cell_type": "markdown",
   "metadata": {},
   "source": [
    "Construct a line plot that shows immediately prior to the Chinese WTO accession US real interest rates fell by approx. 400 basis points:"
   ]
  },
  {
   "cell_type": "code",
   "execution_count": null,
   "metadata": {},
   "outputs": [],
   "source": []
  },
  {
   "cell_type": "markdown",
   "metadata": {},
   "source": [
    "## Fact 3: Expanding Trade Deficit"
   ]
  },
  {
   "cell_type": "markdown",
   "metadata": {},
   "source": [
    "The US trade deficit, i.e exports minus imports, worsened after the chinese WTO accession.\n",
    "\n",
    "Compute the trade deficit as a percentage of GDP, and plot it from 1991 until the beginning of 2008. Again, add a line to show that after China entered the WTO the deficit got much worse."
   ]
  },
  {
   "cell_type": "code",
   "execution_count": null,
   "metadata": {},
   "outputs": [],
   "source": []
  }
 ],
 "metadata": {
  "kernelspec": {
   "display_name": "Python 3",
   "language": "python",
   "name": "python3"
  },
  "language_info": {
   "codemirror_mode": {
    "name": "ipython",
    "version": 3
   },
   "file_extension": ".py",
   "mimetype": "text/x-python",
   "name": "python",
   "nbconvert_exporter": "python",
   "pygments_lexer": "ipython3",
   "version": "3.7.4"
  }
 },
 "nbformat": 4,
 "nbformat_minor": 4
}
