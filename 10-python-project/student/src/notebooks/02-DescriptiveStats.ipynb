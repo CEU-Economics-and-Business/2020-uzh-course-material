{
 "cells": [
  {
   "cell_type": "markdown",
   "metadata": {},
   "source": [
    "# Descriptive Statistics and the Importance of Weighting\n",
    "\n",
    "We are now going to work the the 'micro' data directly from ADH. Luckily, some of our coding friends at NYU Stern have done a tonne of the heavy lifting for us and merged all of ADH's essential data together into one file.\n",
    "\n",
    "The trickiest thing to understand is the timing of the data and the variable names.\n",
    "\n",
    "Here is some info:\n",
    "\n",
    "#### Details about timing is as follows. \n",
    "The start of the period is 1991 and then end is 2007. \n",
    "This is then divided into two periods. \n",
    "The first periods is 1991-2000, thus this is a 9 year time period. \n",
    "They convert stuff into a \"comparable decadal scale\" see Footnote 22. \n",
    "Thus, for values for this period, they multiply them by 10/9.\n",
    "The same issue arises for the second period which is 2000-2007. \n",
    "The values for this are again converted to \"decadal scales\" so they are multiplied by 10/7.\n",
    "\n",
    "The Appendix Table 2, reports the income variable and the decadal adjustments. \n",
    "In the summary statistics for the stuff that we care about, the ADH data is adjusted in this way described above.\n",
    "\n",
    "#### Details about variable names.\n",
    "\n",
    "That is, variables starting with 'l' are in levels whereas variables starting with 'd' are the decadal equivalents.\n",
    "\n",
    "As necessary, we will tell you which variable to use, so that $*_somevariable$ means to choose the appropriate level or decadal equivalent. We leave you to figure out which of the $l$ or $d$ variables to use. Do ask us if you are confused."
   ]
  },
  {
   "cell_type": "markdown",
   "metadata": {},
   "source": [
    "## Understanding the Essence of the Paper and What Comes Next.\n",
    "\n",
    "Read Section 1 of ADH, so that you build an understanding of there main measure 'IPW' and what the paper is about. This will help you understand the context behind the remaining exercises in this notebook and those to follow.\n",
    "\n",
    "Your first task will be to compute some descriptive statistics from the data. To be more precise, you will replicate some of the key numbers in Appendix Table 2 of ADH. (On a side note, at least one of us thinks this table should be in the main text!)"
   ]
  },
  {
   "cell_type": "markdown",
   "metadata": {},
   "source": [
    "## Loading the Necessary packages"
   ]
  },
  {
   "cell_type": "code",
   "execution_count": null,
   "metadata": {},
   "outputs": [],
   "source": [
    "import pandas as pd\n",
    "import matplotlib.pyplot as plt\n",
    "import numpy as np"
   ]
  },
  {
   "cell_type": "markdown",
   "metadata": {},
   "source": [
    "## Downloading the ADH data.\n",
    "\n",
    "The data are included inside the larger folder we are working in. If your current working directory is 'notebooks', then the data are stored in '../data'\n",
    "\n",
    "Load this data into a data frame called `df` using the appropriate pandas `read_*` function. Then look at the head and tail of the data."
   ]
  },
  {
   "cell_type": "code",
   "execution_count": null,
   "metadata": {},
   "outputs": [],
   "source": []
  },
  {
   "cell_type": "markdown",
   "metadata": {},
   "source": [
    "## Summary Statistics by Year - Take 1\n",
    "\n",
    "Let's try and build up some understanding of the data.\n",
    "\n",
    "Compute the for each decade the number of chinese imports per worker in levels ('l_tradeusch_pw'):"
   ]
  },
  {
   "cell_type": "code",
   "execution_count": null,
   "metadata": {},
   "outputs": [],
   "source": []
  },
  {
   "cell_type": "markdown",
   "metadata": {},
   "source": [
    "and per decadal equivalent"
   ]
  },
  {
   "cell_type": "code",
   "execution_count": null,
   "metadata": {},
   "outputs": [],
   "source": []
  },
  {
   "cell_type": "markdown",
   "metadata": {},
   "source": [
    "Notice that these statistics do not line up exactly with those in Appendix Table 2. The reason why? \n",
    "\n",
    "They use *weighted* statistics, and we haven't. \n",
    "\n",
    "There is a new-ish package that can help us here (unfortunately pandas alone doesn't do us many favours). The package we need to install is called `weightedcalcs`\n"
   ]
  },
  {
   "cell_type": "code",
   "execution_count": null,
   "metadata": {},
   "outputs": [],
   "source": [
    "!pip install weightedcalcs"
   ]
  },
  {
   "cell_type": "code",
   "execution_count": null,
   "metadata": {},
   "outputs": [],
   "source": [
    "import weightedcalcs as wc"
   ]
  },
  {
   "cell_type": "markdown",
   "metadata": {},
   "source": [
    "weightedcalcs works well on pandas dataframes, though the exact syntax differs a little. It's useful to know - especially if you want to work with census data.\n",
    "\n",
    "First, we create a `calc` object that specifies what we want to weight by.\n",
    "\n",
    "ADH weight by the level of the population count per region, `l_popcount`:\n"
   ]
  },
  {
   "cell_type": "code",
   "execution_count": null,
   "metadata": {},
   "outputs": [],
   "source": [
    "calc = wc.Calculator(\"l_popcount\")"
   ]
  },
  {
   "cell_type": "markdown",
   "metadata": {},
   "source": [
    "This operator cannot be chained into an existing pandas command as far as I am aware. What it can do though, is take a grouped dataframe as an input argument, so the syntax:\n",
    "\n",
    "```python\n",
    "my_grouped_df = df.groupby('some_grouping_variable')\n",
    "\n",
    "calc.SOMESTAT(my_grouped_df, 'my_intersting_variable')\n",
    "```\n",
    "\n",
    "works just fine.\n",
    "\n",
    "So:"
   ]
  },
  {
   "cell_type": "code",
   "execution_count": null,
   "metadata": {},
   "outputs": [],
   "source": [
    "grp_df = df.groupby('yr')"
   ]
  },
  {
   "cell_type": "code",
   "execution_count": null,
   "metadata": {},
   "outputs": [],
   "source": [
    "calc.mean(grp_df, \"l_tradeusch_pw\").round(2)"
   ]
  },
  {
   "cell_type": "code",
   "execution_count": null,
   "metadata": {},
   "outputs": [],
   "source": [
    "calc.mean(grp_df, \"d_tradeusch_pw\").round(2)"
   ]
  },
  {
   "cell_type": "markdown",
   "metadata": {},
   "source": [
    "yields exactly the numbers in appendix table 2 (thou you need to look for exactly where the numbers appear).\n",
    "\n",
    "Let's do some more weighted group stats.\n",
    "\n",
    "The appendix table also reports standard deviations. Let's try this too, the relevant function is `std`. Give it a go:"
   ]
  },
  {
   "cell_type": "code",
   "execution_count": null,
   "metadata": {},
   "outputs": [],
   "source": []
  },
  {
   "cell_type": "markdown",
   "metadata": {},
   "source": [
    "Now compute the mean and standard deviation of the average household wage and salary, `*_avg_hhincwage_pc_pw`:"
   ]
  },
  {
   "cell_type": "code",
   "execution_count": null,
   "metadata": {},
   "outputs": [],
   "source": []
  },
  {
   "cell_type": "code",
   "execution_count": null,
   "metadata": {},
   "outputs": [],
   "source": []
  },
  {
   "cell_type": "code",
   "execution_count": null,
   "metadata": {},
   "outputs": [],
   "source": []
  },
  {
   "cell_type": "code",
   "execution_count": null,
   "metadata": {},
   "outputs": [],
   "source": []
  },
  {
   "cell_type": "markdown",
   "metadata": {},
   "source": [
    "And once more for share not in labor force, `*_sh_nilf`"
   ]
  },
  {
   "cell_type": "code",
   "execution_count": null,
   "metadata": {},
   "outputs": [],
   "source": []
  },
  {
   "cell_type": "code",
   "execution_count": null,
   "metadata": {},
   "outputs": [],
   "source": []
  },
  {
   "cell_type": "code",
   "execution_count": null,
   "metadata": {},
   "outputs": [],
   "source": []
  },
  {
   "cell_type": "code",
   "execution_count": null,
   "metadata": {},
   "outputs": [],
   "source": []
  },
  {
   "cell_type": "markdown",
   "metadata": {},
   "source": [
    "How well do your statistics line up with those reported in the paper?"
   ]
  }
 ],
 "metadata": {
  "kernelspec": {
   "display_name": "Python 3",
   "language": "python",
   "name": "python3"
  },
  "language_info": {
   "codemirror_mode": {
    "name": "ipython",
    "version": 3
   },
   "file_extension": ".py",
   "mimetype": "text/x-python",
   "name": "python",
   "nbconvert_exporter": "python",
   "pygments_lexer": "ipython3",
   "version": "3.7.4"
  }
 },
 "nbformat": 4,
 "nbformat_minor": 4
}
