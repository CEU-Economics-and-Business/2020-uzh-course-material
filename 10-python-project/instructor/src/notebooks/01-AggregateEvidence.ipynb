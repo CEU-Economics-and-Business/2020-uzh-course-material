{
 "cells": [
  {
   "cell_type": "markdown",
   "metadata": {},
   "source": [
    "We want to look for some aggregate facts about the US economy and its trade patterns to get a sense of how some macroeconomic indicators had evolved around China's WTO accession. In particular we will show that\n",
    "\n",
    "\n",
    "* Expansion of Chinese Trade. Essentially all of US trade growth since the 1990s is from the expansion of Chinese imports.\n",
    "* Fall in Real Interest Rates Around the time the Chinese trade expanded.\n",
    "* Expansion of the Trade Deficit during this time period."
   ]
  },
  {
   "cell_type": "markdown",
   "metadata": {},
   "source": [
    "To do this we will access data from the FRED database.\n",
    "\n",
    "Load the packages:"
   ]
  },
  {
   "cell_type": "code",
   "execution_count": 1,
   "metadata": {},
   "outputs": [],
   "source": [
    "import pandas as pd\n",
    "from pandas_datareader import data #, wb # This will import the data reader\n",
    "import numpy as np\n",
    "import matplotlib.pyplot as plt"
   ]
  },
  {
   "cell_type": "markdown",
   "metadata": {},
   "source": [
    "## Get FRED Data\n",
    "\n",
    "For this notebook we will want data on nominal GDP, total imports, total exports imports from China, the 1-Year Treasury Constant Maturity Rate and the CPI index computed without energy and food.\n",
    "\n",
    "Go to the FRED data site: https://fred.stlouisfed.org/ and find out the codes / variable names you need to access from the API. \n",
    "\n",
    "Store the variables names in a list called `code`\n",
    "\n",
    "If you are too lazy to do this (you shouldn't be!), I have them in [this document](https://github.com/pp4rs/2020-uzh-course-material/blob/master/10-python-project/instructor/fred_codes.txt)"
   ]
  },
  {
   "cell_type": "code",
   "execution_count": 2,
   "metadata": {},
   "outputs": [],
   "source": [
    "codes = [\"GDP\", \"IMPGS\", \"EXPGS\", \"IMPCH\", \"GS1\", \"CPILFESL\"] \n",
    "# nomial gdp, imports, imports from china, constant maturity 1 year rate, cip (no energy or food)"
   ]
  },
  {
   "cell_type": "markdown",
   "metadata": {},
   "source": [
    "Import the data ffrom FRED using the pandas_datareader API from 1990 until present"
   ]
  },
  {
   "cell_type": "code",
   "execution_count": 3,
   "metadata": {},
   "outputs": [],
   "source": [
    "fred = data.DataReader(codes,\"fred\",1990)  # Then for fred, you hand it the codes\n",
    "                                            # Tell it you want to ask from FRED\n",
    "                                            # then tell it the start date"
   ]
  },
  {
   "cell_type": "markdown",
   "metadata": {},
   "source": [
    "Inspect the head and tail of this data"
   ]
  },
  {
   "cell_type": "code",
   "execution_count": 4,
   "metadata": {},
   "outputs": [
    {
     "data": {
      "text/html": [
       "<div>\n",
       "<style scoped>\n",
       "    .dataframe tbody tr th:only-of-type {\n",
       "        vertical-align: middle;\n",
       "    }\n",
       "\n",
       "    .dataframe tbody tr th {\n",
       "        vertical-align: top;\n",
       "    }\n",
       "\n",
       "    .dataframe thead th {\n",
       "        text-align: right;\n",
       "    }\n",
       "</style>\n",
       "<table border=\"1\" class=\"dataframe\">\n",
       "  <thead>\n",
       "    <tr style=\"text-align: right;\">\n",
       "      <th></th>\n",
       "      <th>GDP</th>\n",
       "      <th>IMPGS</th>\n",
       "      <th>EXPGS</th>\n",
       "      <th>IMPCH</th>\n",
       "      <th>GS1</th>\n",
       "      <th>CPILFESL</th>\n",
       "    </tr>\n",
       "    <tr>\n",
       "      <th>DATE</th>\n",
       "      <th></th>\n",
       "      <th></th>\n",
       "      <th></th>\n",
       "      <th></th>\n",
       "      <th></th>\n",
       "      <th></th>\n",
       "    </tr>\n",
       "  </thead>\n",
       "  <tbody>\n",
       "    <tr>\n",
       "      <td>1990-01-01</td>\n",
       "      <td>5872.701</td>\n",
       "      <td>626.767</td>\n",
       "      <td>538.232</td>\n",
       "      <td>1186.1</td>\n",
       "      <td>7.92</td>\n",
       "      <td>132.1</td>\n",
       "    </tr>\n",
       "    <tr>\n",
       "      <td>1990-02-01</td>\n",
       "      <td>NaN</td>\n",
       "      <td>NaN</td>\n",
       "      <td>NaN</td>\n",
       "      <td>993.8</td>\n",
       "      <td>8.11</td>\n",
       "      <td>132.7</td>\n",
       "    </tr>\n",
       "    <tr>\n",
       "      <td>1990-03-01</td>\n",
       "      <td>NaN</td>\n",
       "      <td>NaN</td>\n",
       "      <td>NaN</td>\n",
       "      <td>931.0</td>\n",
       "      <td>8.35</td>\n",
       "      <td>133.5</td>\n",
       "    </tr>\n",
       "    <tr>\n",
       "      <td>1990-04-01</td>\n",
       "      <td>5960.028</td>\n",
       "      <td>614.759</td>\n",
       "      <td>545.925</td>\n",
       "      <td>996.4</td>\n",
       "      <td>8.40</td>\n",
       "      <td>134.0</td>\n",
       "    </tr>\n",
       "    <tr>\n",
       "      <td>1990-05-01</td>\n",
       "      <td>NaN</td>\n",
       "      <td>NaN</td>\n",
       "      <td>NaN</td>\n",
       "      <td>1173.5</td>\n",
       "      <td>8.32</td>\n",
       "      <td>134.4</td>\n",
       "    </tr>\n",
       "  </tbody>\n",
       "</table>\n",
       "</div>"
      ],
      "text/plain": [
       "                 GDP    IMPGS    EXPGS   IMPCH   GS1  CPILFESL\n",
       "DATE                                                          \n",
       "1990-01-01  5872.701  626.767  538.232  1186.1  7.92     132.1\n",
       "1990-02-01       NaN      NaN      NaN   993.8  8.11     132.7\n",
       "1990-03-01       NaN      NaN      NaN   931.0  8.35     133.5\n",
       "1990-04-01  5960.028  614.759  545.925   996.4  8.40     134.0\n",
       "1990-05-01       NaN      NaN      NaN  1173.5  8.32     134.4"
      ]
     },
     "execution_count": 4,
     "metadata": {},
     "output_type": "execute_result"
    }
   ],
   "source": [
    "fred.head()"
   ]
  },
  {
   "cell_type": "code",
   "execution_count": 5,
   "metadata": {},
   "outputs": [
    {
     "data": {
      "text/html": [
       "<div>\n",
       "<style scoped>\n",
       "    .dataframe tbody tr th:only-of-type {\n",
       "        vertical-align: middle;\n",
       "    }\n",
       "\n",
       "    .dataframe tbody tr th {\n",
       "        vertical-align: top;\n",
       "    }\n",
       "\n",
       "    .dataframe thead th {\n",
       "        text-align: right;\n",
       "    }\n",
       "</style>\n",
       "<table border=\"1\" class=\"dataframe\">\n",
       "  <thead>\n",
       "    <tr style=\"text-align: right;\">\n",
       "      <th></th>\n",
       "      <th>GDP</th>\n",
       "      <th>IMPGS</th>\n",
       "      <th>EXPGS</th>\n",
       "      <th>IMPCH</th>\n",
       "      <th>GS1</th>\n",
       "      <th>CPILFESL</th>\n",
       "    </tr>\n",
       "    <tr>\n",
       "      <th>DATE</th>\n",
       "      <th></th>\n",
       "      <th></th>\n",
       "      <th></th>\n",
       "      <th></th>\n",
       "      <th></th>\n",
       "      <th></th>\n",
       "    </tr>\n",
       "  </thead>\n",
       "  <tbody>\n",
       "    <tr>\n",
       "      <td>2019-09-01</td>\n",
       "      <td>NaN</td>\n",
       "      <td>NaN</td>\n",
       "      <td>NaN</td>\n",
       "      <td>40220.142151</td>\n",
       "      <td>1.80</td>\n",
       "      <td>264.595</td>\n",
       "    </tr>\n",
       "    <tr>\n",
       "      <td>2019-10-01</td>\n",
       "      <td>21734.266</td>\n",
       "      <td>3073.977</td>\n",
       "      <td>2495.59</td>\n",
       "      <td>40145.706389</td>\n",
       "      <td>1.61</td>\n",
       "      <td>265.011</td>\n",
       "    </tr>\n",
       "    <tr>\n",
       "      <td>2019-11-01</td>\n",
       "      <td>NaN</td>\n",
       "      <td>NaN</td>\n",
       "      <td>NaN</td>\n",
       "      <td>36468.921978</td>\n",
       "      <td>1.57</td>\n",
       "      <td>265.620</td>\n",
       "    </tr>\n",
       "    <tr>\n",
       "      <td>2019-12-01</td>\n",
       "      <td>NaN</td>\n",
       "      <td>NaN</td>\n",
       "      <td>NaN</td>\n",
       "      <td>NaN</td>\n",
       "      <td>1.55</td>\n",
       "      <td>265.921</td>\n",
       "    </tr>\n",
       "    <tr>\n",
       "      <td>2020-01-01</td>\n",
       "      <td>NaN</td>\n",
       "      <td>NaN</td>\n",
       "      <td>NaN</td>\n",
       "      <td>NaN</td>\n",
       "      <td>1.53</td>\n",
       "      <td>NaN</td>\n",
       "    </tr>\n",
       "  </tbody>\n",
       "</table>\n",
       "</div>"
      ],
      "text/plain": [
       "                  GDP     IMPGS    EXPGS         IMPCH   GS1  CPILFESL\n",
       "DATE                                                                  \n",
       "2019-09-01        NaN       NaN      NaN  40220.142151  1.80   264.595\n",
       "2019-10-01  21734.266  3073.977  2495.59  40145.706389  1.61   265.011\n",
       "2019-11-01        NaN       NaN      NaN  36468.921978  1.57   265.620\n",
       "2019-12-01        NaN       NaN      NaN           NaN  1.55   265.921\n",
       "2020-01-01        NaN       NaN      NaN           NaN  1.53       NaN"
      ]
     },
     "execution_count": 5,
     "metadata": {},
     "output_type": "execute_result"
    }
   ],
   "source": [
    "fred.tail()"
   ]
  },
  {
   "cell_type": "markdown",
   "metadata": {},
   "source": [
    "What do you notice about the frequency of the different series?"
   ]
  },
  {
   "cell_type": "markdown",
   "metadata": {},
   "source": [
    "## Fact 1: Expansion of Chinese Trade to the US\n",
    "\n",
    "Here we will construct graphical evidence that the growth in Chinese Imports Accounts for Aggregate Import Growth since China joined the WTO in 2002.\n",
    "This is equivalent to saying non chinese imports are not increasing over time. \n",
    "\n",
    "To make the comparison, we will do everything relative to GDP - i.e. we will want to show the chinese imports as a fraction of GDP are increasing since WTO accession, while non-chinese imports as a fraction of GDP are not.\n",
    "\n",
    "Based on what we saw above, the frequency of chinese import data and all imports of goods and services are different. Thus, as a first step - we need to aggreagate the monthly Chinese import data to a quarterly level.\n",
    "\n",
    "Let's proceed as follows:\n",
    "\n",
    "First, create a dataset `china_imports` that only selects the chinese import data from the fred data:"
   ]
  },
  {
   "cell_type": "code",
   "execution_count": 6,
   "metadata": {},
   "outputs": [],
   "source": [
    "china_imports = pd.DataFrame(fred[\"IMPCH\"])"
   ]
  },
  {
   "cell_type": "code",
   "execution_count": 7,
   "metadata": {},
   "outputs": [
    {
     "data": {
      "text/html": [
       "<div>\n",
       "<style scoped>\n",
       "    .dataframe tbody tr th:only-of-type {\n",
       "        vertical-align: middle;\n",
       "    }\n",
       "\n",
       "    .dataframe tbody tr th {\n",
       "        vertical-align: top;\n",
       "    }\n",
       "\n",
       "    .dataframe thead th {\n",
       "        text-align: right;\n",
       "    }\n",
       "</style>\n",
       "<table border=\"1\" class=\"dataframe\">\n",
       "  <thead>\n",
       "    <tr style=\"text-align: right;\">\n",
       "      <th></th>\n",
       "      <th>IMPCH</th>\n",
       "    </tr>\n",
       "    <tr>\n",
       "      <th>DATE</th>\n",
       "      <th></th>\n",
       "    </tr>\n",
       "  </thead>\n",
       "  <tbody>\n",
       "    <tr>\n",
       "      <td>1990-01-01</td>\n",
       "      <td>1186.1</td>\n",
       "    </tr>\n",
       "    <tr>\n",
       "      <td>1990-02-01</td>\n",
       "      <td>993.8</td>\n",
       "    </tr>\n",
       "    <tr>\n",
       "      <td>1990-03-01</td>\n",
       "      <td>931.0</td>\n",
       "    </tr>\n",
       "    <tr>\n",
       "      <td>1990-04-01</td>\n",
       "      <td>996.4</td>\n",
       "    </tr>\n",
       "    <tr>\n",
       "      <td>1990-05-01</td>\n",
       "      <td>1173.5</td>\n",
       "    </tr>\n",
       "  </tbody>\n",
       "</table>\n",
       "</div>"
      ],
      "text/plain": [
       "             IMPCH\n",
       "DATE              \n",
       "1990-01-01  1186.1\n",
       "1990-02-01   993.8\n",
       "1990-03-01   931.0\n",
       "1990-04-01   996.4\n",
       "1990-05-01  1173.5"
      ]
     },
     "execution_count": 7,
     "metadata": {},
     "output_type": "execute_result"
    }
   ],
   "source": [
    "china_imports.head()"
   ]
  },
  {
   "cell_type": "markdown",
   "metadata": {},
   "source": [
    "In class we didn't discuss techniques to aggregate data to a higher level.\n",
    "\n",
    "The command we need is `resample`. Look at the help for this function `help(pd.DataFrame.resample)`, and use what you learn to aggregate the monthly data to a quarterly series using `convention = 'end'` option to create a dataset `china_imports_q`. Also, rename the column to `ch_imports`:"
   ]
  },
  {
   "cell_type": "code",
   "execution_count": 8,
   "metadata": {},
   "outputs": [],
   "source": [
    "china_imports = pd.DataFrame(fred[\"IMPCH\"].resample(\"Q\", convention= 'end').sum())"
   ]
  },
  {
   "cell_type": "code",
   "execution_count": 9,
   "metadata": {},
   "outputs": [],
   "source": [
    "china_imports_q = china_imports.resample(\"Q\", convention = 'end').sum()"
   ]
  },
  {
   "cell_type": "code",
   "execution_count": 10,
   "metadata": {},
   "outputs": [],
   "source": [
    "china_imports_q.rename(columns = {\"IMPCH\": \"ch_imports\"}, inplace = True)"
   ]
  },
  {
   "cell_type": "code",
   "execution_count": 11,
   "metadata": {},
   "outputs": [
    {
     "data": {
      "text/html": [
       "<div>\n",
       "<style scoped>\n",
       "    .dataframe tbody tr th:only-of-type {\n",
       "        vertical-align: middle;\n",
       "    }\n",
       "\n",
       "    .dataframe tbody tr th {\n",
       "        vertical-align: top;\n",
       "    }\n",
       "\n",
       "    .dataframe thead th {\n",
       "        text-align: right;\n",
       "    }\n",
       "</style>\n",
       "<table border=\"1\" class=\"dataframe\">\n",
       "  <thead>\n",
       "    <tr style=\"text-align: right;\">\n",
       "      <th></th>\n",
       "      <th>ch_imports</th>\n",
       "    </tr>\n",
       "    <tr>\n",
       "      <th>DATE</th>\n",
       "      <th></th>\n",
       "    </tr>\n",
       "  </thead>\n",
       "  <tbody>\n",
       "    <tr>\n",
       "      <td>1990-03-31</td>\n",
       "      <td>3110.9</td>\n",
       "    </tr>\n",
       "    <tr>\n",
       "      <td>1990-06-30</td>\n",
       "      <td>3487.1</td>\n",
       "    </tr>\n",
       "    <tr>\n",
       "      <td>1990-09-30</td>\n",
       "      <td>4493.2</td>\n",
       "    </tr>\n",
       "    <tr>\n",
       "      <td>1990-12-31</td>\n",
       "      <td>4146.2</td>\n",
       "    </tr>\n",
       "    <tr>\n",
       "      <td>1991-03-31</td>\n",
       "      <td>3549.6</td>\n",
       "    </tr>\n",
       "  </tbody>\n",
       "</table>\n",
       "</div>"
      ],
      "text/plain": [
       "            ch_imports\n",
       "DATE                  \n",
       "1990-03-31      3110.9\n",
       "1990-06-30      3487.1\n",
       "1990-09-30      4493.2\n",
       "1990-12-31      4146.2\n",
       "1991-03-31      3549.6"
      ]
     },
     "execution_count": 11,
     "metadata": {},
     "output_type": "execute_result"
    }
   ],
   "source": [
    "china_imports_q.head()"
   ]
  },
  {
   "cell_type": "code",
   "execution_count": 12,
   "metadata": {},
   "outputs": [
    {
     "data": {
      "text/html": [
       "<div>\n",
       "<style scoped>\n",
       "    .dataframe tbody tr th:only-of-type {\n",
       "        vertical-align: middle;\n",
       "    }\n",
       "\n",
       "    .dataframe tbody tr th {\n",
       "        vertical-align: top;\n",
       "    }\n",
       "\n",
       "    .dataframe thead th {\n",
       "        text-align: right;\n",
       "    }\n",
       "</style>\n",
       "<table border=\"1\" class=\"dataframe\">\n",
       "  <thead>\n",
       "    <tr style=\"text-align: right;\">\n",
       "      <th></th>\n",
       "      <th>ch_imports</th>\n",
       "    </tr>\n",
       "    <tr>\n",
       "      <th>DATE</th>\n",
       "      <th></th>\n",
       "    </tr>\n",
       "  </thead>\n",
       "  <tbody>\n",
       "    <tr>\n",
       "      <td>2019-03-31</td>\n",
       "      <td>105973.901790</td>\n",
       "    </tr>\n",
       "    <tr>\n",
       "      <td>2019-06-30</td>\n",
       "      <td>113070.361766</td>\n",
       "    </tr>\n",
       "    <tr>\n",
       "      <td>2019-09-30</td>\n",
       "      <td>122916.157549</td>\n",
       "    </tr>\n",
       "    <tr>\n",
       "      <td>2019-12-31</td>\n",
       "      <td>76614.628367</td>\n",
       "    </tr>\n",
       "    <tr>\n",
       "      <td>2020-03-31</td>\n",
       "      <td>0.000000</td>\n",
       "    </tr>\n",
       "  </tbody>\n",
       "</table>\n",
       "</div>"
      ],
      "text/plain": [
       "               ch_imports\n",
       "DATE                     \n",
       "2019-03-31  105973.901790\n",
       "2019-06-30  113070.361766\n",
       "2019-09-30  122916.157549\n",
       "2019-12-31   76614.628367\n",
       "2020-03-31       0.000000"
      ]
     },
     "execution_count": 12,
     "metadata": {},
     "output_type": "execute_result"
    }
   ],
   "source": [
    "china_imports_q.tail()"
   ]
  },
  {
   "cell_type": "markdown",
   "metadata": {},
   "source": [
    "Notice how the `DATE` index uses the last day of quarter? This will not align with the quarterly data in the rest of our FRED data columns. What we need to is push the `DATE` forward by one day.\n",
    "\n",
    "Look at the help in the function `pd.DateOffset`, and push the date index forward by one day:"
   ]
  },
  {
   "cell_type": "code",
   "execution_count": 13,
   "metadata": {},
   "outputs": [],
   "source": [
    "china_imports_q.index = china_imports_q.index + pd.DateOffset(days=1)"
   ]
  },
  {
   "cell_type": "code",
   "execution_count": 14,
   "metadata": {},
   "outputs": [
    {
     "data": {
      "text/html": [
       "<div>\n",
       "<style scoped>\n",
       "    .dataframe tbody tr th:only-of-type {\n",
       "        vertical-align: middle;\n",
       "    }\n",
       "\n",
       "    .dataframe tbody tr th {\n",
       "        vertical-align: top;\n",
       "    }\n",
       "\n",
       "    .dataframe thead th {\n",
       "        text-align: right;\n",
       "    }\n",
       "</style>\n",
       "<table border=\"1\" class=\"dataframe\">\n",
       "  <thead>\n",
       "    <tr style=\"text-align: right;\">\n",
       "      <th></th>\n",
       "      <th>ch_imports</th>\n",
       "    </tr>\n",
       "    <tr>\n",
       "      <th>DATE</th>\n",
       "      <th></th>\n",
       "    </tr>\n",
       "  </thead>\n",
       "  <tbody>\n",
       "    <tr>\n",
       "      <td>1990-04-01</td>\n",
       "      <td>3110.9</td>\n",
       "    </tr>\n",
       "    <tr>\n",
       "      <td>1990-07-01</td>\n",
       "      <td>3487.1</td>\n",
       "    </tr>\n",
       "    <tr>\n",
       "      <td>1990-10-01</td>\n",
       "      <td>4493.2</td>\n",
       "    </tr>\n",
       "    <tr>\n",
       "      <td>1991-01-01</td>\n",
       "      <td>4146.2</td>\n",
       "    </tr>\n",
       "    <tr>\n",
       "      <td>1991-04-01</td>\n",
       "      <td>3549.6</td>\n",
       "    </tr>\n",
       "  </tbody>\n",
       "</table>\n",
       "</div>"
      ],
      "text/plain": [
       "            ch_imports\n",
       "DATE                  \n",
       "1990-04-01      3110.9\n",
       "1990-07-01      3487.1\n",
       "1990-10-01      4493.2\n",
       "1991-01-01      4146.2\n",
       "1991-04-01      3549.6"
      ]
     },
     "execution_count": 14,
     "metadata": {},
     "output_type": "execute_result"
    }
   ],
   "source": [
    "china_imports_q.head()"
   ]
  },
  {
   "cell_type": "markdown",
   "metadata": {},
   "source": [
    "Now we want to create a dataset with chinese trade as a fraction of gdp and total imports as a percentage of gdp.\n",
    "\n",
    "Merge the chinese import data with only the GDP and IMPGS data from fred to create a data set called `trade_data`"
   ]
  },
  {
   "cell_type": "code",
   "execution_count": 15,
   "metadata": {},
   "outputs": [],
   "source": [
    "trade_data = pd.merge(china_imports_q,\n",
    "                      fred[['IMPGS','GDP']],\n",
    "                      left_index = True, \n",
    "                      right_index = True,\n",
    "                      how = 'inner'\n",
    "                     )"
   ]
  },
  {
   "cell_type": "code",
   "execution_count": 16,
   "metadata": {},
   "outputs": [
    {
     "data": {
      "text/html": [
       "<div>\n",
       "<style scoped>\n",
       "    .dataframe tbody tr th:only-of-type {\n",
       "        vertical-align: middle;\n",
       "    }\n",
       "\n",
       "    .dataframe tbody tr th {\n",
       "        vertical-align: top;\n",
       "    }\n",
       "\n",
       "    .dataframe thead th {\n",
       "        text-align: right;\n",
       "    }\n",
       "</style>\n",
       "<table border=\"1\" class=\"dataframe\">\n",
       "  <thead>\n",
       "    <tr style=\"text-align: right;\">\n",
       "      <th></th>\n",
       "      <th>ch_imports</th>\n",
       "      <th>IMPGS</th>\n",
       "      <th>GDP</th>\n",
       "    </tr>\n",
       "    <tr>\n",
       "      <th>DATE</th>\n",
       "      <th></th>\n",
       "      <th></th>\n",
       "      <th></th>\n",
       "    </tr>\n",
       "  </thead>\n",
       "  <tbody>\n",
       "    <tr>\n",
       "      <td>1990-04-01</td>\n",
       "      <td>3110.9</td>\n",
       "      <td>614.759</td>\n",
       "      <td>5960.028</td>\n",
       "    </tr>\n",
       "    <tr>\n",
       "      <td>1990-07-01</td>\n",
       "      <td>3487.1</td>\n",
       "      <td>630.102</td>\n",
       "      <td>6015.116</td>\n",
       "    </tr>\n",
       "    <tr>\n",
       "      <td>1990-10-01</td>\n",
       "      <td>4493.2</td>\n",
       "      <td>647.282</td>\n",
       "      <td>6004.733</td>\n",
       "    </tr>\n",
       "    <tr>\n",
       "      <td>1991-01-01</td>\n",
       "      <td>4146.2</td>\n",
       "      <td>620.317</td>\n",
       "      <td>6035.178</td>\n",
       "    </tr>\n",
       "    <tr>\n",
       "      <td>1991-04-01</td>\n",
       "      <td>3549.6</td>\n",
       "      <td>613.921</td>\n",
       "      <td>6126.862</td>\n",
       "    </tr>\n",
       "  </tbody>\n",
       "</table>\n",
       "</div>"
      ],
      "text/plain": [
       "            ch_imports    IMPGS       GDP\n",
       "DATE                                     \n",
       "1990-04-01      3110.9  614.759  5960.028\n",
       "1990-07-01      3487.1  630.102  6015.116\n",
       "1990-10-01      4493.2  647.282  6004.733\n",
       "1991-01-01      4146.2  620.317  6035.178\n",
       "1991-04-01      3549.6  613.921  6126.862"
      ]
     },
     "execution_count": 16,
     "metadata": {},
     "output_type": "execute_result"
    }
   ],
   "source": [
    "trade_data.head()"
   ]
  },
  {
   "cell_type": "markdown",
   "metadata": {},
   "source": [
    "If we inspect `trade_data`, we see that ch_imports is a *much* larger number than `IMPGS` - suggesting they must be measured in different quantities.\n",
    "\n",
    "In fact chinese imports are measured in millons of USD, but total imports are measured in billions (as is GDP). Verify this by looking at variable definitions on the fred website, https://fred.stlouisfed.org/ .\n",
    "\n",
    "Adjust `ch_imports` so that it is measured in billions of dollars:"
   ]
  },
  {
   "cell_type": "code",
   "execution_count": 17,
   "metadata": {},
   "outputs": [],
   "source": [
    "trade_data[\"ch_imports\"] = 0.01*trade_data[\"ch_imports\"] "
   ]
  },
  {
   "cell_type": "code",
   "execution_count": 18,
   "metadata": {},
   "outputs": [
    {
     "data": {
      "text/html": [
       "<div>\n",
       "<style scoped>\n",
       "    .dataframe tbody tr th:only-of-type {\n",
       "        vertical-align: middle;\n",
       "    }\n",
       "\n",
       "    .dataframe tbody tr th {\n",
       "        vertical-align: top;\n",
       "    }\n",
       "\n",
       "    .dataframe thead th {\n",
       "        text-align: right;\n",
       "    }\n",
       "</style>\n",
       "<table border=\"1\" class=\"dataframe\">\n",
       "  <thead>\n",
       "    <tr style=\"text-align: right;\">\n",
       "      <th></th>\n",
       "      <th>ch_imports</th>\n",
       "      <th>IMPGS</th>\n",
       "      <th>GDP</th>\n",
       "    </tr>\n",
       "    <tr>\n",
       "      <th>DATE</th>\n",
       "      <th></th>\n",
       "      <th></th>\n",
       "      <th></th>\n",
       "    </tr>\n",
       "  </thead>\n",
       "  <tbody>\n",
       "    <tr>\n",
       "      <td>1990-04-01</td>\n",
       "      <td>31.109</td>\n",
       "      <td>614.759</td>\n",
       "      <td>5960.028</td>\n",
       "    </tr>\n",
       "    <tr>\n",
       "      <td>1990-07-01</td>\n",
       "      <td>34.871</td>\n",
       "      <td>630.102</td>\n",
       "      <td>6015.116</td>\n",
       "    </tr>\n",
       "    <tr>\n",
       "      <td>1990-10-01</td>\n",
       "      <td>44.932</td>\n",
       "      <td>647.282</td>\n",
       "      <td>6004.733</td>\n",
       "    </tr>\n",
       "    <tr>\n",
       "      <td>1991-01-01</td>\n",
       "      <td>41.462</td>\n",
       "      <td>620.317</td>\n",
       "      <td>6035.178</td>\n",
       "    </tr>\n",
       "    <tr>\n",
       "      <td>1991-04-01</td>\n",
       "      <td>35.496</td>\n",
       "      <td>613.921</td>\n",
       "      <td>6126.862</td>\n",
       "    </tr>\n",
       "  </tbody>\n",
       "</table>\n",
       "</div>"
      ],
      "text/plain": [
       "            ch_imports    IMPGS       GDP\n",
       "DATE                                     \n",
       "1990-04-01      31.109  614.759  5960.028\n",
       "1990-07-01      34.871  630.102  6015.116\n",
       "1990-10-01      44.932  647.282  6004.733\n",
       "1991-01-01      41.462  620.317  6035.178\n",
       "1991-04-01      35.496  613.921  6126.862"
      ]
     },
     "execution_count": 18,
     "metadata": {},
     "output_type": "execute_result"
    }
   ],
   "source": [
    "trade_data.head()"
   ]
  },
  {
   "cell_type": "code",
   "execution_count": 19,
   "metadata": {},
   "outputs": [
    {
     "data": {
      "text/html": [
       "<div>\n",
       "<style scoped>\n",
       "    .dataframe tbody tr th:only-of-type {\n",
       "        vertical-align: middle;\n",
       "    }\n",
       "\n",
       "    .dataframe tbody tr th {\n",
       "        vertical-align: top;\n",
       "    }\n",
       "\n",
       "    .dataframe thead th {\n",
       "        text-align: right;\n",
       "    }\n",
       "</style>\n",
       "<table border=\"1\" class=\"dataframe\">\n",
       "  <thead>\n",
       "    <tr style=\"text-align: right;\">\n",
       "      <th></th>\n",
       "      <th>ch_imports</th>\n",
       "      <th>IMPGS</th>\n",
       "      <th>GDP</th>\n",
       "    </tr>\n",
       "    <tr>\n",
       "      <th>DATE</th>\n",
       "      <th></th>\n",
       "      <th></th>\n",
       "      <th></th>\n",
       "    </tr>\n",
       "  </thead>\n",
       "  <tbody>\n",
       "    <tr>\n",
       "      <td>2019-01-01</td>\n",
       "      <td>1446.752910</td>\n",
       "      <td>3154.126</td>\n",
       "      <td>21098.827</td>\n",
       "    </tr>\n",
       "    <tr>\n",
       "      <td>2019-04-01</td>\n",
       "      <td>1059.739018</td>\n",
       "      <td>3166.691</td>\n",
       "      <td>21340.267</td>\n",
       "    </tr>\n",
       "    <tr>\n",
       "      <td>2019-07-01</td>\n",
       "      <td>1130.703618</td>\n",
       "      <td>3148.168</td>\n",
       "      <td>21542.540</td>\n",
       "    </tr>\n",
       "    <tr>\n",
       "      <td>2019-10-01</td>\n",
       "      <td>1229.161575</td>\n",
       "      <td>3073.977</td>\n",
       "      <td>21734.266</td>\n",
       "    </tr>\n",
       "    <tr>\n",
       "      <td>2020-01-01</td>\n",
       "      <td>766.146284</td>\n",
       "      <td>NaN</td>\n",
       "      <td>NaN</td>\n",
       "    </tr>\n",
       "  </tbody>\n",
       "</table>\n",
       "</div>"
      ],
      "text/plain": [
       "             ch_imports     IMPGS        GDP\n",
       "DATE                                        \n",
       "2019-01-01  1446.752910  3154.126  21098.827\n",
       "2019-04-01  1059.739018  3166.691  21340.267\n",
       "2019-07-01  1130.703618  3148.168  21542.540\n",
       "2019-10-01  1229.161575  3073.977  21734.266\n",
       "2020-01-01   766.146284       NaN        NaN"
      ]
     },
     "execution_count": 19,
     "metadata": {},
     "output_type": "execute_result"
    }
   ],
   "source": [
    "trade_data.tail()"
   ]
  },
  {
   "cell_type": "markdown",
   "metadata": {},
   "source": [
    "Now resample the data to be annual, and:\n",
    "\n",
    "* compute chinese import share of gdp, `china_share`\n",
    "* compute the nonchinese import share of gdp, `nonchina_share`\n",
    "* drop the row IMPGS\n",
    "* rename GDP to gdp"
   ]
  },
  {
   "cell_type": "code",
   "execution_count": 20,
   "metadata": {},
   "outputs": [],
   "source": [
    "trade_data = trade_data.resample(\"Y\", convention= 'end').sum()"
   ]
  },
  {
   "cell_type": "code",
   "execution_count": 21,
   "metadata": {},
   "outputs": [],
   "source": [
    "trade_data['china_share'] = 100 * trade_data.ch_imports / trade_data.GDP\n",
    "trade_data['global_share'] = 100 * trade_data.IMPGS / trade_data.GDP\n",
    "trade_data['nonchina_share'] = 100 * (trade_data.IMPGS - trade_data.ch_imports) / trade_data.GDP"
   ]
  },
  {
   "cell_type": "code",
   "execution_count": 22,
   "metadata": {},
   "outputs": [
    {
     "data": {
      "text/html": [
       "<div>\n",
       "<style scoped>\n",
       "    .dataframe tbody tr th:only-of-type {\n",
       "        vertical-align: middle;\n",
       "    }\n",
       "\n",
       "    .dataframe tbody tr th {\n",
       "        vertical-align: top;\n",
       "    }\n",
       "\n",
       "    .dataframe thead th {\n",
       "        text-align: right;\n",
       "    }\n",
       "</style>\n",
       "<table border=\"1\" class=\"dataframe\">\n",
       "  <thead>\n",
       "    <tr style=\"text-align: right;\">\n",
       "      <th></th>\n",
       "      <th>ch_imports</th>\n",
       "      <th>IMPGS</th>\n",
       "      <th>GDP</th>\n",
       "      <th>china_share</th>\n",
       "      <th>global_share</th>\n",
       "      <th>nonchina_share</th>\n",
       "    </tr>\n",
       "    <tr>\n",
       "      <th>DATE</th>\n",
       "      <th></th>\n",
       "      <th></th>\n",
       "      <th></th>\n",
       "      <th></th>\n",
       "      <th></th>\n",
       "      <th></th>\n",
       "    </tr>\n",
       "  </thead>\n",
       "  <tbody>\n",
       "    <tr>\n",
       "      <td>1990-12-31</td>\n",
       "      <td>110.912</td>\n",
       "      <td>1892.143</td>\n",
       "      <td>17979.877</td>\n",
       "      <td>0.616867</td>\n",
       "      <td>10.523670</td>\n",
       "      <td>9.906803</td>\n",
       "    </tr>\n",
       "    <tr>\n",
       "      <td>1991-12-31</td>\n",
       "      <td>173.282</td>\n",
       "      <td>2494.177</td>\n",
       "      <td>24632.517</td>\n",
       "      <td>0.703469</td>\n",
       "      <td>10.125547</td>\n",
       "      <td>9.422078</td>\n",
       "    </tr>\n",
       "    <tr>\n",
       "      <td>1992-12-31</td>\n",
       "      <td>244.233</td>\n",
       "      <td>2671.163</td>\n",
       "      <td>26081.309</td>\n",
       "      <td>0.936429</td>\n",
       "      <td>10.241675</td>\n",
       "      <td>9.305246</td>\n",
       "    </tr>\n",
       "    <tr>\n",
       "      <td>1993-12-31</td>\n",
       "      <td>301.245</td>\n",
       "      <td>2879.891</td>\n",
       "      <td>27434.234</td>\n",
       "      <td>1.098062</td>\n",
       "      <td>10.497435</td>\n",
       "      <td>9.399373</td>\n",
       "    </tr>\n",
       "    <tr>\n",
       "      <td>1994-12-31</td>\n",
       "      <td>368.316</td>\n",
       "      <td>3253.697</td>\n",
       "      <td>29148.946</td>\n",
       "      <td>1.263565</td>\n",
       "      <td>11.162314</td>\n",
       "      <td>9.898749</td>\n",
       "    </tr>\n",
       "  </tbody>\n",
       "</table>\n",
       "</div>"
      ],
      "text/plain": [
       "            ch_imports     IMPGS        GDP  china_share  global_share  \\\n",
       "DATE                                                                     \n",
       "1990-12-31     110.912  1892.143  17979.877     0.616867     10.523670   \n",
       "1991-12-31     173.282  2494.177  24632.517     0.703469     10.125547   \n",
       "1992-12-31     244.233  2671.163  26081.309     0.936429     10.241675   \n",
       "1993-12-31     301.245  2879.891  27434.234     1.098062     10.497435   \n",
       "1994-12-31     368.316  3253.697  29148.946     1.263565     11.162314   \n",
       "\n",
       "            nonchina_share  \n",
       "DATE                        \n",
       "1990-12-31        9.906803  \n",
       "1991-12-31        9.422078  \n",
       "1992-12-31        9.305246  \n",
       "1993-12-31        9.399373  \n",
       "1994-12-31        9.898749  "
      ]
     },
     "execution_count": 22,
     "metadata": {},
     "output_type": "execute_result"
    }
   ],
   "source": [
    "trade_data.head()"
   ]
  },
  {
   "cell_type": "code",
   "execution_count": 23,
   "metadata": {},
   "outputs": [],
   "source": [
    "#trade_data.drop(columns=['GDP', 'IMPGS'], inplace=True)"
   ]
  },
  {
   "cell_type": "markdown",
   "metadata": {},
   "source": [
    "Plot `china_share` and `nonchina_share` over time as a line plot from 1991 to the beginning of 2008. Add a vertical line at the beginning of 2002 to mark the accession of China into the WTO:"
   ]
  },
  {
   "cell_type": "code",
   "execution_count": 24,
   "metadata": {},
   "outputs": [
    {
     "name": "stderr",
     "output_type": "stream",
     "text": [
      "/home/lachlan/anaconda3/lib/python3.7/site-packages/pandas/plotting/_matplotlib/converter.py:103: FutureWarning: Using an implicitly registered datetime converter for a matplotlib plotting method. The converter was registered by pandas on import. Future versions of pandas will require you to explicitly register matplotlib converters.\n",
      "\n",
      "To register the converters:\n",
      "\t>>> from pandas.plotting import register_matplotlib_converters\n",
      "\t>>> register_matplotlib_converters()\n",
      "  warnings.warn(msg, FutureWarning)\n"
     ]
    },
    {
     "data": {
      "text/plain": [
       "<matplotlib.legend.Legend at 0x7f88edcc7610>"
      ]
     },
     "execution_count": 24,
     "metadata": {},
     "output_type": "execute_result"
    },
    {
     "data": {
      "image/png": "[encoded data removed]",
      "text/plain": [
       "<Figure size 720x504 with 1 Axes>"
      ]
     },
     "metadata": {
      "needs_background": "light"
     },
     "output_type": "display_data"
    }
   ],
   "source": [
    "fig, ax = plt.subplots(figsize = (10,7))\n",
    "\n",
    "\n",
    "ax.plot(trade_data[\"china_share\"], color = \"blue\",\n",
    "        linewidth = 5, label = \"Chinese Imports\")\n",
    "\n",
    "ax.plot(trade_data[\"nonchina_share\"], color = \"red\",\n",
    "        linewidth = 5, label = \"Non-Chinese Imports\")\n",
    "\n",
    "ax.set_ylabel(\"Imports / GDP\", fontsize = 14)\n",
    "\n",
    "ax.set_xlim(\"1991-01-01\", \"2008-01-01\")\n",
    "\n",
    "ax.axvline(x= \"2002-01-01\",           # Set the value equall to the average\n",
    "           color='k',       # make the color red\n",
    "           label='China WTO Accession', # this is the label (shows up in the legend)\n",
    "           linestyle='--',   # the line style\n",
    "           linewidth=4)     # thickness of the line\n",
    "\n",
    "ax.legend(loc=\"best\", fontsize = 14, frameon=False)\n"
   ]
  },
  {
   "cell_type": "markdown",
   "metadata": {},
   "source": [
    "## Fact 2: 400 basis point fall in real Interest rates leading into China Expansion"
   ]
  },
  {
   "cell_type": "markdown",
   "metadata": {},
   "source": [
    "Extract the interest rate `GS1` from the fred data and resample at the quarterly interval - call the data `irates`.\n",
    "Do the same for the CPI `CPILFESL`, calling the data `inflation`.\n",
    "\n",
    "Compute the annualized change in the real interest rate (HINT: what option can you pass to `pct_change`?)."
   ]
  },
  {
   "cell_type": "code",
   "execution_count": 25,
   "metadata": {},
   "outputs": [],
   "source": [
    "irates = pd.DataFrame(fred[\"GS1\"].resample(\"Q\", convention= 'end').mean())\n",
    "\n",
    "irates.index = irates.index + pd.DateOffset(days=1)\n",
    "\n",
    "inflation = pd.DataFrame(fred[\"CPILFESL\"].resample(\"Q\", convention= 'end').mean())\n",
    "\n",
    "inflation.index = inflation.index + pd.DateOffset(days=1)\n",
    "\n",
    "irates[\"real\"] = irates[\"GS1\"] - 100*inflation[\"CPILFESL\"].pct_change(4)"
   ]
  },
  {
   "cell_type": "code",
   "execution_count": 26,
   "metadata": {},
   "outputs": [
    {
     "data": {
      "text/plain": [
       "DATE\n",
       "1990-04-01         NaN\n",
       "1990-07-01         NaN\n",
       "1990-10-01         NaN\n",
       "1991-01-01         NaN\n",
       "1991-04-01    0.054984\n",
       "                ...   \n",
       "2019-04-01    0.020912\n",
       "2019-07-01    0.020654\n",
       "2019-10-01    0.023177\n",
       "2020-01-01    0.022939\n",
       "2020-04-01    0.017225\n",
       "Freq: QS-OCT, Name: CPILFESL, Length: 121, dtype: float64"
      ]
     },
     "execution_count": 26,
     "metadata": {},
     "output_type": "execute_result"
    }
   ],
   "source": [
    "inflation[\"CPILFESL\"].pct_change(4)"
   ]
  },
  {
   "cell_type": "code",
   "execution_count": 26,
   "metadata": {},
   "outputs": [
    {
     "data": {
      "text/html": [
       "<div>\n",
       "<style scoped>\n",
       "    .dataframe tbody tr th:only-of-type {\n",
       "        vertical-align: middle;\n",
       "    }\n",
       "\n",
       "    .dataframe tbody tr th {\n",
       "        vertical-align: top;\n",
       "    }\n",
       "\n",
       "    .dataframe thead th {\n",
       "        text-align: right;\n",
       "    }\n",
       "</style>\n",
       "<table border=\"1\" class=\"dataframe\">\n",
       "  <thead>\n",
       "    <tr style=\"text-align: right;\">\n",
       "      <th></th>\n",
       "      <th>GS1</th>\n",
       "      <th>real</th>\n",
       "    </tr>\n",
       "    <tr>\n",
       "      <th>DATE</th>\n",
       "      <th></th>\n",
       "      <th></th>\n",
       "    </tr>\n",
       "  </thead>\n",
       "  <tbody>\n",
       "    <tr>\n",
       "      <td>1990-04-01</td>\n",
       "      <td>8.126667</td>\n",
       "      <td>NaN</td>\n",
       "    </tr>\n",
       "    <tr>\n",
       "      <td>1990-07-01</td>\n",
       "      <td>8.273333</td>\n",
       "      <td>NaN</td>\n",
       "    </tr>\n",
       "    <tr>\n",
       "      <td>1990-10-01</td>\n",
       "      <td>7.826667</td>\n",
       "      <td>NaN</td>\n",
       "    </tr>\n",
       "    <tr>\n",
       "      <td>1991-01-01</td>\n",
       "      <td>7.303333</td>\n",
       "      <td>NaN</td>\n",
       "    </tr>\n",
       "    <tr>\n",
       "      <td>1991-04-01</td>\n",
       "      <td>6.436667</td>\n",
       "      <td>0.938299</td>\n",
       "    </tr>\n",
       "  </tbody>\n",
       "</table>\n",
       "</div>"
      ],
      "text/plain": [
       "                 GS1      real\n",
       "DATE                          \n",
       "1990-04-01  8.126667       NaN\n",
       "1990-07-01  8.273333       NaN\n",
       "1990-10-01  7.826667       NaN\n",
       "1991-01-01  7.303333       NaN\n",
       "1991-04-01  6.436667  0.938299"
      ]
     },
     "execution_count": 26,
     "metadata": {},
     "output_type": "execute_result"
    }
   ],
   "source": [
    "irates.head()"
   ]
  },
  {
   "cell_type": "markdown",
   "metadata": {},
   "source": [
    "Construct a line plot that shows immediately prior to the Chinese WTO accession US real interest rates fell by approx. 400 basis points:"
   ]
  },
  {
   "cell_type": "code",
   "execution_count": 27,
   "metadata": {},
   "outputs": [
    {
     "data": {
      "text/plain": [
       "<matplotlib.legend.Legend at 0x7f9d8fd4d890>"
      ]
     },
     "execution_count": 27,
     "metadata": {},
     "output_type": "execute_result"
    },
    {
     "data": {
      "image/png": "[encoded data removed]",
      "text/plain": [
       "<Figure size 432x288 with 1 Axes>"
      ]
     },
     "metadata": {
      "needs_background": "light"
     },
     "output_type": "display_data"
    }
   ],
   "source": [
    "fig, ax = plt.subplots()\n",
    "\n",
    "ax.plot(irates.real, color = \"blue\", lw = 5,\n",
    "        label = \"Real Interest Rates\")\n",
    "\n",
    "ax.set_xlim(\"1991-01-01\", \"2008-01-01\")\n",
    "ax.set_ylim(-1, 5)\n",
    "\n",
    "ax.axvline(x= \"2002-01-01\",           # Set the value equall to the average\n",
    "           color='k',       # make the color red\n",
    "           label='China WTO Accesion', # this is the label (shows up in the legend)\n",
    "           linestyle='--',   # the line style\n",
    "           linewidth=2)     # thickness of the line\n",
    "\n",
    "plt.legend()\n",
    "\n"
   ]
  },
  {
   "cell_type": "markdown",
   "metadata": {},
   "source": [
    "## Fact 3: Expanding Trade Deficit"
   ]
  },
  {
   "cell_type": "markdown",
   "metadata": {},
   "source": [
    "The US trade deficit, i.e exports minus imports, worsened after the chinese WTO accession.\n",
    "\n",
    "Compute the trade deficit as a percentage of GDP, and plot it from 1991 until the beginning of 2008. Again, add a line to show that after China entered the WTO the deficit got much worse."
   ]
  },
  {
   "cell_type": "code",
   "execution_count": 28,
   "metadata": {},
   "outputs": [
    {
     "data": {
      "text/plain": [
       "<matplotlib.legend.Legend at 0x7f9d8feacdd0>"
      ]
     },
     "execution_count": 28,
     "metadata": {},
     "output_type": "execute_result"
    },
    {
     "data": {
      "image/png": "[encoded data removed]",
      "text/plain": [
       "<Figure size 720x504 with 1 Axes>"
      ]
     },
     "metadata": {
      "needs_background": "light"
     },
     "output_type": "display_data"
    }
   ],
   "source": [
    "trade_data[\"trade_deficit\"] = (fred[\"EXPGS\"] - fred[\"IMPGS\"]).resample(\"Y\", convention= 'end').sum()\n",
    "\n",
    "trade_data[\"trade_deficit\"] = 100 * trade_data[\"trade_deficit\"]/trade_data[\"GDP\"]\n",
    "\n",
    "fig, ax = plt.subplots(figsize = (10,7))\n",
    "\n",
    "ax.plot(trade_data.trade_deficit, color = \"green\", lw = 5,\n",
    "        label = \"Trade Deficit / GDP\", ls = \"--\")\n",
    "\n",
    "ax.set_xlim(\"1991-01-01\", \"2008-01-01\")\n",
    "#ax.set_ylim(-6, 0)\n",
    "\n",
    "ax.set_ylabel(\"(Exports - Imports) / GDP\", fontsize = 14) \n",
    "\n",
    "ax.axvline(x= \"2002-01-01\",           # Set the value equall to the average\n",
    "           color='k',       # make the color red\n",
    "           label='China WTO Accesion', # this is the label (shows up in the legend)\n",
    "           linestyle='--',   # the line style\n",
    "           linewidth=4)     # thickness of the line\n",
    "\n",
    "ax.legend(loc=\"lower left\", fontsize = 14, frameon=False)\n"
   ]
  },
  {
   "cell_type": "code",
   "execution_count": null,
   "metadata": {},
   "outputs": [],
   "source": []
  }
 ],
 "metadata": {
  "kernelspec": {
   "display_name": "Python 3",
   "language": "python",
   "name": "python3"
  },
  "language_info": {
   "codemirror_mode": {
    "name": "ipython",
    "version": 3
   },
   "file_extension": ".py",
   "mimetype": "text/x-python",
   "name": "python",
   "nbconvert_exporter": "python",
   "pygments_lexer": "ipython3",
   "version": "3.7.4"
  }
 },
 "nbformat": 4,
 "nbformat_minor": 4
}
