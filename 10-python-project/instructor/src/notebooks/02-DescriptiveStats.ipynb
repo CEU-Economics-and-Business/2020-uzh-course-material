{
 "cells": [
  {
   "cell_type": "markdown",
   "metadata": {},
   "source": [
    "# Descriptive Statistics and the Importance of Weighting\n",
    "\n",
    "We are now going to work the the 'micro' data directly from ADH. Luckily, some of our coding friends at NYU Stern have done a tonne of the heavy lifting for us and merged all of ADH's essential data together into one file.\n",
    "\n",
    "The trickiest thing to understand is the timing of the data and the variable names.\n",
    "\n",
    "Here is some info:\n",
    "\n",
    "#### Details about timing is as follows. \n",
    "The start of the period is 1991 and then end is 2007. \n",
    "This is then divided into two periods. \n",
    "The first periods is 1991-2000, thus this is a 9 year time period. \n",
    "They convert stuff into a \"comparable decadal scale\" see Footnote 22. \n",
    "Thus, for values for this period, they multiply them by 10/9.\n",
    "The same issue arises for the second period which is 2000-2007. \n",
    "The values for this are again converted to \"decadal scales\" so they are multiplied by 10/7.\n",
    "\n",
    "The Appendix Table 2, reports the income variable and the decadal adjustments. \n",
    "In the summary statistics for the stuff that we care about, the ADH data is adjusted in this way described above.\n",
    "\n",
    "That is, variables starting with 'l' are in levels whereas variables starting with 'd' are the decadal equivalents.\n",
    "\n",
    "As necessary, we will tell you which variable to use, so that $*_somevariable$ means to choose the appropriate level or decadal equivalent. We leave you to figure out which of the $l$ or $d$ variables to use. Do ask us if you are confused."
   ]
  },
  {
   "cell_type": "markdown",
   "metadata": {},
   "source": [
    "## Understanding the Essence of the Paper and What Comes Next.\n",
    "\n",
    "Read Section 1 of ADH, so that you build an understanding of there main measure 'IPW' and what the paper is about. This will help you understand the context behind the remaining exercises in this notebook and those to follow.\n",
    "\n",
    "Your first task will be to compute some descriptive statistics from the data. To be more precise, you will replicate some of the key numbers in Appendix Table 2 of ADH. (On a side note, at least one of us thinks this table should be in the main text!)"
   ]
  },
  {
   "cell_type": "markdown",
   "metadata": {},
   "source": [
    "## Loading the Necessary packages"
   ]
  },
  {
   "cell_type": "code",
   "execution_count": 1,
   "metadata": {},
   "outputs": [],
   "source": [
    "import pandas as pd\n",
    "import matplotlib.pyplot as plt\n",
    "import numpy as np"
   ]
  },
  {
   "cell_type": "markdown",
   "metadata": {},
   "source": [
    "## Downloading the ADH data.\n",
    "\n",
    "The data are included inside the larger folder we are working in. If your current working directory is 'notebooks', then the data are stored in '../data'\n",
    "\n",
    "Load this data into a data frame called `df` using the appropriate pandas `read_*` function. Then look at the head and tail of the data."
   ]
  },
  {
   "cell_type": "code",
   "execution_count": 4,
   "metadata": {},
   "outputs": [],
   "source": [
    "data_file = '../data/adh_data.csv'"
   ]
  },
  {
   "cell_type": "code",
   "execution_count": 5,
   "metadata": {},
   "outputs": [],
   "source": [
    "df = pd.read_csv(data_file)"
   ]
  },
  {
   "cell_type": "code",
   "execution_count": 6,
   "metadata": {},
   "outputs": [
    {
     "data": {
      "text/html": [
       "<div>\n",
       "<style scoped>\n",
       "    .dataframe tbody tr th:only-of-type {\n",
       "        vertical-align: middle;\n",
       "    }\n",
       "\n",
       "    .dataframe tbody tr th {\n",
       "        vertical-align: top;\n",
       "    }\n",
       "\n",
       "    .dataframe thead th {\n",
       "        text-align: right;\n",
       "    }\n",
       "</style>\n",
       "<table border=\"1\" class=\"dataframe\">\n",
       "  <thead>\n",
       "    <tr style=\"text-align: right;\">\n",
       "      <th></th>\n",
       "      <th>czone</th>\n",
       "      <th>statefip</th>\n",
       "      <th>city</th>\n",
       "      <th>yr</th>\n",
       "      <th>t2</th>\n",
       "      <th>timepwt48</th>\n",
       "      <th>reg_midatl</th>\n",
       "      <th>reg_encen</th>\n",
       "      <th>reg_wncen</th>\n",
       "      <th>reg_satl</th>\n",
       "      <th>...</th>\n",
       "      <th>d_tradefactor_otch_lag_io</th>\n",
       "      <th>d_expfactor_otch_lag_io</th>\n",
       "      <th>d_tradeuschlw_pw</th>\n",
       "      <th>d_tradeotchlw_pw_lag</th>\n",
       "      <th>d_tradeuschce_pw</th>\n",
       "      <th>d_tradeotchce_pw_lag</th>\n",
       "      <th>d_tradeusce_pw</th>\n",
       "      <th>d_tradeotce_pw_lag</th>\n",
       "      <th>d_tradeushi_pw</th>\n",
       "      <th>d_tradeothi_pw_lag</th>\n",
       "    </tr>\n",
       "  </thead>\n",
       "  <tbody>\n",
       "    <tr>\n",
       "      <td>0</td>\n",
       "      <td>100</td>\n",
       "      <td>47</td>\n",
       "      <td>undefined</td>\n",
       "      <td>1990</td>\n",
       "      <td>0</td>\n",
       "      <td>0.002114</td>\n",
       "      <td>0</td>\n",
       "      <td>0</td>\n",
       "      <td>0</td>\n",
       "      <td>0</td>\n",
       "      <td>...</td>\n",
       "      <td>2.236522</td>\n",
       "      <td>0.473667</td>\n",
       "      <td>5.745085</td>\n",
       "      <td>2.437189</td>\n",
       "      <td>11.723440</td>\n",
       "      <td>2.363754</td>\n",
       "      <td>6.429653</td>\n",
       "      <td>0.084927</td>\n",
       "      <td>30.744575</td>\n",
       "      <td>8.696790</td>\n",
       "    </tr>\n",
       "    <tr>\n",
       "      <td>1</td>\n",
       "      <td>100</td>\n",
       "      <td>47</td>\n",
       "      <td>undefined</td>\n",
       "      <td>2000</td>\n",
       "      <td>1</td>\n",
       "      <td>0.002067</td>\n",
       "      <td>0</td>\n",
       "      <td>0</td>\n",
       "      <td>0</td>\n",
       "      <td>0</td>\n",
       "      <td>...</td>\n",
       "      <td>7.756201</td>\n",
       "      <td>2.385448</td>\n",
       "      <td>7.433516</td>\n",
       "      <td>9.709133</td>\n",
       "      <td>10.229408</td>\n",
       "      <td>9.147025</td>\n",
       "      <td>3.609548</td>\n",
       "      <td>0.178625</td>\n",
       "      <td>25.120905</td>\n",
       "      <td>64.122138</td>\n",
       "    </tr>\n",
       "    <tr>\n",
       "      <td>2</td>\n",
       "      <td>200</td>\n",
       "      <td>47</td>\n",
       "      <td>undefined</td>\n",
       "      <td>1990</td>\n",
       "      <td>0</td>\n",
       "      <td>0.000732</td>\n",
       "      <td>0</td>\n",
       "      <td>0</td>\n",
       "      <td>0</td>\n",
       "      <td>0</td>\n",
       "      <td>...</td>\n",
       "      <td>2.819397</td>\n",
       "      <td>0.470286</td>\n",
       "      <td>3.139381</td>\n",
       "      <td>3.033377</td>\n",
       "      <td>5.698626</td>\n",
       "      <td>2.847327</td>\n",
       "      <td>2.668147</td>\n",
       "      <td>0.049593</td>\n",
       "      <td>16.205678</td>\n",
       "      <td>3.316682</td>\n",
       "    </tr>\n",
       "    <tr>\n",
       "      <td>3</td>\n",
       "      <td>200</td>\n",
       "      <td>47</td>\n",
       "      <td>undefined</td>\n",
       "      <td>2000</td>\n",
       "      <td>1</td>\n",
       "      <td>0.000815</td>\n",
       "      <td>0</td>\n",
       "      <td>0</td>\n",
       "      <td>0</td>\n",
       "      <td>0</td>\n",
       "      <td>...</td>\n",
       "      <td>4.411247</td>\n",
       "      <td>0.982626</td>\n",
       "      <td>10.840832</td>\n",
       "      <td>4.853496</td>\n",
       "      <td>13.314946</td>\n",
       "      <td>4.596729</td>\n",
       "      <td>3.054200</td>\n",
       "      <td>0.115029</td>\n",
       "      <td>14.212564</td>\n",
       "      <td>21.742845</td>\n",
       "    </tr>\n",
       "    <tr>\n",
       "      <td>4</td>\n",
       "      <td>301</td>\n",
       "      <td>47</td>\n",
       "      <td>undefined</td>\n",
       "      <td>1990</td>\n",
       "      <td>0</td>\n",
       "      <td>0.000261</td>\n",
       "      <td>0</td>\n",
       "      <td>0</td>\n",
       "      <td>0</td>\n",
       "      <td>0</td>\n",
       "      <td>...</td>\n",
       "      <td>1.100026</td>\n",
       "      <td>0.110491</td>\n",
       "      <td>2.656860</td>\n",
       "      <td>0.798065</td>\n",
       "      <td>6.746723</td>\n",
       "      <td>0.739753</td>\n",
       "      <td>4.684127</td>\n",
       "      <td>0.018845</td>\n",
       "      <td>18.276355</td>\n",
       "      <td>0.465902</td>\n",
       "    </tr>\n",
       "  </tbody>\n",
       "</table>\n",
       "<p>5 rows × 208 columns</p>\n",
       "</div>"
      ],
      "text/plain": [
       "   czone  statefip       city    yr  t2  timepwt48  reg_midatl  reg_encen  \\\n",
       "0    100        47  undefined  1990   0   0.002114           0          0   \n",
       "1    100        47  undefined  2000   1   0.002067           0          0   \n",
       "2    200        47  undefined  1990   0   0.000732           0          0   \n",
       "3    200        47  undefined  2000   1   0.000815           0          0   \n",
       "4    301        47  undefined  1990   0   0.000261           0          0   \n",
       "\n",
       "   reg_wncen  reg_satl  ...  d_tradefactor_otch_lag_io  \\\n",
       "0          0         0  ...                   2.236522   \n",
       "1          0         0  ...                   7.756201   \n",
       "2          0         0  ...                   2.819397   \n",
       "3          0         0  ...                   4.411247   \n",
       "4          0         0  ...                   1.100026   \n",
       "\n",
       "   d_expfactor_otch_lag_io  d_tradeuschlw_pw  d_tradeotchlw_pw_lag  \\\n",
       "0                 0.473667          5.745085              2.437189   \n",
       "1                 2.385448          7.433516              9.709133   \n",
       "2                 0.470286          3.139381              3.033377   \n",
       "3                 0.982626         10.840832              4.853496   \n",
       "4                 0.110491          2.656860              0.798065   \n",
       "\n",
       "   d_tradeuschce_pw  d_tradeotchce_pw_lag  d_tradeusce_pw  d_tradeotce_pw_lag  \\\n",
       "0         11.723440              2.363754        6.429653            0.084927   \n",
       "1         10.229408              9.147025        3.609548            0.178625   \n",
       "2          5.698626              2.847327        2.668147            0.049593   \n",
       "3         13.314946              4.596729        3.054200            0.115029   \n",
       "4          6.746723              0.739753        4.684127            0.018845   \n",
       "\n",
       "   d_tradeushi_pw  d_tradeothi_pw_lag  \n",
       "0       30.744575            8.696790  \n",
       "1       25.120905           64.122138  \n",
       "2       16.205678            3.316682  \n",
       "3       14.212564           21.742845  \n",
       "4       18.276355            0.465902  \n",
       "\n",
       "[5 rows x 208 columns]"
      ]
     },
     "execution_count": 6,
     "metadata": {},
     "output_type": "execute_result"
    }
   ],
   "source": [
    "df.head()"
   ]
  },
  {
   "cell_type": "markdown",
   "metadata": {},
   "source": [
    "## Summary Statistics by Year - Take 1\n",
    "\n",
    "Let's try and build up some understanding of the data.\n",
    "\n",
    "Compute the for each decade the number of chinese imports per worker in levels ('l_tradeusch_pw'):"
   ]
  },
  {
   "cell_type": "code",
   "execution_count": 7,
   "metadata": {},
   "outputs": [
    {
     "data": {
      "text/html": [
       "<div>\n",
       "<style scoped>\n",
       "    .dataframe tbody tr th:only-of-type {\n",
       "        vertical-align: middle;\n",
       "    }\n",
       "\n",
       "    .dataframe tbody tr th {\n",
       "        vertical-align: top;\n",
       "    }\n",
       "\n",
       "    .dataframe thead th {\n",
       "        text-align: right;\n",
       "    }\n",
       "</style>\n",
       "<table border=\"1\" class=\"dataframe\">\n",
       "  <thead>\n",
       "    <tr style=\"text-align: right;\">\n",
       "      <th></th>\n",
       "      <th>mean</th>\n",
       "    </tr>\n",
       "    <tr>\n",
       "      <th>yr</th>\n",
       "      <th></th>\n",
       "    </tr>\n",
       "  </thead>\n",
       "  <tbody>\n",
       "    <tr>\n",
       "      <td>1990</td>\n",
       "      <td>0.363711</td>\n",
       "    </tr>\n",
       "    <tr>\n",
       "      <td>2000</td>\n",
       "      <td>1.123239</td>\n",
       "    </tr>\n",
       "  </tbody>\n",
       "</table>\n",
       "</div>"
      ],
      "text/plain": [
       "          mean\n",
       "yr            \n",
       "1990  0.363711\n",
       "2000  1.123239"
      ]
     },
     "execution_count": 7,
     "metadata": {},
     "output_type": "execute_result"
    }
   ],
   "source": [
    "df.groupby('yr')['l_tradeusch_pw'] \\\n",
    "        .aggregate(mean  = np.mean)\n"
   ]
  },
  {
   "cell_type": "markdown",
   "metadata": {},
   "source": [
    "and per decadal equivalent"
   ]
  },
  {
   "cell_type": "code",
   "execution_count": 8,
   "metadata": {},
   "outputs": [
    {
     "data": {
      "text/html": [
       "<div>\n",
       "<style scoped>\n",
       "    .dataframe tbody tr th:only-of-type {\n",
       "        vertical-align: middle;\n",
       "    }\n",
       "\n",
       "    .dataframe tbody tr th {\n",
       "        vertical-align: top;\n",
       "    }\n",
       "\n",
       "    .dataframe thead th {\n",
       "        text-align: right;\n",
       "    }\n",
       "</style>\n",
       "<table border=\"1\" class=\"dataframe\">\n",
       "  <thead>\n",
       "    <tr style=\"text-align: right;\">\n",
       "      <th></th>\n",
       "      <th>mean</th>\n",
       "    </tr>\n",
       "    <tr>\n",
       "      <th>yr</th>\n",
       "      <th></th>\n",
       "    </tr>\n",
       "  </thead>\n",
       "  <tbody>\n",
       "    <tr>\n",
       "      <td>1990</td>\n",
       "      <td>1.175688</td>\n",
       "    </tr>\n",
       "    <tr>\n",
       "      <td>2000</td>\n",
       "      <td>2.635525</td>\n",
       "    </tr>\n",
       "  </tbody>\n",
       "</table>\n",
       "</div>"
      ],
      "text/plain": [
       "          mean\n",
       "yr            \n",
       "1990  1.175688\n",
       "2000  2.635525"
      ]
     },
     "execution_count": 8,
     "metadata": {},
     "output_type": "execute_result"
    }
   ],
   "source": [
    "df.groupby('yr')['d_tradeusch_pw'] \\\n",
    "        .aggregate(mean  = np.mean)"
   ]
  },
  {
   "cell_type": "markdown",
   "metadata": {},
   "source": [
    "Notice that these statistics do not line up exactly with those in Appendix Table 2. The reason why? \n",
    "\n",
    "They use *weighted* statistics, and we haven't. \n",
    "\n",
    "There is a new-ish package that can help us here (unfortunately pandas alone doesn't do us many favours). The package we need to install is called `weightedcalcs`\n"
   ]
  },
  {
   "cell_type": "code",
   "execution_count": 9,
   "metadata": {},
   "outputs": [
    {
     "name": "stdout",
     "output_type": "stream",
     "text": [
      "Requirement already satisfied: weightedcalcs in /home/lachlan/anaconda3/lib/python3.7/site-packages (0.1.2)\r\n",
      "Requirement already satisfied: pandas>=0.19 in /home/lachlan/anaconda3/lib/python3.7/site-packages (from weightedcalcs) (0.25.1)\r\n",
      "Requirement already satisfied: pytz>=2017.2 in /home/lachlan/anaconda3/lib/python3.7/site-packages (from pandas>=0.19->weightedcalcs) (2019.3)\r\n",
      "Requirement already satisfied: python-dateutil>=2.6.1 in /home/lachlan/anaconda3/lib/python3.7/site-packages (from pandas>=0.19->weightedcalcs) (2.8.0)\r\n",
      "Requirement already satisfied: numpy>=1.13.3 in /home/lachlan/anaconda3/lib/python3.7/site-packages (from pandas>=0.19->weightedcalcs) (1.17.2)\r\n",
      "Requirement already satisfied: six>=1.5 in /home/lachlan/anaconda3/lib/python3.7/site-packages (from python-dateutil>=2.6.1->pandas>=0.19->weightedcalcs) (1.12.0)\r\n"
     ]
    }
   ],
   "source": [
    "!pip install weightedcalcs"
   ]
  },
  {
   "cell_type": "code",
   "execution_count": 10,
   "metadata": {},
   "outputs": [],
   "source": [
    "import weightedcalcs as wc"
   ]
  },
  {
   "cell_type": "markdown",
   "metadata": {},
   "source": [
    "weightedcalcs works well on pandas dataframes, though the exact syntax differs a little. It's useful to know - especially if you want to work with census data.\n",
    "\n",
    "First, we create a `calc` object that specifies what we want to weight by.\n",
    "\n",
    "ADH weight by the level of the population count per region, `l_popcount`:\n"
   ]
  },
  {
   "cell_type": "code",
   "execution_count": 11,
   "metadata": {},
   "outputs": [],
   "source": [
    "calc = wc.Calculator(\"l_popcount\")"
   ]
  },
  {
   "cell_type": "markdown",
   "metadata": {},
   "source": [
    "This operator cannot be chained into an existing pandas command as far as I am aware. What it can do though, is take a grouped dataframe as an input argument, so the syntax:\n",
    "\n",
    "```python\n",
    "my_grouped_df = df.groupby('some_grouping_variable')\n",
    "\n",
    "calc.SOMESTAT(my_grouped_df, 'my_intersting_variable')\n",
    "```\n",
    "\n",
    "works just fine.\n",
    "\n",
    "So:"
   ]
  },
  {
   "cell_type": "code",
   "execution_count": 12,
   "metadata": {},
   "outputs": [],
   "source": [
    "grp_df = df.groupby('yr')"
   ]
  },
  {
   "cell_type": "code",
   "execution_count": 13,
   "metadata": {},
   "outputs": [
    {
     "data": {
      "text/plain": [
       "yr\n",
       "1990    0.29\n",
       "2000    1.08\n",
       "dtype: float64"
      ]
     },
     "execution_count": 13,
     "metadata": {},
     "output_type": "execute_result"
    }
   ],
   "source": [
    "calc.mean(grp_df, \"l_tradeusch_pw\").round(2)"
   ]
  },
  {
   "cell_type": "code",
   "execution_count": 14,
   "metadata": {},
   "outputs": [
    {
     "data": {
      "text/plain": [
       "yr\n",
       "1990    1.14\n",
       "2000    2.63\n",
       "dtype: float64"
      ]
     },
     "execution_count": 14,
     "metadata": {},
     "output_type": "execute_result"
    }
   ],
   "source": [
    "calc.mean(grp_df, \"d_tradeusch_pw\").round(2)"
   ]
  },
  {
   "cell_type": "markdown",
   "metadata": {},
   "source": [
    "yields exactly the numbers in appendix table 2 (thou you need to look for exactly where the numbers appear).\n",
    "\n",
    "Let's do some more weighted group stats.\n",
    "\n",
    "The appendix table also reports standard deviations. Let's try this too, the relevant function is `std`. Give it a go:"
   ]
  },
  {
   "cell_type": "code",
   "execution_count": 15,
   "metadata": {},
   "outputs": [
    {
     "data": {
      "text/plain": [
       "yr\n",
       "1990    0.32\n",
       "2000    0.90\n",
       "dtype: float64"
      ]
     },
     "execution_count": 15,
     "metadata": {},
     "output_type": "execute_result"
    }
   ],
   "source": [
    "calc.std(grp_df, \"l_tradeusch_pw\").round(2)"
   ]
  },
  {
   "cell_type": "code",
   "execution_count": 16,
   "metadata": {},
   "outputs": [
    {
     "data": {
      "text/plain": [
       "yr\n",
       "1990    0.99\n",
       "2000    2.01\n",
       "dtype: float64"
      ]
     },
     "execution_count": 16,
     "metadata": {},
     "output_type": "execute_result"
    }
   ],
   "source": [
    "calc.std(grp_df, \"d_tradeusch_pw\").round(2)"
   ]
  },
  {
   "cell_type": "markdown",
   "metadata": {},
   "source": [
    "Now compute the mean and standard deviation of the average household wage and salary, `*_avg_hhincwage_pc_pw`:"
   ]
  },
  {
   "cell_type": "code",
   "execution_count": 17,
   "metadata": {},
   "outputs": [
    {
     "data": {
      "text/plain": [
       "yr\n",
       "1990    23495.65\n",
       "2000    27654.94\n",
       "dtype: float64"
      ]
     },
     "execution_count": 17,
     "metadata": {},
     "output_type": "execute_result"
    }
   ],
   "source": [
    "calc.mean(grp_df, \"l_avg_hhincwage_pc_pw\").round(2)"
   ]
  },
  {
   "cell_type": "code",
   "execution_count": 18,
   "metadata": {},
   "outputs": [
    {
     "data": {
      "text/plain": [
       "yr\n",
       "1990    4700.44\n",
       "2000    5449.15\n",
       "dtype: float64"
      ]
     },
     "execution_count": 18,
     "metadata": {},
     "output_type": "execute_result"
    }
   ],
   "source": [
    "calc.std(grp_df, \"l_avg_hhincwage_pc_pw\").round(2)"
   ]
  },
  {
   "cell_type": "code",
   "execution_count": 19,
   "metadata": {},
   "outputs": [
    {
     "data": {
      "text/plain": [
       "yr\n",
       "1990    4152.03\n",
       "2000    1703.21\n",
       "dtype: float64"
      ]
     },
     "execution_count": 19,
     "metadata": {},
     "output_type": "execute_result"
    }
   ],
   "source": [
    "calc.mean(grp_df, \"d_avg_hhincwage_pc_pw\").round(2)"
   ]
  },
  {
   "cell_type": "code",
   "execution_count": 20,
   "metadata": {},
   "outputs": [
    {
     "data": {
      "text/plain": [
       "yr\n",
       "1990    1569.38\n",
       "2000    2623.23\n",
       "dtype: float64"
      ]
     },
     "execution_count": 20,
     "metadata": {},
     "output_type": "execute_result"
    }
   ],
   "source": [
    "calc.std(grp_df, \"d_avg_hhincwage_pc_pw\").round(2)"
   ]
  },
  {
   "cell_type": "markdown",
   "metadata": {},
   "source": [
    "And once more for share not in labor force, `*_sh_nilf`"
   ]
  },
  {
   "cell_type": "code",
   "execution_count": 21,
   "metadata": {},
   "outputs": [
    {
     "data": {
      "text/plain": [
       "yr\n",
       "1990    24.76\n",
       "2000    26.05\n",
       "dtype: float64"
      ]
     },
     "execution_count": 21,
     "metadata": {},
     "output_type": "execute_result"
    }
   ],
   "source": [
    "calc.mean(grp_df, \"l_sh_nilf\").round(2)"
   ]
  },
  {
   "cell_type": "code",
   "execution_count": 22,
   "metadata": {},
   "outputs": [
    {
     "data": {
      "text/plain": [
       "yr\n",
       "1990    4.34\n",
       "2000    4.39\n",
       "dtype: float64"
      ]
     },
     "execution_count": 22,
     "metadata": {},
     "output_type": "execute_result"
    }
   ],
   "source": [
    "calc.std(grp_df, \"l_sh_nilf\").round(2)"
   ]
  },
  {
   "cell_type": "code",
   "execution_count": 23,
   "metadata": {},
   "outputs": [
    {
     "data": {
      "text/plain": [
       "yr\n",
       "1990    1.29\n",
       "2000   -1.82\n",
       "dtype: float64"
      ]
     },
     "execution_count": 23,
     "metadata": {},
     "output_type": "execute_result"
    }
   ],
   "source": [
    "calc.mean(grp_df, \"d_sh_nilf\").round(2)"
   ]
  },
  {
   "cell_type": "code",
   "execution_count": 24,
   "metadata": {},
   "outputs": [
    {
     "data": {
      "text/plain": [
       "yr\n",
       "1990    2.56\n",
       "2000    2.57\n",
       "dtype: float64"
      ]
     },
     "execution_count": 24,
     "metadata": {},
     "output_type": "execute_result"
    }
   ],
   "source": [
    "calc.std(grp_df, \"d_sh_nilf\").round(2)"
   ]
  },
  {
   "cell_type": "markdown",
   "metadata": {},
   "source": [
    "How well do your statistics line up with those reported in the paper?"
   ]
  }
 ],
 "metadata": {
  "kernelspec": {
   "display_name": "Python 3",
   "language": "python",
   "name": "python3"
  },
  "language_info": {
   "codemirror_mode": {
    "name": "ipython",
    "version": 3
   },
   "file_extension": ".py",
   "mimetype": "text/x-python",
   "name": "python",
   "nbconvert_exporter": "python",
   "pygments_lexer": "ipython3",
   "version": "3.7.4"
  }
 },
 "nbformat": 4,
 "nbformat_minor": 4
}
