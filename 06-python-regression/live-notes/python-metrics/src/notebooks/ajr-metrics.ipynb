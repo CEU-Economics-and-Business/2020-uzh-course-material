{
 "cells": [
  {
   "cell_type": "code",
   "execution_count": 1,
   "metadata": {},
   "outputs": [],
   "source": [
    "import pandas as pd\n",
    "import matplotlib.pyplot as plt\n",
    "import numpy as np"
   ]
  },
  {
   "cell_type": "code",
   "execution_count": 2,
   "metadata": {},
   "outputs": [
    {
     "name": "stdout",
     "output_type": "stream",
     "text": [
      "ajr.py\t__init__.py\r\n"
     ]
    }
   ],
   "source": [
    "!ls ../lib/"
   ]
  },
  {
   "cell_type": "code",
   "execution_count": 3,
   "metadata": {},
   "outputs": [
    {
     "name": "stdout",
     "output_type": "stream",
     "text": [
      "def download_data(weblink, data_dir, zip_name, table_number):\r\n",
      "    \"\"\"\r\n",
      "    This function downloads data from Daron Acemoglu's website for the AJR01 paper.\r\n",
      "\r\n",
      "    In particular:\r\n",
      "        1. Downloads a ZIP archive of the files needed to generate one table\r\n",
      "        2. Unzips these files\r\n",
      "        3. Imports the data set as a Pandas DataFrame\r\n",
      "\r\n",
      "    Example Usage:\r\n",
      "\r\n",
      "    \"\"\"\r\n",
      "    import shutil\r\n",
      "    import requests\r\n",
      "    import zipfile\r\n",
      "    import glob\r\n",
      "    import os\r\n",
      "    import pandas as pd\r\n",
      "\r\n",
      "    # check a data directory exists, or create it\r\n",
      "    if not os.path.exists(data_dir):\r\n",
      "        os.makedirs(data_dir)\r\n",
      "\r\n",
      "    # connect to the page\r\n",
      "    response = requests.get(weblink, stream=True, verify=False)\r\n",
      "\r\n",
      "    # save the zip to our preferred location\r\n",
      "    with open(data_dir + zip_name, 'wb') as out_file:\r\n",
      "        shutil.copyfileobj(response.raw, out_file)\r\n",
      "\r\n",
      "    # clean up\r\n",
      "    del response\r\n",
      "\r\n",
      "    # unzip\r\n",
      "    zip_ref = zipfile.ZipFile(data_dir + zip_name, 'r')\r\n",
      "    zip_ref.extractall(data_dir)\r\n",
      "\r\n",
      "    # find the data file\r\n",
      "    data_file = glob.glob(data_dir + '*' + table_number + '.dta')[0]\r\n",
      "\r\n",
      "    return pd.read_stata(data_file)\r\n"
     ]
    }
   ],
   "source": [
    "!cat ../lib/ajr.py"
   ]
  },
  {
   "cell_type": "code",
   "execution_count": 4,
   "metadata": {},
   "outputs": [],
   "source": [
    "import sys"
   ]
  },
  {
   "cell_type": "code",
   "execution_count": 5,
   "metadata": {},
   "outputs": [
    {
     "name": "stdout",
     "output_type": "stream",
     "text": [
      "['/home/lachlan/my_phd/courses/pp4rs/playground/python-metrics/src/notebooks', '/home/lachlan/anaconda3/lib/python37.zip', '/home/lachlan/anaconda3/lib/python3.7', '/home/lachlan/anaconda3/lib/python3.7/lib-dynload', '', '/home/lachlan/.local/lib/python3.7/site-packages', '/home/lachlan/anaconda3/lib/python3.7/site-packages', '/home/lachlan/anaconda3/lib/python3.7/site-packages/IPython/extensions', '/home/lachlan/.ipython']\n"
     ]
    }
   ],
   "source": [
    "print(sys.path)"
   ]
  },
  {
   "cell_type": "code",
   "execution_count": 7,
   "metadata": {},
   "outputs": [],
   "source": [
    "sys.path.append('../')"
   ]
  },
  {
   "cell_type": "code",
   "execution_count": 6,
   "metadata": {},
   "outputs": [
    {
     "name": "stdout",
     "output_type": "stream",
     "text": [
      "/home/lachlan/my_phd/courses/pp4rs/playground/python-metrics/src/notebooks\r\n"
     ]
    }
   ],
   "source": [
    "!pwd"
   ]
  },
  {
   "cell_type": "code",
   "execution_count": 8,
   "metadata": {},
   "outputs": [
    {
     "name": "stdout",
     "output_type": "stream",
     "text": [
      "['/home/lachlan/my_phd/courses/pp4rs/playground/python-metrics/src/notebooks', '/home/lachlan/anaconda3/lib/python37.zip', '/home/lachlan/anaconda3/lib/python3.7', '/home/lachlan/anaconda3/lib/python3.7/lib-dynload', '', '/home/lachlan/.local/lib/python3.7/site-packages', '/home/lachlan/anaconda3/lib/python3.7/site-packages', '/home/lachlan/anaconda3/lib/python3.7/site-packages/IPython/extensions', '/home/lachlan/.ipython', '../']\n"
     ]
    }
   ],
   "source": [
    "print(sys.path)"
   ]
  },
  {
   "cell_type": "code",
   "execution_count": 9,
   "metadata": {},
   "outputs": [],
   "source": [
    "# import ajr from lib subdirectory now that `src` folder was added to path"
   ]
  },
  {
   "cell_type": "code",
   "execution_count": 10,
   "metadata": {},
   "outputs": [],
   "source": [
    "from lib import ajr"
   ]
  },
  {
   "cell_type": "code",
   "execution_count": 11,
   "metadata": {},
   "outputs": [
    {
     "name": "stdout",
     "output_type": "stream",
     "text": [
      "Help on module lib.ajr in lib:\n",
      "\n",
      "NAME\n",
      "    lib.ajr\n",
      "\n",
      "FUNCTIONS\n",
      "    download_data(weblink, data_dir, zip_name, table_number)\n",
      "        This function downloads data from Daron Acemoglu's website for the AJR01 paper.\n",
      "        \n",
      "        In particular:\n",
      "            1. Downloads a ZIP archive of the files needed to generate one table\n",
      "            2. Unzips these files\n",
      "            3. Imports the data set as a Pandas DataFrame\n",
      "        \n",
      "        Example Usage:\n",
      "\n",
      "FILE\n",
      "    /home/lachlan/my_phd/courses/pp4rs/playground/python-metrics/src/lib/ajr.py\n",
      "\n",
      "\n"
     ]
    }
   ],
   "source": [
    "help(ajr)"
   ]
  },
  {
   "cell_type": "code",
   "execution_count": 108,
   "metadata": {},
   "outputs": [],
   "source": [
    "# to use download data we need:\n",
    "weblink  = 'https://economics.mit.edu/files/5197' # acemoglus file store\n",
    "data_dir = '../data'  # where i want data to be saved\n",
    "zip_name = 'maketable1.zip' # what I wanna download\n",
    "table    = 'maketable1'      # where I want the unzipped stuff to be saved to (inside data_dir)"
   ]
  },
  {
   "cell_type": "code",
   "execution_count": 109,
   "metadata": {},
   "outputs": [
    {
     "name": "stderr",
     "output_type": "stream",
     "text": [
      "/home/lachlan/anaconda3/lib/python3.7/site-packages/urllib3/connectionpool.py:847: InsecureRequestWarning: Unverified HTTPS request is being made. Adding certificate verification is strongly advised. See: https://urllib3.readthedocs.io/en/latest/advanced-usage.html#ssl-warnings\n",
      "  InsecureRequestWarning)\n"
     ]
    },
    {
     "ename": "IndexError",
     "evalue": "list index out of range",
     "output_type": "error",
     "traceback": [
      "\u001b[0;31m---------------------------------------------------------------------------\u001b[0m",
      "\u001b[0;31mIndexError\u001b[0m                                Traceback (most recent call last)",
      "\u001b[0;32m<ipython-input-109-13e695ba75e8>\u001b[0m in \u001b[0;36m<module>\u001b[0;34m\u001b[0m\n\u001b[0;32m----> 1\u001b[0;31m \u001b[0mdf2\u001b[0m \u001b[0;34m=\u001b[0m \u001b[0majr\u001b[0m\u001b[0;34m.\u001b[0m\u001b[0mdownload_data\u001b[0m\u001b[0;34m(\u001b[0m\u001b[0mweblink\u001b[0m\u001b[0;34m,\u001b[0m \u001b[0mdata_dir\u001b[0m\u001b[0;34m,\u001b[0m \u001b[0mzip_name\u001b[0m\u001b[0;34m,\u001b[0m \u001b[0mtable\u001b[0m\u001b[0;34m)\u001b[0m\u001b[0;34m\u001b[0m\u001b[0;34m\u001b[0m\u001b[0m\n\u001b[0m",
      "\u001b[0;32m~/my_phd/courses/pp4rs/playground/python-metrics/src/lib/ajr.py\u001b[0m in \u001b[0;36mdownload_data\u001b[0;34m(weblink, data_dir, zip_name, table_number)\u001b[0m\n\u001b[1;32m     37\u001b[0m \u001b[0;34m\u001b[0m\u001b[0m\n\u001b[1;32m     38\u001b[0m     \u001b[0;31m# find the data file\u001b[0m\u001b[0;34m\u001b[0m\u001b[0;34m\u001b[0m\u001b[0;34m\u001b[0m\u001b[0m\n\u001b[0;32m---> 39\u001b[0;31m     \u001b[0mdata_file\u001b[0m \u001b[0;34m=\u001b[0m \u001b[0mglob\u001b[0m\u001b[0;34m.\u001b[0m\u001b[0mglob\u001b[0m\u001b[0;34m(\u001b[0m\u001b[0mdata_dir\u001b[0m \u001b[0;34m+\u001b[0m \u001b[0;34m'*'\u001b[0m \u001b[0;34m+\u001b[0m \u001b[0mtable_number\u001b[0m \u001b[0;34m+\u001b[0m \u001b[0;34m'.dta'\u001b[0m\u001b[0;34m)\u001b[0m\u001b[0;34m[\u001b[0m\u001b[0;36m0\u001b[0m\u001b[0;34m]\u001b[0m\u001b[0;34m\u001b[0m\u001b[0;34m\u001b[0m\u001b[0m\n\u001b[0m\u001b[1;32m     40\u001b[0m \u001b[0;34m\u001b[0m\u001b[0m\n\u001b[1;32m     41\u001b[0m     \u001b[0;32mreturn\u001b[0m \u001b[0mpd\u001b[0m\u001b[0;34m.\u001b[0m\u001b[0mread_stata\u001b[0m\u001b[0;34m(\u001b[0m\u001b[0mdata_file\u001b[0m\u001b[0;34m)\u001b[0m\u001b[0;34m\u001b[0m\u001b[0;34m\u001b[0m\u001b[0m\n",
      "\u001b[0;31mIndexError\u001b[0m: list index out of range"
     ]
    }
   ],
   "source": [
    "df2 = ajr.download_data(weblink, data_dir, zip_name, table)"
   ]
  },
  {
   "cell_type": "code",
   "execution_count": 31,
   "metadata": {},
   "outputs": [],
   "source": [
    "df = pd.read_stata('../data/maketable1.dta')"
   ]
  },
  {
   "cell_type": "markdown",
   "metadata": {},
   "source": [
    "## Univariate Regression\n",
    "\n",
    "$$\n",
    "logpgp95_i = \\beta_0 + \\beta_1 avexpr_i + u_i \n",
    "$$\n"
   ]
  },
  {
   "cell_type": "code",
   "execution_count": 33,
   "metadata": {},
   "outputs": [],
   "source": [
    "import statsmodels as sm"
   ]
  },
  {
   "cell_type": "code",
   "execution_count": 34,
   "metadata": {},
   "outputs": [
    {
     "data": {
      "text/plain": [
       "'0.10.1'"
      ]
     },
     "execution_count": 34,
     "metadata": {},
     "output_type": "execute_result"
    }
   ],
   "source": [
    "sm.__version__"
   ]
  },
  {
   "cell_type": "code",
   "execution_count": 35,
   "metadata": {},
   "outputs": [],
   "source": [
    "import statsmodels.formula.api as smf"
   ]
  },
  {
   "cell_type": "code",
   "execution_count": 36,
   "metadata": {},
   "outputs": [],
   "source": [
    "simple_reg = smf.ols('logpgp95 ~ avexpr', data = df)"
   ]
  },
  {
   "cell_type": "code",
   "execution_count": 37,
   "metadata": {},
   "outputs": [
    {
     "data": {
      "text/plain": [
       "statsmodels.regression.linear_model.OLS"
      ]
     },
     "execution_count": 37,
     "metadata": {},
     "output_type": "execute_result"
    }
   ],
   "source": [
    "type(simple_reg)"
   ]
  },
  {
   "cell_type": "code",
   "execution_count": 38,
   "metadata": {},
   "outputs": [],
   "source": [
    "results = simple_reg.fit()"
   ]
  },
  {
   "cell_type": "code",
   "execution_count": 39,
   "metadata": {},
   "outputs": [
    {
     "data": {
      "text/plain": [
       "statsmodels.regression.linear_model.RegressionResultsWrapper"
      ]
     },
     "execution_count": 39,
     "metadata": {},
     "output_type": "execute_result"
    }
   ],
   "source": [
    "type(results)"
   ]
  },
  {
   "cell_type": "code",
   "execution_count": 41,
   "metadata": {},
   "outputs": [
    {
     "name": "stdout",
     "output_type": "stream",
     "text": [
      "                            OLS Regression Results                            \n",
      "==============================================================================\n",
      "Dep. Variable:               logpgp95   R-squared:                       0.611\n",
      "Model:                            OLS   Adj. R-squared:                  0.608\n",
      "Method:                 Least Squares   F-statistic:                     171.4\n",
      "Date:                Fri, 31 Jan 2020   Prob (F-statistic):           4.16e-24\n",
      "Time:                        03:26:25   Log-Likelihood:                -119.71\n",
      "No. Observations:                 111   AIC:                             243.4\n",
      "Df Residuals:                     109   BIC:                             248.8\n",
      "Df Model:                           1                                         \n",
      "Covariance Type:            nonrobust                                         \n",
      "==============================================================================\n",
      "                 coef    std err          t      P>|t|      [0.025      0.975]\n",
      "------------------------------------------------------------------------------\n",
      "Intercept      4.6261      0.301     15.391      0.000       4.030       5.222\n",
      "avexpr         0.5319      0.041     13.093      0.000       0.451       0.612\n",
      "==============================================================================\n",
      "Omnibus:                        9.251   Durbin-Watson:                   1.689\n",
      "Prob(Omnibus):                  0.010   Jarque-Bera (JB):                9.170\n",
      "Skew:                          -0.680   Prob(JB):                       0.0102\n",
      "Kurtosis:                       3.362   Cond. No.                         33.2\n",
      "==============================================================================\n",
      "\n",
      "Warnings:\n",
      "[1] Standard Errors assume that the covariance matrix of the errors is correctly specified.\n"
     ]
    }
   ],
   "source": [
    "print(results.summary())"
   ]
  },
  {
   "cell_type": "code",
   "execution_count": 42,
   "metadata": {},
   "outputs": [],
   "source": [
    "# let's instead run this by passing across vectors and matrices\n",
    "# we then need to add a constant to the dataset"
   ]
  },
  {
   "cell_type": "code",
   "execution_count": 43,
   "metadata": {},
   "outputs": [],
   "source": [
    "from statsmodels.tools.tools import add_constant"
   ]
  },
  {
   "cell_type": "code",
   "execution_count": 44,
   "metadata": {},
   "outputs": [
    {
     "name": "stderr",
     "output_type": "stream",
     "text": [
      "/home/lachlan/anaconda3/lib/python3.7/site-packages/numpy/core/fromnumeric.py:2495: FutureWarning: Method .ptp is deprecated and will be removed in a future version. Use numpy.ptp instead.\n",
      "  return ptp(axis=axis, out=out, **kwargs)\n"
     ]
    }
   ],
   "source": [
    "df = add_constant(df, has_constant = 'add')"
   ]
  },
  {
   "cell_type": "code",
   "execution_count": 45,
   "metadata": {},
   "outputs": [
    {
     "data": {
      "text/plain": [
       "Index(['const', 'shortnam', 'euro1900', 'excolony', 'avexpr', 'logpgp95',\n",
       "       'cons1', 'cons90', 'democ00a', 'cons00a', 'extmort4', 'logem4',\n",
       "       'loghjypl', 'baseco'],\n",
       "      dtype='object')"
      ]
     },
     "execution_count": 45,
     "metadata": {},
     "output_type": "execute_result"
    }
   ],
   "source": [
    "df.columns"
   ]
  },
  {
   "cell_type": "code",
   "execution_count": 46,
   "metadata": {},
   "outputs": [
    {
     "data": {
      "text/html": [
       "<div>\n",
       "<style scoped>\n",
       "    .dataframe tbody tr th:only-of-type {\n",
       "        vertical-align: middle;\n",
       "    }\n",
       "\n",
       "    .dataframe tbody tr th {\n",
       "        vertical-align: top;\n",
       "    }\n",
       "\n",
       "    .dataframe thead th {\n",
       "        text-align: right;\n",
       "    }\n",
       "</style>\n",
       "<table border=\"1\" class=\"dataframe\">\n",
       "  <thead>\n",
       "    <tr style=\"text-align: right;\">\n",
       "      <th></th>\n",
       "      <th>const</th>\n",
       "      <th>shortnam</th>\n",
       "      <th>euro1900</th>\n",
       "      <th>excolony</th>\n",
       "      <th>avexpr</th>\n",
       "      <th>logpgp95</th>\n",
       "      <th>cons1</th>\n",
       "      <th>cons90</th>\n",
       "      <th>democ00a</th>\n",
       "      <th>cons00a</th>\n",
       "      <th>extmort4</th>\n",
       "      <th>logem4</th>\n",
       "      <th>loghjypl</th>\n",
       "      <th>baseco</th>\n",
       "    </tr>\n",
       "  </thead>\n",
       "  <tbody>\n",
       "    <tr>\n",
       "      <td>0</td>\n",
       "      <td>1.0</td>\n",
       "      <td>AFG</td>\n",
       "      <td>0.000000</td>\n",
       "      <td>1.0</td>\n",
       "      <td>NaN</td>\n",
       "      <td>NaN</td>\n",
       "      <td>1.0</td>\n",
       "      <td>2.0</td>\n",
       "      <td>1.0</td>\n",
       "      <td>1.0</td>\n",
       "      <td>93.699997</td>\n",
       "      <td>4.540098</td>\n",
       "      <td>NaN</td>\n",
       "      <td>NaN</td>\n",
       "    </tr>\n",
       "    <tr>\n",
       "      <td>1</td>\n",
       "      <td>1.0</td>\n",
       "      <td>AGO</td>\n",
       "      <td>8.000000</td>\n",
       "      <td>1.0</td>\n",
       "      <td>5.363636</td>\n",
       "      <td>7.770645</td>\n",
       "      <td>3.0</td>\n",
       "      <td>3.0</td>\n",
       "      <td>0.0</td>\n",
       "      <td>1.0</td>\n",
       "      <td>280.000000</td>\n",
       "      <td>5.634789</td>\n",
       "      <td>-3.411248</td>\n",
       "      <td>1.0</td>\n",
       "    </tr>\n",
       "    <tr>\n",
       "      <td>2</td>\n",
       "      <td>1.0</td>\n",
       "      <td>ARE</td>\n",
       "      <td>0.000000</td>\n",
       "      <td>1.0</td>\n",
       "      <td>7.181818</td>\n",
       "      <td>9.804219</td>\n",
       "      <td>NaN</td>\n",
       "      <td>NaN</td>\n",
       "      <td>NaN</td>\n",
       "      <td>NaN</td>\n",
       "      <td>NaN</td>\n",
       "      <td>NaN</td>\n",
       "      <td>NaN</td>\n",
       "      <td>NaN</td>\n",
       "    </tr>\n",
       "    <tr>\n",
       "      <td>3</td>\n",
       "      <td>1.0</td>\n",
       "      <td>ARG</td>\n",
       "      <td>60.000004</td>\n",
       "      <td>1.0</td>\n",
       "      <td>6.386364</td>\n",
       "      <td>9.133459</td>\n",
       "      <td>1.0</td>\n",
       "      <td>6.0</td>\n",
       "      <td>3.0</td>\n",
       "      <td>3.0</td>\n",
       "      <td>68.900002</td>\n",
       "      <td>4.232656</td>\n",
       "      <td>-0.872274</td>\n",
       "      <td>1.0</td>\n",
       "    </tr>\n",
       "    <tr>\n",
       "      <td>4</td>\n",
       "      <td>1.0</td>\n",
       "      <td>ARM</td>\n",
       "      <td>0.000000</td>\n",
       "      <td>0.0</td>\n",
       "      <td>NaN</td>\n",
       "      <td>7.682482</td>\n",
       "      <td>NaN</td>\n",
       "      <td>NaN</td>\n",
       "      <td>NaN</td>\n",
       "      <td>NaN</td>\n",
       "      <td>NaN</td>\n",
       "      <td>NaN</td>\n",
       "      <td>NaN</td>\n",
       "      <td>NaN</td>\n",
       "    </tr>\n",
       "  </tbody>\n",
       "</table>\n",
       "</div>"
      ],
      "text/plain": [
       "   const shortnam   euro1900  excolony    avexpr  logpgp95  cons1  cons90  \\\n",
       "0    1.0      AFG   0.000000       1.0       NaN       NaN    1.0     2.0   \n",
       "1    1.0      AGO   8.000000       1.0  5.363636  7.770645    3.0     3.0   \n",
       "2    1.0      ARE   0.000000       1.0  7.181818  9.804219    NaN     NaN   \n",
       "3    1.0      ARG  60.000004       1.0  6.386364  9.133459    1.0     6.0   \n",
       "4    1.0      ARM   0.000000       0.0       NaN  7.682482    NaN     NaN   \n",
       "\n",
       "   democ00a  cons00a    extmort4    logem4  loghjypl  baseco  \n",
       "0       1.0      1.0   93.699997  4.540098       NaN     NaN  \n",
       "1       0.0      1.0  280.000000  5.634789 -3.411248     1.0  \n",
       "2       NaN      NaN         NaN       NaN       NaN     NaN  \n",
       "3       3.0      3.0   68.900002  4.232656 -0.872274     1.0  \n",
       "4       NaN      NaN         NaN       NaN       NaN     NaN  "
      ]
     },
     "execution_count": 46,
     "metadata": {},
     "output_type": "execute_result"
    }
   ],
   "source": [
    "df.head()"
   ]
  },
  {
   "cell_type": "code",
   "execution_count": 47,
   "metadata": {},
   "outputs": [],
   "source": [
    "from statsmodels.regression.linear_model import OLS"
   ]
  },
  {
   "cell_type": "code",
   "execution_count": 49,
   "metadata": {},
   "outputs": [],
   "source": [
    "simple_reg2 = OLS(endog = df['logpgp95'],\n",
    "                  exog  = df[['const', 'avexpr']],\n",
    "                  missing = 'drop'\n",
    "                    )"
   ]
  },
  {
   "cell_type": "code",
   "execution_count": 50,
   "metadata": {},
   "outputs": [
    {
     "name": "stdout",
     "output_type": "stream",
     "text": [
      "                            OLS Regression Results                            \n",
      "==============================================================================\n",
      "Dep. Variable:               logpgp95   R-squared:                       0.611\n",
      "Model:                            OLS   Adj. R-squared:                  0.608\n",
      "Method:                 Least Squares   F-statistic:                     171.4\n",
      "Date:                Fri, 31 Jan 2020   Prob (F-statistic):           4.16e-24\n",
      "Time:                        03:34:24   Log-Likelihood:                -119.71\n",
      "No. Observations:                 111   AIC:                             243.4\n",
      "Df Residuals:                     109   BIC:                             248.8\n",
      "Df Model:                           1                                         \n",
      "Covariance Type:            nonrobust                                         \n",
      "==============================================================================\n",
      "                 coef    std err          t      P>|t|      [0.025      0.975]\n",
      "------------------------------------------------------------------------------\n",
      "const          4.6261      0.301     15.391      0.000       4.030       5.222\n",
      "avexpr         0.5319      0.041     13.093      0.000       0.451       0.612\n",
      "==============================================================================\n",
      "Omnibus:                        9.251   Durbin-Watson:                   1.689\n",
      "Prob(Omnibus):                  0.010   Jarque-Bera (JB):                9.170\n",
      "Skew:                          -0.680   Prob(JB):                       0.0102\n",
      "Kurtosis:                       3.362   Cond. No.                         33.2\n",
      "==============================================================================\n",
      "\n",
      "Warnings:\n",
      "[1] Standard Errors assume that the covariance matrix of the errors is correctly specified.\n"
     ]
    }
   ],
   "source": [
    "print(simple_reg2.fit().summary())"
   ]
  },
  {
   "cell_type": "code",
   "execution_count": 51,
   "metadata": {},
   "outputs": [],
   "source": [
    "# is there heteroskedasticity in the data?\n",
    "# if so, how can I get robust standard errors"
   ]
  },
  {
   "cell_type": "code",
   "execution_count": 52,
   "metadata": {},
   "outputs": [],
   "source": [
    "import statsmodels.stats.api as sms"
   ]
  },
  {
   "cell_type": "code",
   "execution_count": 53,
   "metadata": {},
   "outputs": [
    {
     "name": "stdout",
     "output_type": "stream",
     "text": [
      "Help on function het_breuschpagan in module statsmodels.sandbox.stats.diagnostic:\n",
      "\n",
      "het_breuschpagan(resid, exog_het)\n",
      "    Breusch-Pagan Lagrange Multiplier test for heteroscedasticity\n",
      "    \n",
      "    The tests the hypothesis that the residual variance does not depend on\n",
      "    the variables in x in the form\n",
      "    \n",
      "    :math: \\sigma_i = \\sigma * f(\\alpha_0 + \\alpha z_i)\n",
      "    \n",
      "    Homoscedasticity implies that $\\alpha=0$\n",
      "    \n",
      "    \n",
      "    Parameters\n",
      "    ----------\n",
      "    resid : array-like\n",
      "        For the Breusch-Pagan test, this should be the residual of a regression.\n",
      "        If an array is given in exog, then the residuals are calculated by\n",
      "        the an OLS regression or resid on exog. In this case resid should\n",
      "        contain the dependent variable. Exog can be the same as x.\n",
      "        TODO: I dropped the exog option, should I add it back?\n",
      "    exog_het : array_like\n",
      "        This contains variables that might create data dependent\n",
      "        heteroscedasticity.\n",
      "    \n",
      "    Returns\n",
      "    -------\n",
      "    lm : float\n",
      "        lagrange multiplier statistic\n",
      "    lm_pvalue :float\n",
      "        p-value of lagrange multiplier test\n",
      "    fvalue : float\n",
      "        f-statistic of the hypothesis that the error variance does not depend\n",
      "        on x\n",
      "    f_pvalue : float\n",
      "        p-value for the f-statistic\n",
      "    \n",
      "    Notes\n",
      "    -----\n",
      "    Assumes x contains constant (for counting dof and calculation of R^2).\n",
      "    In the general description of LM test, Greene mentions that this test\n",
      "    exaggerates the significance of results in small or moderately large\n",
      "    samples. In this case the F-statistic is preferrable.\n",
      "    \n",
      "    *Verification*\n",
      "    \n",
      "    Chisquare test statistic is exactly (<1e-13) the same result as bptest\n",
      "    in R-stats with defaults (studentize=True).\n",
      "    \n",
      "    Implementation\n",
      "    This is calculated using the generic formula for LM test using $R^2$\n",
      "    (Greene, section 17.6) and not with the explicit formula\n",
      "    (Greene, section 11.4.3).\n",
      "    The degrees of freedom for the p-value assume x is full rank.\n",
      "    \n",
      "    References\n",
      "    ----------\n",
      "    http://en.wikipedia.org/wiki/Breusch%E2%80%93Pagan_test\n",
      "    Greene 5th edition\n",
      "    Breusch, Pagan article\n",
      "\n"
     ]
    }
   ],
   "source": [
    "# breusch-pagan test?\n",
    "help(sms.het_breuschpagan)"
   ]
  },
  {
   "cell_type": "code",
   "execution_count": 58,
   "metadata": {},
   "outputs": [
    {
     "data": {
      "text/plain": [
       "(2.602864371267989,\n",
       " 0.10667076739358337,\n",
       " 2.6173405304725494,\n",
       " 0.1085917519139802)"
      ]
     },
     "execution_count": 58,
     "metadata": {},
     "output_type": "execute_result"
    }
   ],
   "source": [
    "sms.het_breuschpagan(results.resid, results.model.exog)"
   ]
  },
  {
   "cell_type": "code",
   "execution_count": 59,
   "metadata": {},
   "outputs": [],
   "source": [
    "# so it looks like there might be evidence for heteroskedasticity\n",
    "# \n",
    "# robust standard error types: HC0, HC1, HC2, HC3\n",
    "# lets be stata-ish like acemoglu and use HC1\n"
   ]
  },
  {
   "cell_type": "code",
   "execution_count": 60,
   "metadata": {},
   "outputs": [],
   "source": [
    "robust_ols = simple_reg.fit(cov_type = 'HC1')"
   ]
  },
  {
   "cell_type": "code",
   "execution_count": 61,
   "metadata": {},
   "outputs": [
    {
     "name": "stdout",
     "output_type": "stream",
     "text": [
      "                            OLS Regression Results                            \n",
      "==============================================================================\n",
      "Dep. Variable:               logpgp95   R-squared:                       0.611\n",
      "Model:                            OLS   Adj. R-squared:                  0.608\n",
      "Method:                 Least Squares   F-statistic:                     334.8\n",
      "Date:                Fri, 31 Jan 2020   Prob (F-statistic):           5.14e-35\n",
      "Time:                        03:50:31   Log-Likelihood:                -119.71\n",
      "No. Observations:                 111   AIC:                             243.4\n",
      "Df Residuals:                     109   BIC:                             248.8\n",
      "Df Model:                           1                                         \n",
      "Covariance Type:                  HC1                                         \n",
      "==============================================================================\n",
      "                 coef    std err          z      P>|z|      [0.025      0.975]\n",
      "------------------------------------------------------------------------------\n",
      "Intercept      4.6261      0.241     19.222      0.000       4.154       5.098\n",
      "avexpr         0.5319      0.029     18.297      0.000       0.475       0.589\n",
      "==============================================================================\n",
      "Omnibus:                        9.251   Durbin-Watson:                   1.689\n",
      "Prob(Omnibus):                  0.010   Jarque-Bera (JB):                9.170\n",
      "Skew:                          -0.680   Prob(JB):                       0.0102\n",
      "Kurtosis:                       3.362   Cond. No.                         33.2\n",
      "==============================================================================\n",
      "\n",
      "Warnings:\n",
      "[1] Standard Errors are heteroscedasticity robust (HC1)\n"
     ]
    }
   ],
   "source": [
    "print(robust_ols.summary())"
   ]
  },
  {
   "cell_type": "code",
   "execution_count": 63,
   "metadata": {},
   "outputs": [],
   "source": [
    "from statsmodels.iolib.summary2 import summary_col"
   ]
  },
  {
   "cell_type": "code",
   "execution_count": 83,
   "metadata": {},
   "outputs": [],
   "source": [
    "info_dict = { 'R-squared': lambda x: \"{:.2f}\".format(x.rsquared),\n",
    "              'N. obs.'  : lambda x: \"{0:d}\".format(int(x.nobs))\n",
    "            }\n",
    "\n",
    "res_tab = summary_col(results = [results, robust_ols],\n",
    "                      float_format = '%0.2f',\n",
    "                      stars = True,\n",
    "                      model_names = ['Homosk. SE', 'Robust SE'],\n",
    "                      info_dict = info_dict\n",
    "                     )\n",
    "res_tab.add_title('Table - OLS Regressions')"
   ]
  },
  {
   "cell_type": "code",
   "execution_count": 91,
   "metadata": {},
   "outputs": [],
   "source": [
    "import os\n",
    "\n",
    "if not os.path.exists('../../out/tables'):\n",
    "    os.makedirs('../../out/tables/')\n",
    "\n",
    "with open('../../out/tables/my_summary.tex', 'w') as fh:\n",
    "    fh.write(res_tab.as_latex())"
   ]
  },
  {
   "cell_type": "code",
   "execution_count": 90,
   "metadata": {},
   "outputs": [
    {
     "name": "stdout",
     "output_type": "stream",
     "text": [
      "tables\r\n"
     ]
    }
   ],
   "source": [
    "!ls ../../out"
   ]
  },
  {
   "cell_type": "code",
   "execution_count": 92,
   "metadata": {},
   "outputs": [
    {
     "name": "stdout",
     "output_type": "stream",
     "text": [
      "\\begin{table}\r\n",
      "\\caption{Table - OLS Regressions}\r\n",
      "\\begin{center}\r\n",
      "\\begin{tabular}{lcc}\r\n",
      "\\hline\r\n",
      "          & Homosk. SE & Robust SE  \\\\\r\n",
      "\\midrule\r\n",
      "Intercept & 4.63***    & 4.63***    \\\\\r\n",
      "          & (0.30)     & (0.24)     \\\\\r\n",
      "avexpr    & 0.53***    & 0.53***    \\\\\r\n",
      "          & (0.04)     & (0.03)     \\\\\r\n",
      "R-squared & 0.61       & 0.61       \\\\\r\n",
      "N. obs.   & 111        & 111        \\\\\r\n",
      "\\hline\r\n",
      "\\end{tabular}\r\n",
      "\\end{center}\r\n",
      "\\end{table}"
     ]
    }
   ],
   "source": [
    "!cat ../../out/tables/my_summary.tex"
   ]
  },
  {
   "cell_type": "code",
   "execution_count": 84,
   "metadata": {},
   "outputs": [
    {
     "name": "stdout",
     "output_type": "stream",
     "text": [
      "   Table - OLS Regressions\n",
      "==============================\n",
      "          Homosk. SE Robust SE\n",
      "------------------------------\n",
      "Intercept 4.63***    4.63***  \n",
      "          (0.30)     (0.24)   \n",
      "avexpr    0.53***    0.53***  \n",
      "          (0.04)     (0.03)   \n",
      "R-squared 0.61       0.61     \n",
      "N. obs.   111        111      \n",
      "==============================\n",
      "Standard errors in\n",
      "parentheses.\n",
      "* p<.1, ** p<.05, ***p<.01\n"
     ]
    }
   ],
   "source": [
    "print(res_tab)"
   ]
  },
  {
   "cell_type": "code",
   "execution_count": 78,
   "metadata": {},
   "outputs": [
    {
     "name": "stdout",
     "output_type": "stream",
     "text": [
      "Help on function summary_col in module statsmodels.iolib.summary2:\n",
      "\n",
      "summary_col(results, float_format='%.4f', model_names=(), stars=False, info_dict=None, regressor_order=(), drop_omitted=False)\n",
      "    Summarize multiple results instances side-by-side (coefs and SEs)\n",
      "    \n",
      "    Parameters\n",
      "    ----------\n",
      "    results : statsmodels results instance or list of result instances\n",
      "    float_format : string, optional\n",
      "        float format for coefficients and standard errors\n",
      "        Default : '%.4f'\n",
      "    model_names : list of strings, optional\n",
      "        Must have same length as the number of results. If the names are not\n",
      "        unique, a roman number will be appended to all model names\n",
      "    stars : bool\n",
      "        print significance stars\n",
      "    info_dict : dict\n",
      "        dict of functions to be applied to results instances to retrieve\n",
      "        model info. To use specific information for different models, add a\n",
      "        (nested) info_dict with model name as the key.\n",
      "        Example: `info_dict = {\"N\":..., \"R2\": ..., \"OLS\":{\"R2\":...}}` would\n",
      "        only show `R2` for OLS regression models, but additionally `N` for\n",
      "        all other results.\n",
      "        Default : None (use the info_dict specified in\n",
      "        result.default_model_infos, if this property exists)\n",
      "    regressor_order : list of strings, optional\n",
      "        list of names of the regressors in the desired order. All regressors\n",
      "        not specified will be appended to the end of the list.\n",
      "    drop_omitted : bool, optional\n",
      "        Includes regressors that are not specified in regressor_order. If False,\n",
      "        regressors not specified will be appended to end of the list. If True,\n",
      "        only regressors in regressors_list will be included.\n",
      "\n"
     ]
    }
   ],
   "source": [
    "help(summary_col)"
   ]
  },
  {
   "cell_type": "code",
   "execution_count": 93,
   "metadata": {},
   "outputs": [
    {
     "data": {
      "text/plain": [
       "0.6113221131830942"
      ]
     },
     "execution_count": 93,
     "metadata": {},
     "output_type": "execute_result"
    }
   ],
   "source": [
    "robust_ols.rsquared"
   ]
  },
  {
   "cell_type": "code",
   "execution_count": 94,
   "metadata": {},
   "outputs": [
    {
     "name": "stdout",
     "output_type": "stream",
     "text": [
      "def download_data(weblink, data_dir, zip_name, table_number):\r\n",
      "    \"\"\"\r\n",
      "    This function downloads data from Daron Acemoglu's website for the AJR01 paper.\r\n",
      "\r\n",
      "    In particular:\r\n",
      "        1. Downloads a ZIP archive of the files needed to generate one table\r\n",
      "        2. Unzips these files\r\n",
      "        3. Imports the data set as a Pandas DataFrame\r\n",
      "\r\n",
      "    Example Usage:\r\n",
      "\r\n",
      "    \"\"\"\r\n",
      "    import shutil\r\n",
      "    import requests\r\n",
      "    import zipfile\r\n",
      "    import glob\r\n",
      "    import os\r\n",
      "    import pandas as pd\r\n",
      "\r\n",
      "    # check a data directory exists, or create it\r\n",
      "    if not os.path.exists(data_dir):\r\n",
      "        os.makedirs(data_dir)\r\n",
      "\r\n",
      "    # connect to the page\r\n",
      "    response = requests.get(weblink, stream=True, verify=False)\r\n",
      "\r\n",
      "    # save the zip to our preferred location\r\n",
      "    with open(data_dir + zip_name, 'wb') as out_file:\r\n",
      "        shutil.copyfileobj(response.raw, out_file)\r\n",
      "\r\n",
      "    # clean up\r\n",
      "    del response\r\n",
      "\r\n",
      "    # unzip\r\n",
      "    zip_ref = zipfile.ZipFile(data_dir + zip_name, 'r')\r\n",
      "    zip_ref.extractall(data_dir)\r\n",
      "\r\n",
      "    # find the data file\r\n",
      "    data_file = glob.glob(data_dir + '*' + table_number + '.dta')[0]\r\n",
      "\r\n",
      "    return pd.read_stata(data_file)\r\n"
     ]
    }
   ],
   "source": [
    "! cat ../lib/ajr.py"
   ]
  },
  {
   "cell_type": "code",
   "execution_count": 116,
   "metadata": {},
   "outputs": [],
   "source": [
    "weblink  = 'https://economics.mit.edu/files/5136' # acemoglus file store\n",
    "data_dir = '../data/'  # where i want data to be saved\n",
    "zip_name = 'table4.zip' # what I wanna download\n",
    "table    = 'table4'      # where I want the unzipped stuff to be saved to (inside data_dir)"
   ]
  },
  {
   "cell_type": "code",
   "execution_count": 117,
   "metadata": {},
   "outputs": [
    {
     "name": "stderr",
     "output_type": "stream",
     "text": [
      "/home/lachlan/anaconda3/lib/python3.7/site-packages/urllib3/connectionpool.py:847: InsecureRequestWarning: Unverified HTTPS request is being made. Adding certificate verification is strongly advised. See: https://urllib3.readthedocs.io/en/latest/advanced-usage.html#ssl-warnings\n",
      "  InsecureRequestWarning)\n"
     ]
    }
   ],
   "source": [
    "iv_df = ajr.download_data(weblink, data_dir, zip_name, table)"
   ]
  },
  {
   "cell_type": "code",
   "execution_count": 118,
   "metadata": {},
   "outputs": [
    {
     "data": {
      "text/html": [
       "<div>\n",
       "<style scoped>\n",
       "    .dataframe tbody tr th:only-of-type {\n",
       "        vertical-align: middle;\n",
       "    }\n",
       "\n",
       "    .dataframe tbody tr th {\n",
       "        vertical-align: top;\n",
       "    }\n",
       "\n",
       "    .dataframe thead th {\n",
       "        text-align: right;\n",
       "    }\n",
       "</style>\n",
       "<table border=\"1\" class=\"dataframe\">\n",
       "  <thead>\n",
       "    <tr style=\"text-align: right;\">\n",
       "      <th></th>\n",
       "      <th>shortnam</th>\n",
       "      <th>africa</th>\n",
       "      <th>lat_abst</th>\n",
       "      <th>rich4</th>\n",
       "      <th>avexpr</th>\n",
       "      <th>logpgp95</th>\n",
       "      <th>logem4</th>\n",
       "      <th>asia</th>\n",
       "      <th>loghjypl</th>\n",
       "      <th>baseco</th>\n",
       "    </tr>\n",
       "  </thead>\n",
       "  <tbody>\n",
       "    <tr>\n",
       "      <td>0</td>\n",
       "      <td>AFG</td>\n",
       "      <td>0.0</td>\n",
       "      <td>0.366667</td>\n",
       "      <td>0.0</td>\n",
       "      <td>NaN</td>\n",
       "      <td>NaN</td>\n",
       "      <td>4.540098</td>\n",
       "      <td>1.0</td>\n",
       "      <td>NaN</td>\n",
       "      <td>NaN</td>\n",
       "    </tr>\n",
       "    <tr>\n",
       "      <td>1</td>\n",
       "      <td>AGO</td>\n",
       "      <td>1.0</td>\n",
       "      <td>0.136667</td>\n",
       "      <td>0.0</td>\n",
       "      <td>5.363636</td>\n",
       "      <td>7.770645</td>\n",
       "      <td>5.634789</td>\n",
       "      <td>0.0</td>\n",
       "      <td>-3.411248</td>\n",
       "      <td>1.0</td>\n",
       "    </tr>\n",
       "    <tr>\n",
       "      <td>2</td>\n",
       "      <td>ARE</td>\n",
       "      <td>0.0</td>\n",
       "      <td>0.266667</td>\n",
       "      <td>0.0</td>\n",
       "      <td>7.181818</td>\n",
       "      <td>9.804219</td>\n",
       "      <td>NaN</td>\n",
       "      <td>1.0</td>\n",
       "      <td>NaN</td>\n",
       "      <td>NaN</td>\n",
       "    </tr>\n",
       "    <tr>\n",
       "      <td>3</td>\n",
       "      <td>ARG</td>\n",
       "      <td>0.0</td>\n",
       "      <td>0.377778</td>\n",
       "      <td>0.0</td>\n",
       "      <td>6.386364</td>\n",
       "      <td>9.133459</td>\n",
       "      <td>4.232656</td>\n",
       "      <td>0.0</td>\n",
       "      <td>-0.872274</td>\n",
       "      <td>1.0</td>\n",
       "    </tr>\n",
       "    <tr>\n",
       "      <td>4</td>\n",
       "      <td>ARM</td>\n",
       "      <td>0.0</td>\n",
       "      <td>0.444444</td>\n",
       "      <td>0.0</td>\n",
       "      <td>NaN</td>\n",
       "      <td>7.682482</td>\n",
       "      <td>NaN</td>\n",
       "      <td>1.0</td>\n",
       "      <td>NaN</td>\n",
       "      <td>NaN</td>\n",
       "    </tr>\n",
       "  </tbody>\n",
       "</table>\n",
       "</div>"
      ],
      "text/plain": [
       "  shortnam  africa  lat_abst  rich4    avexpr  logpgp95    logem4  asia  \\\n",
       "0      AFG     0.0  0.366667    0.0       NaN       NaN  4.540098   1.0   \n",
       "1      AGO     1.0  0.136667    0.0  5.363636  7.770645  5.634789   0.0   \n",
       "2      ARE     0.0  0.266667    0.0  7.181818  9.804219       NaN   1.0   \n",
       "3      ARG     0.0  0.377778    0.0  6.386364  9.133459  4.232656   0.0   \n",
       "4      ARM     0.0  0.444444    0.0       NaN  7.682482       NaN   1.0   \n",
       "\n",
       "   loghjypl  baseco  \n",
       "0       NaN     NaN  \n",
       "1 -3.411248     1.0  \n",
       "2       NaN     NaN  \n",
       "3 -0.872274     1.0  \n",
       "4       NaN     NaN  "
      ]
     },
     "execution_count": 118,
     "metadata": {},
     "output_type": "execute_result"
    }
   ],
   "source": [
    "iv_df.head()"
   ]
  },
  {
   "cell_type": "code",
   "execution_count": 119,
   "metadata": {},
   "outputs": [],
   "source": [
    "# how to do IV regression?"
   ]
  },
  {
   "cell_type": "code",
   "execution_count": null,
   "metadata": {},
   "outputs": [],
   "source": [
    "# if you didnt install it already\n",
    "#!pip install linearmodels"
   ]
  },
  {
   "cell_type": "code",
   "execution_count": 121,
   "metadata": {},
   "outputs": [],
   "source": [
    "from linearmodels.iv import IV2SLS"
   ]
  },
  {
   "cell_type": "code",
   "execution_count": 128,
   "metadata": {},
   "outputs": [
    {
     "name": "stderr",
     "output_type": "stream",
     "text": [
      "/home/lachlan/anaconda3/lib/python3.7/site-packages/linearmodels/utility.py:478: MissingValueWarning: \n",
      "Inputs contain missing values. Dropping rows with missing observations.\n",
      "  warnings.warn(missing_value_warning_msg, MissingValueWarning)\n"
     ]
    }
   ],
   "source": [
    "iv_results = IV2SLS.from_formula('logpgp95 ~ 1 + [avexpr ~ logem4]', data = iv_df).fit()"
   ]
  },
  {
   "cell_type": "code",
   "execution_count": 129,
   "metadata": {},
   "outputs": [
    {
     "data": {
      "text/html": [
       "<table class=\"simpletable\">\n",
       "<caption>IV-2SLS Estimation Summary</caption>\n",
       "<tr>\n",
       "  <th>Dep. Variable:</th>        <td>logpgp95</td>     <th>  R-squared:         </th> <td>0.3045</td> \n",
       "</tr>\n",
       "<tr>\n",
       "  <th>Estimator:</th>             <td>IV-2SLS</td>     <th>  Adj. R-squared:    </th> <td>0.2942</td> \n",
       "</tr>\n",
       "<tr>\n",
       "  <th>No. Observations:</th>        <td>70</td>        <th>  F-statistic:       </th> <td>40.456</td> \n",
       "</tr>\n",
       "<tr>\n",
       "  <th>Date:</th>             <td>Fri, Jan 31 2020</td> <th>  P-value (F-stat)   </th> <td>0.0000</td> \n",
       "</tr>\n",
       "<tr>\n",
       "  <th>Time:</th>                 <td>04:52:02</td>     <th>  Distribution:      </th> <td>chi2(1)</td>\n",
       "</tr>\n",
       "<tr>\n",
       "  <th>Cov. Estimator:</th>        <td>robust</td>      <th>                     </th>    <td></td>    \n",
       "</tr>\n",
       "<tr>\n",
       "  <th></th>                          <td></td>         <th>                     </th>    <td></td>    \n",
       "</tr>\n",
       "</table>\n",
       "<table class=\"simpletable\">\n",
       "<caption>Parameter Estimates</caption>\n",
       "<tr>\n",
       "      <td></td>      <th>Parameter</th> <th>Std. Err.</th> <th>T-stat</th> <th>P-value</th> <th>Lower CI</th> <th>Upper CI</th>\n",
       "</tr>\n",
       "<tr>\n",
       "  <th>Intercept</th>  <td>2.3702</td>    <td>0.9283</td>   <td>2.5533</td> <td>0.0107</td>   <td>0.5508</td>   <td>4.1895</td> \n",
       "</tr>\n",
       "<tr>\n",
       "  <th>avexpr</th>     <td>0.8684</td>    <td>0.1365</td>   <td>6.3605</td> <td>0.0000</td>   <td>0.6008</td>   <td>1.1360</td> \n",
       "</tr>\n",
       "</table><br/><br/>Endogenous: avexpr<br/>Instruments: logem4<br/>Robust Covariance (Heteroskedastic)<br/>Debiased: False"
      ],
      "text/plain": [
       "<class 'linearmodels.compat.statsmodels.Summary'>\n",
       "\"\"\"\n",
       "                          IV-2SLS Estimation Summary                          \n",
       "==============================================================================\n",
       "Dep. Variable:               logpgp95   R-squared:                      0.3045\n",
       "Estimator:                    IV-2SLS   Adj. R-squared:                 0.2942\n",
       "No. Observations:                  70   F-statistic:                    40.456\n",
       "Date:                Fri, Jan 31 2020   P-value (F-stat)                0.0000\n",
       "Time:                        04:52:02   Distribution:                  chi2(1)\n",
       "Cov. Estimator:                robust                                         \n",
       "                                                                              \n",
       "                             Parameter Estimates                              \n",
       "==============================================================================\n",
       "            Parameter  Std. Err.     T-stat    P-value    Lower CI    Upper CI\n",
       "------------------------------------------------------------------------------\n",
       "Intercept      2.3702     0.9283     2.5533     0.0107      0.5508      4.1895\n",
       "avexpr         0.8684     0.1365     6.3605     0.0000      0.6008      1.1360\n",
       "==============================================================================\n",
       "\n",
       "Endogenous: avexpr\n",
       "Instruments: logem4\n",
       "Robust Covariance (Heteroskedastic)\n",
       "Debiased: False\n",
       "\"\"\""
      ]
     },
     "execution_count": 129,
     "metadata": {},
     "output_type": "execute_result"
    }
   ],
   "source": [
    "iv_results.summary"
   ]
  },
  {
   "cell_type": "code",
   "execution_count": 130,
   "metadata": {},
   "outputs": [
    {
     "ename": "AttributeError",
     "evalue": "'IVResults' object has no attribute 'bse'",
     "output_type": "error",
     "traceback": [
      "\u001b[0;31m---------------------------------------------------------------------------\u001b[0m",
      "\u001b[0;31mAttributeError\u001b[0m                            Traceback (most recent call last)",
      "\u001b[0;32m<ipython-input-130-de7785e8f69c>\u001b[0m in \u001b[0;36m<module>\u001b[0;34m\u001b[0m\n\u001b[1;32m      7\u001b[0m                       \u001b[0mstars\u001b[0m \u001b[0;34m=\u001b[0m \u001b[0;32mTrue\u001b[0m\u001b[0;34m,\u001b[0m\u001b[0;34m\u001b[0m\u001b[0;34m\u001b[0m\u001b[0m\n\u001b[1;32m      8\u001b[0m                       \u001b[0mmodel_names\u001b[0m \u001b[0;34m=\u001b[0m \u001b[0;34m[\u001b[0m\u001b[0;34m'OLS'\u001b[0m\u001b[0;34m,\u001b[0m \u001b[0;34m'IV'\u001b[0m\u001b[0;34m]\u001b[0m\u001b[0;34m,\u001b[0m\u001b[0;34m\u001b[0m\u001b[0;34m\u001b[0m\u001b[0m\n\u001b[0;32m----> 9\u001b[0;31m                       \u001b[0minfo_dict\u001b[0m \u001b[0;34m=\u001b[0m \u001b[0minfo_dict\u001b[0m\u001b[0;34m\u001b[0m\u001b[0;34m\u001b[0m\u001b[0m\n\u001b[0m\u001b[1;32m     10\u001b[0m                      )\n\u001b[1;32m     11\u001b[0m \u001b[0mres_tab\u001b[0m\u001b[0;34m.\u001b[0m\u001b[0madd_title\u001b[0m\u001b[0;34m(\u001b[0m\u001b[0;34m'Table - Regressions'\u001b[0m\u001b[0;34m)\u001b[0m\u001b[0;34m\u001b[0m\u001b[0;34m\u001b[0m\u001b[0m\n",
      "\u001b[0;32m~/anaconda3/lib/python3.7/site-packages/statsmodels/iolib/summary2.py\u001b[0m in \u001b[0;36msummary_col\u001b[0;34m(results, float_format, model_names, stars, info_dict, regressor_order, drop_omitted)\u001b[0m\n\u001b[1;32m    474\u001b[0m \u001b[0;34m\u001b[0m\u001b[0m\n\u001b[1;32m    475\u001b[0m     cols = [_col_params(x, stars=stars, float_format=float_format) for x in\n\u001b[0;32m--> 476\u001b[0;31m             results]\n\u001b[0m\u001b[1;32m    477\u001b[0m \u001b[0;34m\u001b[0m\u001b[0m\n\u001b[1;32m    478\u001b[0m     \u001b[0;31m# Unique column names (pandas has problems merging otherwise)\u001b[0m\u001b[0;34m\u001b[0m\u001b[0;34m\u001b[0m\u001b[0;34m\u001b[0m\u001b[0m\n",
      "\u001b[0;32m~/anaconda3/lib/python3.7/site-packages/statsmodels/iolib/summary2.py\u001b[0m in \u001b[0;36m<listcomp>\u001b[0;34m(.0)\u001b[0m\n\u001b[1;32m    473\u001b[0m         \u001b[0mresults\u001b[0m \u001b[0;34m=\u001b[0m \u001b[0;34m[\u001b[0m\u001b[0mresults\u001b[0m\u001b[0;34m]\u001b[0m\u001b[0;34m\u001b[0m\u001b[0;34m\u001b[0m\u001b[0m\n\u001b[1;32m    474\u001b[0m \u001b[0;34m\u001b[0m\u001b[0m\n\u001b[0;32m--> 475\u001b[0;31m     cols = [_col_params(x, stars=stars, float_format=float_format) for x in\n\u001b[0m\u001b[1;32m    476\u001b[0m             results]\n\u001b[1;32m    477\u001b[0m \u001b[0;34m\u001b[0m\u001b[0m\n",
      "\u001b[0;32m~/anaconda3/lib/python3.7/site-packages/statsmodels/iolib/summary2.py\u001b[0m in \u001b[0;36m_col_params\u001b[0;34m(result, float_format, stars)\u001b[0m\n\u001b[1;32m    380\u001b[0m \u001b[0;34m\u001b[0m\u001b[0m\n\u001b[1;32m    381\u001b[0m     \u001b[0;31m# Extract parameters\u001b[0m\u001b[0;34m\u001b[0m\u001b[0;34m\u001b[0m\u001b[0;34m\u001b[0m\u001b[0m\n\u001b[0;32m--> 382\u001b[0;31m     \u001b[0mres\u001b[0m \u001b[0;34m=\u001b[0m \u001b[0msummary_params\u001b[0m\u001b[0;34m(\u001b[0m\u001b[0mresult\u001b[0m\u001b[0;34m)\u001b[0m\u001b[0;34m\u001b[0m\u001b[0;34m\u001b[0m\u001b[0m\n\u001b[0m\u001b[1;32m    383\u001b[0m     \u001b[0;31m# Format float\u001b[0m\u001b[0;34m\u001b[0m\u001b[0;34m\u001b[0m\u001b[0;34m\u001b[0m\u001b[0m\n\u001b[1;32m    384\u001b[0m     \u001b[0;32mfor\u001b[0m \u001b[0mcol\u001b[0m \u001b[0;32min\u001b[0m \u001b[0mres\u001b[0m\u001b[0;34m.\u001b[0m\u001b[0mcolumns\u001b[0m\u001b[0;34m[\u001b[0m\u001b[0;34m:\u001b[0m\u001b[0;36m2\u001b[0m\u001b[0;34m]\u001b[0m\u001b[0;34m:\u001b[0m\u001b[0;34m\u001b[0m\u001b[0;34m\u001b[0m\u001b[0m\n",
      "\u001b[0;32m~/anaconda3/lib/python3.7/site-packages/statsmodels/iolib/summary2.py\u001b[0m in \u001b[0;36msummary_params\u001b[0;34m(results, yname, xname, alpha, use_t, skip_header, float_format)\u001b[0m\n\u001b[1;32m    347\u001b[0m     \u001b[0;32melse\u001b[0m\u001b[0;34m:\u001b[0m\u001b[0;34m\u001b[0m\u001b[0;34m\u001b[0m\u001b[0m\n\u001b[1;32m    348\u001b[0m         \u001b[0mparams\u001b[0m \u001b[0;34m=\u001b[0m \u001b[0mresults\u001b[0m\u001b[0;34m.\u001b[0m\u001b[0mparams\u001b[0m\u001b[0;34m\u001b[0m\u001b[0;34m\u001b[0m\u001b[0m\n\u001b[0;32m--> 349\u001b[0;31m         \u001b[0mbse\u001b[0m \u001b[0;34m=\u001b[0m \u001b[0mresults\u001b[0m\u001b[0;34m.\u001b[0m\u001b[0mbse\u001b[0m\u001b[0;34m\u001b[0m\u001b[0;34m\u001b[0m\u001b[0m\n\u001b[0m\u001b[1;32m    350\u001b[0m         \u001b[0mtvalues\u001b[0m \u001b[0;34m=\u001b[0m \u001b[0mresults\u001b[0m\u001b[0;34m.\u001b[0m\u001b[0mtvalues\u001b[0m\u001b[0;34m\u001b[0m\u001b[0;34m\u001b[0m\u001b[0m\n\u001b[1;32m    351\u001b[0m         \u001b[0mpvalues\u001b[0m \u001b[0;34m=\u001b[0m \u001b[0mresults\u001b[0m\u001b[0;34m.\u001b[0m\u001b[0mpvalues\u001b[0m\u001b[0;34m\u001b[0m\u001b[0;34m\u001b[0m\u001b[0m\n",
      "\u001b[0;31mAttributeError\u001b[0m: 'IVResults' object has no attribute 'bse'"
     ]
    }
   ],
   "source": [
    "info_dict = { 'R-squared': lambda x: \"{:.2f}\".format(x.rsquared),\n",
    "              'N. obs.'  : lambda x: \"{0:d}\".format(int(x.nobs))\n",
    "            }\n",
    "\n",
    "res_tab = summary_col(results = [robust_ols, iv_results],\n",
    "                      float_format = '%0.2f',\n",
    "                      stars = True,\n",
    "                      model_names = ['OLS', 'IV'],\n",
    "                      info_dict = info_dict\n",
    "                     )\n",
    "res_tab.add_title('Table - Regressions')"
   ]
  },
  {
   "cell_type": "markdown",
   "metadata": {},
   "source": [
    "# Challenge!\n",
    "\n",
    "1. create a figure that provides suggestive evidence that the instrument logem4 is correlated with avexpr\n",
    "2. run the first stage regression. Do it both manually, and try to find it inside the IV results object\n",
    "3. Table 5 of the paper adds additional control variables 'british colony', 'french colony', 'french legal origin'. Download the table 5 data, and run that regression with OLS and IV\n",
    "4. can you figure out how to run a hausman test? (Hint: `wu_hausman()`)\n",
    "5. can we produce a latex table with the OLS and IV results side by side?"
   ]
  },
  {
   "cell_type": "code",
   "execution_count": 137,
   "metadata": {},
   "outputs": [
    {
     "data": {
      "image/png": "[encoded data removed]",
      "text/plain": [
       "<Figure size 432x288 with 1 Axes>"
      ]
     },
     "metadata": {
      "needs_background": "light"
     },
     "output_type": "display_data"
    }
   ],
   "source": [
    "# 1\n",
    "fig, ax = plt.subplots()\n",
    "\n",
    "ax.scatter(iv_df['logem4'], iv_df['avexpr'], alpha = 0.5)\n",
    "\n",
    "ax.set_xlabel('settler mortality')\n",
    "ax.set_ylabel('expropriation risk')\n",
    "\n",
    "plt.savefig('../../out/my_cool_image.pdf')\n",
    "\n",
    "plt.show()"
   ]
  },
  {
   "cell_type": "code",
   "execution_count": 139,
   "metadata": {},
   "outputs": [],
   "source": [
    "#2\n",
    "\n",
    "first_stage = smf.ols(\"avexpr ~ logem4\", data = iv_df).fit()"
   ]
  },
  {
   "cell_type": "code",
   "execution_count": 140,
   "metadata": {},
   "outputs": [
    {
     "name": "stdout",
     "output_type": "stream",
     "text": [
      "                            OLS Regression Results                            \n",
      "==============================================================================\n",
      "Dep. Variable:                 avexpr   R-squared:                       0.304\n",
      "Model:                            OLS   Adj. R-squared:                  0.295\n",
      "Method:                 Least Squares   F-statistic:                     31.51\n",
      "Date:                Fri, 31 Jan 2020   Prob (F-statistic):           3.48e-07\n",
      "Time:                        07:17:52   Log-Likelihood:                -124.57\n",
      "No. Observations:                  74   AIC:                             253.1\n",
      "Df Residuals:                      72   BIC:                             257.8\n",
      "Df Model:                           1                                         \n",
      "Covariance Type:            nonrobust                                         \n",
      "==============================================================================\n",
      "                 coef    std err          t      P>|t|      [0.025      0.975]\n",
      "------------------------------------------------------------------------------\n",
      "Intercept      9.5276      0.548     17.382      0.000       8.435      10.620\n",
      "logem4        -0.6468      0.115     -5.614      0.000      -0.876      -0.417\n",
      "==============================================================================\n",
      "Omnibus:                        0.653   Durbin-Watson:                   1.836\n",
      "Prob(Omnibus):                  0.721   Jarque-Bera (JB):                0.731\n",
      "Skew:                          -0.044   Prob(JB):                        0.694\n",
      "Kurtosis:                       2.521   Cond. No.                         17.7\n",
      "==============================================================================\n",
      "\n",
      "Warnings:\n",
      "[1] Standard Errors assume that the covariance matrix of the errors is correctly specified.\n"
     ]
    }
   ],
   "source": [
    "print(first_stage.summary())"
   ]
  },
  {
   "cell_type": "code",
   "execution_count": 141,
   "metadata": {},
   "outputs": [
    {
     "data": {
      "text/html": [
       "<table class=\"simpletable\">\n",
       "<caption>First Stage Estimation Results</caption>\n",
       "<tr>\n",
       "               <td></td>                <th>avexpr</th>   \n",
       "</tr>\n",
       "<tr>\n",
       "  <th>R-squared</th>                    <td>0.3047</td>   \n",
       "</tr>\n",
       "<tr>\n",
       "  <th>Partial R-squared</th>            <td>0.3047</td>   \n",
       "</tr>\n",
       "<tr>\n",
       "  <th>Shea's R-squared</th>             <td>0.3047</td>   \n",
       "</tr>\n",
       "<tr>\n",
       "  <th>Partial F-statistic</th>          <td>26.558</td>   \n",
       "</tr>\n",
       "<tr>\n",
       "  <th>P-value (Partial F-stat)</th>    <td>2.558e-07</td> \n",
       "</tr>\n",
       "<tr>\n",
       "  <th>Partial F-stat Distn</th>         <td>chi2(1)</td>  \n",
       "</tr>\n",
       "<tr>\n",
       "  <th>==========================</th> <td>===========</td>\n",
       "</tr>\n",
       "<tr>\n",
       "  <th>Intercept</th>                    <td>9.5146</td>   \n",
       "</tr>\n",
       "<tr>\n",
       "  <th></th>                            <td>(16.889)</td>  \n",
       "</tr>\n",
       "<tr>\n",
       "  <th>logem4</th>                       <td>-0.6314</td>  \n",
       "</tr>\n",
       "<tr>\n",
       "  <th></th>                            <td>(-5.1534)</td> \n",
       "</tr>\n",
       "</table><br/><br/>T-stats reported in parentheses<br/>T-stats use same covariance type as original model<br/>id: 0x7f56093effd0"
      ],
      "text/plain": [
       "    First Stage Estimation Results    \n",
       "======================================\n",
       "                                avexpr\n",
       "--------------------------------------\n",
       "R-squared                       0.3047\n",
       "Partial R-squared               0.3047\n",
       "Shea's R-squared                0.3047\n",
       "Partial F-statistic             26.558\n",
       "P-value (Partial F-stat)     2.558e-07\n",
       "Partial F-stat Distn           chi2(1)\n",
       "========================== ===========\n",
       "Intercept                       9.5146\n",
       "                              (16.889)\n",
       "logem4                         -0.6314\n",
       "                             (-5.1534)\n",
       "--------------------------------------\n",
       "\n",
       "T-stats reported in parentheses\n",
       "T-stats use same covariance type as original model\n",
       "FirstStageResults, id: 0x7f56093effd0"
      ]
     },
     "execution_count": 141,
     "metadata": {},
     "output_type": "execute_result"
    }
   ],
   "source": [
    "iv_results.first_stage"
   ]
  },
  {
   "cell_type": "code",
   "execution_count": 142,
   "metadata": {},
   "outputs": [
    {
     "data": {
      "text/html": [
       "<div>\n",
       "<style scoped>\n",
       "    .dataframe tbody tr th:only-of-type {\n",
       "        vertical-align: middle;\n",
       "    }\n",
       "\n",
       "    .dataframe tbody tr th {\n",
       "        vertical-align: top;\n",
       "    }\n",
       "\n",
       "    .dataframe thead th {\n",
       "        text-align: right;\n",
       "    }\n",
       "</style>\n",
       "<table border=\"1\" class=\"dataframe\">\n",
       "  <thead>\n",
       "    <tr style=\"text-align: right;\">\n",
       "      <th></th>\n",
       "      <th>rsquared</th>\n",
       "      <th>partial.rsquared</th>\n",
       "      <th>shea.rsquared</th>\n",
       "      <th>f.stat</th>\n",
       "      <th>f.pval</th>\n",
       "      <th>f.dist</th>\n",
       "    </tr>\n",
       "  </thead>\n",
       "  <tbody>\n",
       "    <tr>\n",
       "      <td>avexpr</td>\n",
       "      <td>0.304692</td>\n",
       "      <td>0.304692</td>\n",
       "      <td>0.304692</td>\n",
       "      <td>26.557647</td>\n",
       "      <td>2.557902e-07</td>\n",
       "      <td>chi2(1)</td>\n",
       "    </tr>\n",
       "  </tbody>\n",
       "</table>\n",
       "</div>"
      ],
      "text/plain": [
       "        rsquared  partial.rsquared  shea.rsquared     f.stat        f.pval  \\\n",
       "avexpr  0.304692          0.304692       0.304692  26.557647  2.557902e-07   \n",
       "\n",
       "         f.dist  \n",
       "avexpr  chi2(1)  "
      ]
     },
     "execution_count": 142,
     "metadata": {},
     "output_type": "execute_result"
    }
   ],
   "source": [
    "iv_results.first_stage.diagnostics"
   ]
  },
  {
   "cell_type": "code",
   "execution_count": 143,
   "metadata": {},
   "outputs": [],
   "source": [
    "weblink  = 'https://economics.mit.edu/files/5137' # acemoglus file store\n",
    "data_dir = '../data/'  # where i want data to be saved\n",
    "zip_name = 'table5.zip' # what I wanna download\n",
    "table    = 'table5'      # where I want the unzipped stuff to be saved to (inside data_dir)"
   ]
  },
  {
   "cell_type": "code",
   "execution_count": 144,
   "metadata": {},
   "outputs": [
    {
     "name": "stderr",
     "output_type": "stream",
     "text": [
      "/home/lachlan/anaconda3/lib/python3.7/site-packages/urllib3/connectionpool.py:847: InsecureRequestWarning: Unverified HTTPS request is being made. Adding certificate verification is strongly advised. See: https://urllib3.readthedocs.io/en/latest/advanced-usage.html#ssl-warnings\n",
      "  InsecureRequestWarning)\n"
     ]
    }
   ],
   "source": [
    "tab5_df = ajr.download_data(weblink, data_dir, zip_name, table)"
   ]
  },
  {
   "cell_type": "code",
   "execution_count": 145,
   "metadata": {},
   "outputs": [
    {
     "data": {
      "text/html": [
       "<div>\n",
       "<style scoped>\n",
       "    .dataframe tbody tr th:only-of-type {\n",
       "        vertical-align: middle;\n",
       "    }\n",
       "\n",
       "    .dataframe tbody tr th {\n",
       "        vertical-align: top;\n",
       "    }\n",
       "\n",
       "    .dataframe thead th {\n",
       "        text-align: right;\n",
       "    }\n",
       "</style>\n",
       "<table border=\"1\" class=\"dataframe\">\n",
       "  <thead>\n",
       "    <tr style=\"text-align: right;\">\n",
       "      <th></th>\n",
       "      <th>shortnam</th>\n",
       "      <th>catho80</th>\n",
       "      <th>muslim80</th>\n",
       "      <th>lat_abst</th>\n",
       "      <th>no_cpm80</th>\n",
       "      <th>f_brit</th>\n",
       "      <th>f_french</th>\n",
       "      <th>avexpr</th>\n",
       "      <th>sjlofr</th>\n",
       "      <th>logpgp95</th>\n",
       "      <th>logem4</th>\n",
       "      <th>baseco</th>\n",
       "    </tr>\n",
       "  </thead>\n",
       "  <tbody>\n",
       "    <tr>\n",
       "      <td>0</td>\n",
       "      <td>AFG</td>\n",
       "      <td>0.000000</td>\n",
       "      <td>99.300003</td>\n",
       "      <td>0.366667</td>\n",
       "      <td>0.699997</td>\n",
       "      <td>1.0</td>\n",
       "      <td>0.0</td>\n",
       "      <td>NaN</td>\n",
       "      <td>1.0</td>\n",
       "      <td>NaN</td>\n",
       "      <td>4.540098</td>\n",
       "      <td>NaN</td>\n",
       "    </tr>\n",
       "    <tr>\n",
       "      <td>1</td>\n",
       "      <td>AGO</td>\n",
       "      <td>68.699997</td>\n",
       "      <td>0.000000</td>\n",
       "      <td>0.136667</td>\n",
       "      <td>11.500004</td>\n",
       "      <td>0.0</td>\n",
       "      <td>0.0</td>\n",
       "      <td>5.363636</td>\n",
       "      <td>1.0</td>\n",
       "      <td>7.770645</td>\n",
       "      <td>5.634789</td>\n",
       "      <td>1.0</td>\n",
       "    </tr>\n",
       "    <tr>\n",
       "      <td>2</td>\n",
       "      <td>ARE</td>\n",
       "      <td>0.400000</td>\n",
       "      <td>94.900002</td>\n",
       "      <td>0.266667</td>\n",
       "      <td>4.399999</td>\n",
       "      <td>1.0</td>\n",
       "      <td>0.0</td>\n",
       "      <td>7.181818</td>\n",
       "      <td>0.0</td>\n",
       "      <td>9.804219</td>\n",
       "      <td>NaN</td>\n",
       "      <td>NaN</td>\n",
       "    </tr>\n",
       "    <tr>\n",
       "      <td>3</td>\n",
       "      <td>ARG</td>\n",
       "      <td>91.599998</td>\n",
       "      <td>0.200000</td>\n",
       "      <td>0.377778</td>\n",
       "      <td>5.500001</td>\n",
       "      <td>0.0</td>\n",
       "      <td>0.0</td>\n",
       "      <td>6.386364</td>\n",
       "      <td>1.0</td>\n",
       "      <td>9.133459</td>\n",
       "      <td>4.232656</td>\n",
       "      <td>1.0</td>\n",
       "    </tr>\n",
       "    <tr>\n",
       "      <td>4</td>\n",
       "      <td>ARM</td>\n",
       "      <td>0.000000</td>\n",
       "      <td>0.000000</td>\n",
       "      <td>0.444444</td>\n",
       "      <td>100.000000</td>\n",
       "      <td>0.0</td>\n",
       "      <td>0.0</td>\n",
       "      <td>NaN</td>\n",
       "      <td>0.0</td>\n",
       "      <td>7.682482</td>\n",
       "      <td>NaN</td>\n",
       "      <td>NaN</td>\n",
       "    </tr>\n",
       "  </tbody>\n",
       "</table>\n",
       "</div>"
      ],
      "text/plain": [
       "  shortnam    catho80   muslim80  lat_abst    no_cpm80  f_brit  f_french  \\\n",
       "0      AFG   0.000000  99.300003  0.366667    0.699997     1.0       0.0   \n",
       "1      AGO  68.699997   0.000000  0.136667   11.500004     0.0       0.0   \n",
       "2      ARE   0.400000  94.900002  0.266667    4.399999     1.0       0.0   \n",
       "3      ARG  91.599998   0.200000  0.377778    5.500001     0.0       0.0   \n",
       "4      ARM   0.000000   0.000000  0.444444  100.000000     0.0       0.0   \n",
       "\n",
       "     avexpr  sjlofr  logpgp95    logem4  baseco  \n",
       "0       NaN     1.0       NaN  4.540098     NaN  \n",
       "1  5.363636     1.0  7.770645  5.634789     1.0  \n",
       "2  7.181818     0.0  9.804219       NaN     NaN  \n",
       "3  6.386364     1.0  9.133459  4.232656     1.0  \n",
       "4       NaN     0.0  7.682482       NaN     NaN  "
      ]
     },
     "execution_count": 145,
     "metadata": {},
     "output_type": "execute_result"
    }
   ],
   "source": [
    "tab5_df.head()"
   ]
  },
  {
   "cell_type": "code",
   "execution_count": 147,
   "metadata": {},
   "outputs": [
    {
     "name": "stderr",
     "output_type": "stream",
     "text": [
      "/home/lachlan/anaconda3/lib/python3.7/site-packages/linearmodels/utility.py:478: MissingValueWarning: \n",
      "Inputs contain missing values. Dropping rows with missing observations.\n",
      "  warnings.warn(missing_value_warning_msg, MissingValueWarning)\n"
     ]
    }
   ],
   "source": [
    "iv_tab5 = IV2SLS.from_formula(\"logpgp95 ~ f_brit + f_french + sjlofr + [avexpr ~ logem4]\", data = tab5_df).fit()"
   ]
  },
  {
   "cell_type": "code",
   "execution_count": 148,
   "metadata": {},
   "outputs": [
    {
     "name": "stdout",
     "output_type": "stream",
     "text": [
      "                          IV-2SLS Estimation Summary                          \n",
      "==============================================================================\n",
      "Dep. Variable:               logpgp95   R-squared:                      0.9829\n",
      "Estimator:                    IV-2SLS   Adj. R-squared:                 0.9818\n",
      "No. Observations:                  70   F-statistic:                    3862.2\n",
      "Date:                Fri, Jan 31 2020   P-value (F-stat)                0.0000\n",
      "Time:                        07:25:08   Distribution:                  chi2(4)\n",
      "Cov. Estimator:                robust                                         \n",
      "                                                                              \n",
      "                             Parameter Estimates                              \n",
      "==============================================================================\n",
      "            Parameter  Std. Err.     T-stat    P-value    Lower CI    Upper CI\n",
      "------------------------------------------------------------------------------\n",
      "f_brit         0.0341     0.6517     0.0523     0.9583     -1.2432      1.3114\n",
      "f_french      -0.1334     0.3264    -0.4086     0.6829     -0.7732      0.5064\n",
      "sjlofr         0.9973     0.6274     1.5895     0.1119     -0.2324      2.2270\n",
      "avexpr         1.1450     0.0981     11.670     0.0000      0.9527      1.3374\n",
      "==============================================================================\n",
      "\n",
      "Endogenous: avexpr\n",
      "Instruments: logem4\n",
      "Robust Covariance (Heteroskedastic)\n",
      "Debiased: False\n"
     ]
    }
   ],
   "source": [
    "print(iv_tab5.summary)"
   ]
  },
  {
   "cell_type": "code",
   "execution_count": 149,
   "metadata": {},
   "outputs": [
    {
     "data": {
      "text/html": [
       "<table class=\"simpletable\">\n",
       "<caption>First Stage Estimation Results</caption>\n",
       "<tr>\n",
       "               <td></td>                <th>avexpr</th>   \n",
       "</tr>\n",
       "<tr>\n",
       "  <th>R-squared</th>                    <td>0.8707</td>   \n",
       "</tr>\n",
       "<tr>\n",
       "  <th>Partial R-squared</th>            <td>0.2153</td>   \n",
       "</tr>\n",
       "<tr>\n",
       "  <th>Shea's R-squared</th>             <td>0.2153</td>   \n",
       "</tr>\n",
       "<tr>\n",
       "  <th>Partial F-statistic</th>          <td>9.2586</td>   \n",
       "</tr>\n",
       "<tr>\n",
       "  <th>P-value (Partial F-stat)</th>     <td>0.0023</td>   \n",
       "</tr>\n",
       "<tr>\n",
       "  <th>Partial F-stat Distn</th>         <td>chi2(1)</td>  \n",
       "</tr>\n",
       "<tr>\n",
       "  <th>==========================</th> <td>===========</td>\n",
       "</tr>\n",
       "<tr>\n",
       "  <th>f_brit</th>                       <td>4.0039</td>   \n",
       "</tr>\n",
       "<tr>\n",
       "  <th></th>                            <td>(3.8572)</td>  \n",
       "</tr>\n",
       "<tr>\n",
       "  <th>f_french</th>                     <td>-1.1656</td>  \n",
       "</tr>\n",
       "<tr>\n",
       "  <th></th>                            <td>(-2.0385)</td> \n",
       "</tr>\n",
       "<tr>\n",
       "  <th>sjlofr</th>                       <td>3.1137</td>   \n",
       "</tr>\n",
       "<tr>\n",
       "  <th></th>                            <td>(2.9431)</td>  \n",
       "</tr>\n",
       "<tr>\n",
       "  <th>logem4</th>                       <td>0.6985</td>   \n",
       "</tr>\n",
       "<tr>\n",
       "  <th></th>                            <td>(3.0428)</td>  \n",
       "</tr>\n",
       "</table><br/><br/>T-stats reported in parentheses<br/>T-stats use same covariance type as original model<br/>id: 0x7f5609d2c290"
      ],
      "text/plain": [
       "    First Stage Estimation Results    \n",
       "======================================\n",
       "                                avexpr\n",
       "--------------------------------------\n",
       "R-squared                       0.8707\n",
       "Partial R-squared               0.2153\n",
       "Shea's R-squared                0.2153\n",
       "Partial F-statistic             9.2586\n",
       "P-value (Partial F-stat)        0.0023\n",
       "Partial F-stat Distn           chi2(1)\n",
       "========================== ===========\n",
       "f_brit                          4.0039\n",
       "                              (3.8572)\n",
       "f_french                       -1.1656\n",
       "                             (-2.0385)\n",
       "sjlofr                          3.1137\n",
       "                              (2.9431)\n",
       "logem4                          0.6985\n",
       "                              (3.0428)\n",
       "--------------------------------------\n",
       "\n",
       "T-stats reported in parentheses\n",
       "T-stats use same covariance type as original model\n",
       "FirstStageResults, id: 0x7f5609d2c290"
      ]
     },
     "execution_count": 149,
     "metadata": {},
     "output_type": "execute_result"
    }
   ],
   "source": [
    "iv_tab5.first_stage"
   ]
  },
  {
   "cell_type": "code",
   "execution_count": 150,
   "metadata": {},
   "outputs": [
    {
     "data": {
      "text/plain": [
       "Wu-Hausman test of exogeneity\n",
       "H0: All endogenous variables are exogenous\n",
       "Statistic: 7.7610\n",
       "P-value: 0.0070\n",
       "Distributed: F(1,65)\n",
       "WaldTestStatistic, id: 0x7f56093a8a10"
      ]
     },
     "execution_count": 150,
     "metadata": {},
     "output_type": "execute_result"
    }
   ],
   "source": [
    "iv_tab5.wu_hausman()"
   ]
  },
  {
   "cell_type": "code",
   "execution_count": 153,
   "metadata": {},
   "outputs": [
    {
     "ename": "TypeError",
     "evalue": "fit() missing 1 required positional argument: 'self'",
     "output_type": "error",
     "traceback": [
      "\u001b[0;31m---------------------------------------------------------------------------\u001b[0m",
      "\u001b[0;31mTypeError\u001b[0m                                 Traceback (most recent call last)",
      "\u001b[0;32m<ipython-input-153-e36320682fb1>\u001b[0m in \u001b[0;36m<module>\u001b[0;34m\u001b[0m\n\u001b[0;32m----> 1\u001b[0;31m \u001b[0mhelp\u001b[0m\u001b[0;34m(\u001b[0m\u001b[0mIV2SLS\u001b[0m\u001b[0;34m.\u001b[0m\u001b[0mfit\u001b[0m\u001b[0;34m(\u001b[0m\u001b[0;34m)\u001b[0m\u001b[0;34m.\u001b[0m\u001b[0mwu_hausman\u001b[0m\u001b[0;34m(\u001b[0m\u001b[0;34m)\u001b[0m\u001b[0;34m)\u001b[0m\u001b[0;34m\u001b[0m\u001b[0;34m\u001b[0m\u001b[0m\n\u001b[0m",
      "\u001b[0;31mTypeError\u001b[0m: fit() missing 1 required positional argument: 'self'"
     ]
    }
   ],
   "source": [
    "help(IV2SLS.fit().wu_hausman())"
   ]
  },
  {
   "cell_type": "code",
   "execution_count": 151,
   "metadata": {},
   "outputs": [
    {
     "data": {
      "text/plain": [
       "linearmodels.iv.results.IVResults"
      ]
     },
     "execution_count": 151,
     "metadata": {},
     "output_type": "execute_result"
    }
   ],
   "source": [
    "type(iv_tab5)"
   ]
  },
  {
   "cell_type": "code",
   "execution_count": null,
   "metadata": {},
   "outputs": [],
   "source": [
    "# 5?\n",
    "\n",
    "# cant be done right now (at - least without too much work)"
   ]
  }
 ],
 "metadata": {
  "kernelspec": {
   "display_name": "Python 3",
   "language": "python",
   "name": "python3"
  },
  "language_info": {
   "codemirror_mode": {
    "name": "ipython",
    "version": 3
   },
   "file_extension": ".py",
   "mimetype": "text/x-python",
   "name": "python",
   "nbconvert_exporter": "python",
   "pygments_lexer": "ipython3",
   "version": "3.7.4"
  }
 },
 "nbformat": 4,
 "nbformat_minor": 4
}
